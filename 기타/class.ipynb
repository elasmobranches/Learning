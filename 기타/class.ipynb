{
 "cells": [
  {
   "cell_type": "code",
   "execution_count": 16,
   "metadata": {},
   "outputs": [],
   "source": [
    "class JSS:\n",
    "    def __init__(self) :\n",
    "        self.name = input('이름 = ')\n",
    "        self.age = input('나이 : ')\n",
    "        print('JSS 클래스 선언')\n",
    "    def show(self) :   \n",
    "        print('나의 이름은{}, 나이는{}세 입니다'.format(self.name,self.age)) \n"
   ]
  },
  {
   "cell_type": "code",
   "execution_count": 17,
   "metadata": {},
   "outputs": [
    {
     "name": "stdout",
     "output_type": "stream",
     "text": [
      "JSS 클래스 선언\n"
     ]
    }
   ],
   "source": [
    "a = JSS()"
   ]
  },
  {
   "cell_type": "code",
   "execution_count": 18,
   "metadata": {},
   "outputs": [
    {
     "name": "stdout",
     "output_type": "stream",
     "text": [
      "나의 이름은홍길동, 나이는45세 입니다\n"
     ]
    }
   ],
   "source": [
    "a.show()"
   ]
  },
  {
   "cell_type": "markdown",
   "metadata": {},
   "source": [
    "클래스를 선언하는 순간 실행되는 함수 init 함수 안의 내용 실행\n",
    "show는 show로 실행해야 보이는 정상적인 함수"
   ]
  },
  {
   "cell_type": "markdown",
   "metadata": {},
   "source": [
    "self는 클래스를 저장할 변수\n",
    "show는 입력변수가 없는 것이다\n",
    "양식 업데이트는 클래스에서 상속이라는 개념을 활용한다"
   ]
  },
  {
   "cell_type": "code",
   "execution_count": 22,
   "metadata": {},
   "outputs": [],
   "source": [
    "class JSS2(JSS) :\n",
    "    def __init__(self) :\n",
    "        super().__init__() # JSS 클래스를 의미한다\n",
    "        self.gender = input('성별 : ')\n",
    "    def show(self) :   \n",
    "        print('나의 이름은 {}, 성별은 {}, 나이는{}세 입니다'.format(self.name,self.gender, self.age))    \n",
    "        \n"
   ]
  },
  {
   "cell_type": "code",
   "execution_count": 23,
   "metadata": {},
   "outputs": [
    {
     "name": "stdout",
     "output_type": "stream",
     "text": [
      "JSS 클래스 선언\n"
     ]
    }
   ],
   "source": [
    "a = JSS2()"
   ]
  },
  {
   "cell_type": "code",
   "execution_count": 24,
   "metadata": {},
   "outputs": [
    {
     "name": "stdout",
     "output_type": "stream",
     "text": [
      "나의 이름은 홍길동, 성별은 젠더리스, 나이는28세 입니다\n"
     ]
    }
   ],
   "source": [
    "a.show()"
   ]
  },
  {
   "cell_type": "markdown",
   "metadata": {},
   "source": [
    "상속받는 클래스를 괄호 안에 넣어준다\n",
    "기존의 내용을 사용하려면 super를 사용 super는 JSS를 의미한다\n",
    "새로 덮어썼지만 기존의 내용을 들고 온다\n",
    "아예 똑같은 걸 만들고 싶다면 pass"
   ]
  },
  {
   "cell_type": "code",
   "execution_count": null,
   "metadata": {},
   "outputs": [],
   "source": [
    "class JSS2(JSS) :\n",
    "    pass\n",
    "\n",
    "a = JSS2() \n",
    "\n",
    "a.show()"
   ]
  }
 ],
 "metadata": {
  "kernelspec": {
   "display_name": "Python 3",
   "language": "python",
   "name": "python3"
  },
  "language_info": {
   "codemirror_mode": {
    "name": "ipython",
    "version": 3
   },
   "file_extension": ".py",
   "mimetype": "text/x-python",
   "name": "python",
   "nbconvert_exporter": "python",
   "pygments_lexer": "ipython3",
   "version": "3.12.1"
  }
 },
 "nbformat": 4,
 "nbformat_minor": 2
}
