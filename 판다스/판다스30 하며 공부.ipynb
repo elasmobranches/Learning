{
 "cells": [
  {
   "cell_type": "markdown",
   "metadata": {},
   "source": [
    "# 데이터조건들을 만족시키는 데이터프레임으로 가공한다"
   ]
  },
  {
   "cell_type": "code",
   "execution_count": null,
   "metadata": {},
   "outputs": [],
   "source": [
    "import pandas as pd\n",
    "\n",
    "def big_countries(world: pd.DataFrame) :\n",
    "    big_ct = world[(world['area'] >= 3000000) | (world['population'] >= 25000000)][['name','population','area']]\n",
    "    return big_ct"
   ]
  },
  {
   "cell_type": "markdown",
   "metadata": {},
   "source": [
    "### 데이터 프레임 붙이기 , isna는 결측치를 확인하여 True, False로 반환하는 함수\n",
    "\n",
    "![Untitled](https://prod-files-secure.s3.us-west-2.amazonaws.com/5b00b930-a7fb-48ca-8d83-95b1692e479d/38771e55-3760-4343-b0f7-3cad6d808459/Untitled.png)\n",
    "\n",
    "![Untitled](https://prod-files-secure.s3.us-west-2.amazonaws.com/5b00b930-a7fb-48ca-8d83-95b1692e479d/0df73a3a-aa95-4e44-becb-11683c19bf9e/Untitled.png)\n",
    "\n",
    "![Untitled](https://prod-files-secure.s3.us-west-2.amazonaws.com/5b00b930-a7fb-48ca-8d83-95b1692e479d/58ff68b1-49d7-485a-a4f2-3ffacb2212de/Untitled.png)\n",
    "\n",
    "sort_values, rename(columns={’전이름’:’후이름’})은 새로운 변수에 입력받는게 아니라면 inplace = True\n",
    "\n",
    "![Untitled](https://prod-files-secure.s3.us-west-2.amazonaws.com/5b00b930-a7fb-48ca-8d83-95b1692e479d/3ab219cb-ea5e-476a-8126-2ec0d9e7194f/Untitled.png)\n",
    "\n",
    "메모리를 절약할 수 있으며, 코드의 간결성을 높여주구나\n",
    "\n",
    "df[].str.strip - 앞 뒤 공백 제거 lstrip - 앞 공백을 제거 rstrip - 뒤 공백을 제거\n",
    "\n",
    "capitalize() - 앞문자 대문자 변경 swapcase - 소문자는 대문자 대문자는 소문자로 변경"
   ]
  },
  {
   "cell_type": "code",
   "execution_count": null,
   "metadata": {},
   "outputs": [],
   "source": [
    "df['email_replace'] = df['email'].str.replace(pat='.', repl='_', regex=False)\n",
    "regex=False = 첫 문자만 변경. 설정 안하면 모든 문자를 대체 한다"
   ]
  },
  {
   "cell_type": "markdown",
   "metadata": {},
   "source": [
    "**^는 문자열의 시작 *는 문자가 0개이상 연속해서 올 수 있음을 의미 $는 문자열의 끝 # [a-zA-Z] : 알파벳 모두 [0-9] : 숫자 모두 이 안에 메타 문자를 '^' 넣어서 '~빼고'의 의미로 쓸 수 있다. [^a-zA-Z] : 알파벳 빼고 모두 [^0-9] : 숫자 빼고 모두**\n",
    "\n",
    "**'.'은 줄바꿈 문자를 제외한 어떤 문자도 올 수 있다**\n",
    "\n",
    "[[pandas] 문자열 다루기2 - 정규 표현식](https://velog.io/@seonydg/pandas-문자열-다루기2-정규-표현식)\n",
    "\n",
    "str,match나 str.contain 함수와 쓰인다"
   ]
  }
 ],
 "metadata": {
  "language_info": {
   "name": "python"
  }
 },
 "nbformat": 4,
 "nbformat_minor": 2
}
