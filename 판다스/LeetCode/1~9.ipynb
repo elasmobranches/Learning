{
 "cells": [
  {
   "cell_type": "markdown",
   "metadata": {},
   "source": [
    "# 공부를 하면서 느낀 것들\n",
    "***"
   ]
  },
  {
   "cell_type": "markdown",
   "metadata": {},
   "source": [
    "595. Big Countries"
   ]
  },
  {
   "cell_type": "code",
   "execution_count": null,
   "metadata": {},
   "outputs": [],
   "source": [
    "import pandas as pd\n",
    "\n",
    "def big_countries(world: pd.DataFrame) :\n",
    "    big = world[(world['area']>=3000000) | (world['population']>=25000000)]\n",
    "    return big[['name','population','area']]\n",
    "###--\n",
    "import pandas as pd\n",
    "\n",
    "def big_countries(world: pd.DataFrame) -> pd.DataFrame:\n",
    "    mask = (world.area>=3000000) | (world.population>=25000000) # -> ()  안 씌워주면 오류남 .말고 [] 사용이 안전\n",
    "    return world[mask][['name','population','area']]\n",
    "# 이런 식으로 변수로 조건을 설정해서 그대로 대입하면 더 간결하겠구나"
   ]
  },
  {
   "cell_type": "markdown",
   "metadata": {},
   "source": [
    "## 1757. Recyclable and Low Fat Products"
   ]
  },
  {
   "cell_type": "code",
   "execution_count": null,
   "metadata": {},
   "outputs": [],
   "source": [
    "import pandas as pd\n",
    "\n",
    "def find_products(products: pd.DataFrame) -> pd.DataFrame:\n",
    "    a = (products['low_fats'] == 'Y') & (products['recyclable'] == 'Y')\n",
    "\n",
    "    return products[a][['product_id']]\n",
    "#1번 문제의 경험을 바탕으로 2번은 쉽게 풀었다"
   ]
  },
  {
   "cell_type": "code",
   "execution_count": null,
   "metadata": {},
   "outputs": [],
   "source": []
  },
  {
   "cell_type": "markdown",
   "metadata": {},
   "source": []
  }
 ],
 "metadata": {
  "language_info": {
   "name": "python"
  }
 },
 "nbformat": 4,
 "nbformat_minor": 2
}
