{
 "cells": [
  {
   "cell_type": "markdown",
   "metadata": {},
   "source": [
    "# *공부를 하면서 느낀 것들\n",
    "***"
   ]
  },
  {
   "cell_type": "markdown",
   "metadata": {},
   "source": [
    "595. Big Countries"
   ]
  },
  {
   "cell_type": "code",
   "execution_count": null,
   "metadata": {},
   "outputs": [],
   "source": [
    "import pandas as pd\n",
    "\n",
    "def big_countries(world: pd.DataFrame) :\n",
    "    big = world[(world['area']>=3000000) | (world['population']>=25000000)]\n",
    "    return big[['name','population','area']]\n",
    "###--\n",
    "import pandas as pd\n",
    "\n",
    "def big_countries(world: pd.DataFrame) -> pd.DataFrame:\n",
    "    mask = (world.area>=3000000) | (world.population>=25000000) # -> ()  안 씌워주면 오류남 .말고 [] 사용이 안전\n",
    "    return world[mask][['name','population','area']]\n",
    "# 이런 식으로 변수로 조건을 설정해서 그대로 대입하면 더 간결하겠구나"
   ]
  },
  {
   "cell_type": "markdown",
   "metadata": {},
   "source": [
    "## 1757. Recyclable and Low Fat Products"
   ]
  },
  {
   "cell_type": "code",
   "execution_count": null,
   "metadata": {},
   "outputs": [],
   "source": [
    "import pandas as pd\n",
    "\n",
    "def find_products(products: pd.DataFrame) -> pd.DataFrame:\n",
    "    a = (products['low_fats'] == 'Y') & (products['recyclable'] == 'Y')\n",
    "\n",
    "    return products[a][['product_id']]\n",
    "#1번 문제의 경험을 바탕으로 2번은 쉽게 풀었다"
   ]
  },
  {
   "cell_type": "markdown",
   "metadata": {},
   "source": [
    "183. Customers Who Never Order"
   ]
  },
  {
   "cell_type": "code",
   "execution_count": null,
   "metadata": {},
   "outputs": [],
   "source": [
    "\n",
    "def find_customers(customers: pd.DataFrame, orders: pd.DataFrame) -> pd.DataFrame:\n",
    "    # Select the customers whose 'id' is not present in the orders DataFrame's 'customerId' column.\n",
    "    df = customers[~customers['id'].isin(orders['customerId'])]\n",
    "\n",
    "    # Build a DataFrame that only contains the 'name' column and rename it as 'Customers'.\n",
    "    df = df[['name']].rename(columns={'name': 'Customers'})\n",
    "\n",
    "    return df\n",
    "# ---\n",
    "import pandas as pd\n",
    "\n",
    "def find_customers(customers: pd.DataFrame, orders: pd.DataFrame) -> pd.DataFrame:\n",
    "\n",
    "    # new dataframe created by merging customers and orders\n",
    "    newDF = pd.merge(customers, orders, left_on = 'id', right_on = 'customerId', how = 'left')\n",
    "\n",
    "    # selecting the rows where customerId is null\n",
    "    newDF = newDF[newDF['customerId'].isna()]\n",
    "\n",
    "    # returning the names of the customers in a renamed column\n",
    "    return newDF[['name']].rename(columns={'name':'Customers'})"
   ]
  },
  {
   "cell_type": "markdown",
   "metadata": {},
   "source": [
    "*첫째날 문제 중 가장 어려웠던 문제 merge를 잘 활용해야 한다*"
   ]
  },
  {
   "cell_type": "markdown",
   "metadata": {},
   "source": [
    "[pd.merge](https://mizykk.tistory.com/82)"
   ]
  },
  {
   "cell_type": "markdown",
   "metadata": {},
   "source": [
    "1148. Article Views I"
   ]
  },
  {
   "cell_type": "code",
   "execution_count": null,
   "metadata": {},
   "outputs": [],
   "source": [
    "import pandas as pd\n",
    "\n",
    "def article_views(views: pd.DataFrame) -> pd.DataFrame:\n",
    "    new = views[views['author_id']==views['viewer_id']]\n",
    "    new.drop_duplicates(subset = ['author_id'], inplace=True)\n",
    "    new = new.sort_values(by=['author_id'])\n",
    "    return new[['author_id']].rename(columns={'author_id':'id'})"
   ]
  },
  {
   "cell_type": "markdown",
   "metadata": {},
   "source": [
    "drop_duplicates는 subset\n",
    "\n",
    "sort_values는 by=[’’] 와 inplace= True\n",
    "\n",
    "rename(colums={’바꾸려는열의이름’:’새로운이름’})"
   ]
  },
  {
   "cell_type": "markdown",
   "metadata": {},
   "source": [
    "1683. Invalid Tweets"
   ]
  },
  {
   "cell_type": "code",
   "execution_count": null,
   "metadata": {},
   "outputs": [],
   "source": [
    "import pandas as pd\n",
    "\n",
    "def invalid_tweets(tweets: pd.DataFrame) -> pd.DataFrame:\n",
    "    long = tweets[tweets['content'].str.len()>15]\n",
    "    return long[['tweet_id']]\n",
    "\n",
    "# ---\n",
    "import pandas as pd\n",
    "\n",
    "def invalid_tweets(tweets: pd.DataFrame) -> pd.DataFrame:\n",
    "    return tweets.loc[tweets['content'].str.len() > 15, ['tweet_id']]\n",
    "# 이런식으로 loc을 이용할 수도 있다"
   ]
  },
  {
   "cell_type": "markdown",
   "metadata": {},
   "source": [
    "1873. Calculate Special Bonus"
   ]
  },
  {
   "cell_type": "code",
   "execution_count": null,
   "metadata": {},
   "outputs": [],
   "source": [
    "import pandas as pd\n",
    "\n",
    "def calculate_special_bonus(employees: pd.DataFrame) -> pd.DataFrame:\n",
    "    employees.loc[(employees['employee_id']%2==0) | (employees['name'].str[0]=='M'),'salary'] = 0 \n",
    "    employees.sort_values(by=['employee_id'],inplace=True)\n",
    "    return employees[['employee_id','salary']].rename(columns={'salary':'bonus'})"
   ]
  },
  {
   "cell_type": "markdown",
   "metadata": {},
   "source": [
    "### *loc과 =을 함께 사용하면 원본 데이터프레임이 수정된다*"
   ]
  },
  {
   "cell_type": "markdown",
   "metadata": {},
   "source": [
    "1667. Fix Names in a Table"
   ]
  },
  {
   "cell_type": "code",
   "execution_count": null,
   "metadata": {},
   "outputs": [],
   "source": [
    "import pandas as pd\n",
    "\n",
    "def fix_names(users: pd.DataFrame) -> pd.DataFrame:\n",
    "    users['name'] = users['name'].str.capitalize()\n",
    "\n",
    "    return users.sort_values(by='user_id')\n"
   ]
  },
  {
   "cell_type": "markdown",
   "metadata": {},
   "source": [
    "열 안의 문자들만 변형시키는 문제\n",
    "풀이는 이 방식 밖에 없다\n",
    "\n",
    "[pandas 문자열 관련 함수](https://yganalyst.github.io/data_handling/memo_9/)"
   ]
  },
  {
   "cell_type": "markdown",
   "metadata": {},
   "source": [
    "1517. Find Users With Valid E-Mails\n",
    "### 정규 표현식\n",
    "[정규표현식](https://velog.io/@seonydg/pandas-%EB%AC%B8%EC%9E%90%EC%97%B4-%EB%8B%A4%EB%A3%A8%EA%B8%B02-%EC%A0%95%EA%B7%9C-%ED%91%9C%ED%98%84%EC%8B%9D)"
   ]
  },
  {
   "cell_type": "code",
   "execution_count": null,
   "metadata": {},
   "outputs": [],
   "source": [
    "import pandas as pd\n",
    "import re\n",
    "def valid_emails(users: pd.DataFrame) -> pd.DataFrame:\n",
    "    correct = '^[a-zA-Z][a-zA-Z0-9_.-]*@leetcode[.]com$'\n",
    "    users=  users[users['mail'].str.match(correct)]\n",
    "    return users"
   ]
  },
  {
   "cell_type": "markdown",
   "metadata": {},
   "source": [
    "1527. Patients With a Condition"
   ]
  },
  {
   "cell_type": "code",
   "execution_count": null,
   "metadata": {},
   "outputs": [],
   "source": [
    "def find_patients(patients: pd.DataFrame) -> pd.DataFrame:\n",
    "    new = '^DIAB1| DIAB1'\n",
    "    a = patients[patients['conditions'].str.contains(new)]\n",
    "    return a"
   ]
  },
  {
   "cell_type": "markdown",
   "metadata": {},
   "source": [
    "### *정규표현식에 R을 쓰는 이유*\n",
    "많은 경우 Python에서 원시 문자열을 나타내는 문자열 리터럴 앞에 **`r`** 접두사를 사용하는 것이 정규식 패턴에 반드시 필요한 것은 아니라는 말이 맞습니다. 그러나 특히 패턴에 백슬래시(**`\\`**)가 포함된 경우에는 원시 문자열이 백슬래시를 리터럴 문자로 처리하고 이스케이프 문자로 해석하지 않기 때문에 이는 좋은 사례로 간주됩니다.\n",
    "\n",
    "``^DIAB1|DIAB1'' 패턴이 있는 특정 경우에는 원시 문자열과 일반 문자열에서 다르게 처리되는 백슬래시나 기타 문자가 없습니다. 따라서 기술적으로 **`r`** 접두사를 사용할 필요가 없습니다. 패턴이 없어도 패턴은 동일하게 작동합니다.\n",
    "\n",
    "```python\n",
    "pythonCopy code\n",
    "pattern = '^DIAB1|DIAB1'\n",
    "```\n",
    "\n",
    "그러나 패턴에 백슬래시가 포함된 경우 오류를 방지하므로 Python의 정규식 패턴에 항상 원시 문자열을 사용하는 것이 좋습니다. 예를 들어, 패턴에서 리터럴 백슬래시를 일치시키거나 단어 경계에 **`\\b`**, 숫자에 **`\\d`** 등과 같은 특수 정규식 시퀀스를 사용하는 경우 원시 문자열 표기법이 중요해집니다. 패턴이 예상대로 작동합니다.\n",
    "\n",
    "요약하자면, 특정 패턴에 꼭 필요한 것은 아니지만, 명확성을 높이고 이스케이프 시퀀스와 관련된 잠재적인 문제를 피하기 위해 정규식 패턴 앞에 'r'을 사용하는 것이 일반적으로 권장됩니다."
   ]
  }
 ],
 "metadata": {
  "language_info": {
   "name": "python"
  }
 },
 "nbformat": 4,
 "nbformat_minor": 2
}
