{
 "cells": [
  {
   "cell_type": "markdown",
   "metadata": {},
   "source": [
    "결정 트리 분류기는 설명이 중요할 때 아주 유용한 모델이다\n",
    "\n",
    "결정 알고리즘을 사용하면 트리의 루트에서 시작해서 정보 이득이 최대가 되는 특성으로 데이터를 나눈다\n",
    "\n",
    "반복 과정을 통해 리프 노드가 순수해질 때까지 모든 자식 노드에서 이 분할 작업을 반복한다\n",
    "\n",
    "일반적으로 트리의 최대 깊이를 제한하여 트리를 가지치기한다"
   ]
  },
  {
   "cell_type": "code",
   "execution_count": null,
   "metadata": {},
   "outputs": [],
   "source": []
  }
 ],
 "metadata": {
  "kernelspec": {
   "display_name": "Python 3",
   "language": "python",
   "name": "python3"
  },
  "language_info": {
   "codemirror_mode": {
    "name": "ipython",
    "version": 3
   },
   "file_extension": ".py",
   "mimetype": "text/x-python",
   "name": "python",
   "nbconvert_exporter": "python",
   "pygments_lexer": "ipython3",
   "version": "3.12.1"
  }
 },
 "nbformat": 4,
 "nbformat_minor": 2
}
