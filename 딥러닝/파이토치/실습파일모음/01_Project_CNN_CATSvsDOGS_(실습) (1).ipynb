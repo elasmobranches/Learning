{
  "cells": [
    {
      "cell_type": "markdown",
      "metadata": {
        "id": "Q2eN5V51qgOC"
      },
      "source": [
        "## 환경설정\n",
        "\n",
        "1. http://braincrew2.iptime.org:8001 에 접속하여 회원가입해 주세요. (비밀번호는 단순하게 기입하시는 것을 권장 드려요. 예. 1234)\n",
        "2. `username` 에 이메일 형식의 아이디를 기입해 주세요.\n",
        "3. `password` 에 비밀번호를 기입해 주세요.\n"
      ]
    },
    {
      "cell_type": "code",
      "execution_count": null,
      "metadata": {
        "id": "PWxtIwS2qgOH"
      },
      "outputs": [],
      "source": [
        "project = \"CATSvsDOGS\"  # 수정하지 마세요\n",
        "username = \"\"  # 이메일아이디 (예시. abc@hello.com)\n",
        "password = \"\"  # 비밀번호"
      ]
    },
    {
      "cell_type": "markdown",
      "metadata": {
        "id": "iBa3A87-ZEtm"
      },
      "source": [
        "아래의 코드를 순서대로 실행해 주세요.\n"
      ]
    },
    {
      "cell_type": "code",
      "execution_count": null,
      "metadata": {
        "id": "MEPjkROcZEtm"
      },
      "outputs": [],
      "source": [
        "import os\n",
        "import requests\n",
        "\n",
        "if not os.path.exists(\"competition.py\"):\n",
        "    url = \"https://link.teddynote.com/COMPT\"\n",
        "    file_name = \"competition.py\"\n",
        "    response = requests.get(url)\n",
        "    with open(file_name, \"wb\") as file:\n",
        "        file.write(response.content)"
      ]
    },
    {
      "cell_type": "markdown",
      "metadata": {
        "id": "0MMywr8VZEtn"
      },
      "source": [
        "아래 코드를 실행하여 데이터를 다운로드 받습니다.\n"
      ]
    },
    {
      "cell_type": "code",
      "execution_count": null,
      "metadata": {
        "id": "YgN-FLlvZEtn"
      },
      "outputs": [],
      "source": [
        "import competition\n",
        "\n",
        "# 파일 다운로드\n",
        "competition.download_competition_files(\n",
        "    f\"https://link.teddynote.com/{project}\", use_competition_url=False\n",
        ")"
      ]
    },
    {
      "cell_type": "code",
      "execution_count": null,
      "metadata": {
        "id": "LbFFo4zNbGIS"
      },
      "outputs": [],
      "source": [
        "import pandas as pd\n",
        "import numpy as np\n",
        "import matplotlib.pyplot as plt\n",
        "import warnings\n",
        "import os\n",
        "\n",
        "# Data 경로 설정\n",
        "DATA_DIR = \"data\"\n",
        "\n",
        "# 경고 무시\n",
        "warnings.filterwarnings(\"ignore\")\n",
        "\n",
        "SEED = 123"
      ]
    },
    {
      "cell_type": "markdown",
      "metadata": {
        "id": "csPQIrZuqgOL"
      },
      "source": [
        "## 데이터 로드\n"
      ]
    },
    {
      "cell_type": "code",
      "execution_count": null,
      "metadata": {
        "id": "GMh179gYZEtn"
      },
      "outputs": [],
      "source": [
        "test = pd.read_csv(os.path.join(DATA_DIR, \"test.csv\"))\n",
        "test.head(10)"
      ]
    },
    {
      "cell_type": "code",
      "execution_count": null,
      "metadata": {
        "id": "pjLTaco9ZEtn"
      },
      "outputs": [],
      "source": [
        "import torch\n",
        "from torchvision import transforms, datasets\n",
        "from torch.utils.data import DataLoader, random_split\n",
        "\n",
        "# 이미지 전처리 정의\n",
        "transform = transforms.Compose(\n",
        "    [\n",
        "        transforms.Resize((256, 256)),  # 이미지 크기 조정\n",
        "        transforms.ToTensor(),  # 이미지를 텐서로 변환\n",
        "    ]\n",
        ")\n",
        "\n",
        "# ImageFolder를 사용하여 데이터셋 로드\n",
        "train_dataset = datasets.ImageFolder(root=\"data/train\", transform=transform)\n",
        "\n",
        "# train / validation 비율 설정 (8:2)\n",
        "train_size = int(0.8 * len(train_dataset))\n",
        "validation_size = len(train_dataset) - train_size\n",
        "\n",
        "# 데이터셋 분할\n",
        "train_dataset, validation_dataset = random_split(\n",
        "    train_dataset, [train_size, validation_size]\n",
        ")\n",
        "\n",
        "# DataLoader 인스턴스 생성\n",
        "train_loader = DataLoader(train_dataset, batch_size=32, shuffle=True)\n",
        "validation_loader = DataLoader(validation_dataset, batch_size=32, shuffle=False)"
      ]
    },
    {
      "cell_type": "code",
      "execution_count": null,
      "metadata": {
        "id": "9nUts6GiZEtn"
      },
      "outputs": [],
      "source": [
        "x, y = next(iter(train_loader))\n",
        "print(x.shape, y.shape)"
      ]
    },
    {
      "cell_type": "code",
      "execution_count": null,
      "metadata": {
        "id": "kln6Qdb7ZEto"
      },
      "outputs": [],
      "source": [
        "x, y = next(iter(validation_loader))\n",
        "print(x.shape, y.shape)"
      ]
    },
    {
      "cell_type": "code",
      "execution_count": null,
      "metadata": {
        "id": "GeVaa9cKZEto"
      },
      "outputs": [],
      "source": [
        "from PIL import Image\n",
        "from torch.utils.data import Dataset, DataLoader\n",
        "\n",
        "\n",
        "class TestDataset(Dataset):\n",
        "    def __init__(self, csv_file, root_dir, transform=None):\n",
        "        \"\"\"\n",
        "        Args:\n",
        "            csv_file (string): csv 파일의 경로.\n",
        "            root_dir (string): 모든 이미지 파일이 있는 디렉토리의 경로.\n",
        "            transform (callable, optional): 샘플에 적용될 Optional transform.\n",
        "        \"\"\"\n",
        "        self.test_frame = pd.read_csv(csv_file)\n",
        "        self.root_dir = root_dir\n",
        "        self.transform = transform\n",
        "\n",
        "    def __len__(self):\n",
        "        return len(self.test_frame)\n",
        "\n",
        "    def __getitem__(self, idx):\n",
        "        if torch.is_tensor(idx):\n",
        "            idx = idx.tolist()\n",
        "\n",
        "        img_name = os.path.join(self.root_dir, self.test_frame.iloc[idx, 0])\n",
        "        image = Image.open(img_name)\n",
        "\n",
        "        if self.transform:\n",
        "            image = self.transform(image)\n",
        "\n",
        "        return image\n",
        "\n",
        "\n",
        "# 이미지 전처리 정의\n",
        "transform = transforms.Compose(\n",
        "    [\n",
        "        transforms.Resize((256, 256)),  # 이미지 크기 조정\n",
        "        transforms.ToTensor(),  # 이미지를 텐서로 변환\n",
        "    ]\n",
        ")\n",
        "\n",
        "# TestDataset 인스턴스 생성\n",
        "test_dataset = TestDataset(\n",
        "    csv_file=\"data/test.csv\", root_dir=\"data/test\", transform=transform\n",
        ")\n",
        "\n",
        "# DataLoader 인스턴스 생성\n",
        "test_loader = DataLoader(test_dataset, batch_size=1, shuffle=False)"
      ]
    },
    {
      "cell_type": "code",
      "execution_count": null,
      "metadata": {
        "id": "wKWksbSwZEto"
      },
      "outputs": [],
      "source": [
        "x = next(iter(test_loader))\n",
        "print(x.shape)"
      ]
    },
    {
      "cell_type": "markdown",
      "metadata": {
        "id": "3Bxel0XcZEto"
      },
      "source": [
        "## Label 확인\n"
      ]
    },
    {
      "cell_type": "code",
      "execution_count": null,
      "metadata": {
        "id": "brttEaLVZEto"
      },
      "outputs": [],
      "source": [
        "classes = train_dataset.dataset.classes\n",
        "print(classes)\n",
        "\n",
        "idx_to_class = {v: k for k, v in train_dataset.dataset.class_to_idx.items()}\n",
        "print(idx_to_class)"
      ]
    },
    {
      "cell_type": "markdown",
      "metadata": {
        "id": "O3g7f78HZEtp"
      },
      "source": [
        "## 시각화\n"
      ]
    },
    {
      "cell_type": "code",
      "execution_count": null,
      "metadata": {
        "id": "R2RG5VwvZEtp"
      },
      "outputs": [],
      "source": [
        "import torchvision\n",
        "\n",
        "# 한 배치의 이미지 시각화 함수 (사이즈 조정 포함)\n",
        "\n",
        "\n",
        "def imshow(img, labels, classes):\n",
        "    img = img.numpy().transpose((1, 2, 0))\n",
        "    plt.figure(figsize=(20, 20))  # 여기에서 플롯의 크기를 조정\n",
        "    plt.imshow(img)\n",
        "    plt.xticks([])\n",
        "    plt.yticks([])\n",
        "    # 이미지마다 클래스 레이블을 타이틀로 표시\n",
        "    for i, label in enumerate(labels):\n",
        "        x = (i % 8) * (img.shape[1] / 8) + (img.shape[1] / 16)\n",
        "        y = (i // 8) * (img.shape[0] / 4) + 10  # 4 rows\n",
        "        plt.text(\n",
        "            x,\n",
        "            y,\n",
        "            classes[label],\n",
        "            ha=\"center\",\n",
        "            va=\"top\",\n",
        "            color=\"white\",\n",
        "            fontsize=12,\n",
        "            backgroundcolor=\"black\",\n",
        "        )\n",
        "    plt.show()\n",
        "\n",
        "\n",
        "# 데이터 로더에서 한 배치 가져오기\n",
        "dataiter = iter(train_loader)\n",
        "images, labels = next(dataiter)\n",
        "\n",
        "# 이미지 그리드 만들기\n",
        "img_grid = torchvision.utils.make_grid(images, nrow=8)  # 8개의 이미지를 한 줄에 표시\n",
        "\n",
        "# 이미지와 레이블 시각화\n",
        "imshow(img_grid, labels, classes)"
      ]
    },
    {
      "cell_type": "markdown",
      "metadata": {
        "id": "h1JovuM8ZEtp"
      },
      "source": [
        "## 모델 정의\n"
      ]
    },
    {
      "cell_type": "code",
      "execution_count": null,
      "metadata": {
        "id": "ccuV-yM8ZEtp"
      },
      "outputs": [],
      "source": [
        "import torch\n",
        "import torch.nn as nn\n",
        "import torch.optim as optim\n",
        "from torchvision import models, datasets, transforms\n",
        "from torch.utils.data import DataLoader\n",
        "import time\n",
        "\n",
        "# CUDA 사용 가능 여부 확인\n",
        "if torch.backends.mps.is_built():\n",
        "    # mac os mps 지원 체크\n",
        "    device = torch.device(\"mps\" if torch.backends.mps.is_built() else \"cpu\")\n",
        "else:\n",
        "    # cuda 사용 가능한지 체크\n",
        "    device = torch.device(\"cuda:0\" if torch.cuda.is_available() else \"cpu\")\n",
        "print(device)"
      ]
    },
    {
      "cell_type": "code",
      "execution_count": null,
      "metadata": {
        "id": "_WjpeznpZEtp"
      },
      "outputs": [],
      "source": [
        "class CNNModel(nn.Module):\n",
        "    def __init__(self, num_classes):\n",
        "        super(CNNModel, self).__init__()\n",
        "        # 코드입력\n",
        "\n",
        "    def forward(self, x):\n",
        "        # 코드입력\n",
        "\n",
        "        return x"
      ]
    },
    {
      "cell_type": "code",
      "execution_count": null,
      "metadata": {
        "id": "-GONLR0PZEtp"
      },
      "outputs": [],
      "source": [
        "model = # 코드입력\n",
        "model"
      ]
    },
    {
      "cell_type": "code",
      "execution_count": null,
      "metadata": {
        "id": "EYknTYMyZEtp"
      },
      "outputs": [],
      "source": [
        "# 옵티마이저를 정의합니다. 옵티마이저에는 model.parameters()를 지정해야 합니다.\n",
        "optimizer = # 코드입력\n",
        "\n",
        "# 손실함수(loss function)을 지정합니다. Multi-Class Classification 이기 때문에 CrossEntropy 손실을 지정하였습니다.\n",
        "loss_fn = # 코드입력"
      ]
    },
    {
      "cell_type": "markdown",
      "metadata": {
        "id": "0aZ9EMvMZEtp"
      },
      "source": [
        "## 모델 훈련 및 검증\n"
      ]
    },
    {
      "cell_type": "code",
      "execution_count": null,
      "metadata": {
        "id": "fxlc_L5mZEtp"
      },
      "outputs": [],
      "source": [
        "# 코드입력"
      ]
    },
    {
      "cell_type": "markdown",
      "metadata": {
        "id": "sBsFirABZEtp"
      },
      "source": [
        "## Epoch 별 훈련\n"
      ]
    },
    {
      "cell_type": "code",
      "execution_count": null,
      "metadata": {
        "id": "1ygBiVUKZEtq"
      },
      "outputs": [],
      "source": [
        "import time\n",
        "\n",
        "# 최대 Epoch을 지정합니다.\n",
        "num_epochs = 10\n",
        "\n",
        "min_loss = np.inf\n",
        "\n",
        "STATE_DICT_PATH = \"CATSvsDOGS-CNN.pth\"\n",
        "\n",
        "# Epoch 별 훈련 및 검증을 수행합니다.\n",
        "for epoch in range(num_epochs):\n",
        "    # Model Training\n",
        "    # 훈련 손실과 정확도를 반환 받습니다.\n",
        "    start = time.time()\n",
        "    train_loss, train_acc = # 코드입력\n",
        "\n",
        "    # 검증 손실과 검증 정확도를 반환 받습니다.\n",
        "    val_loss, val_acc = # 코드입력\n",
        "\n",
        "    # val_loss 가 개선되었다면 min_loss를 갱신하고 model의 가중치(weights)를 저장합니다.\n",
        "    if val_loss < min_loss:\n",
        "        print(\n",
        "            f\"[INFO] val_loss has been improved from {min_loss:.5f} to {val_loss:.5f}. Saving Model!\"\n",
        "        )\n",
        "        min_loss = val_loss\n",
        "        torch.save(model.state_dict(), STATE_DICT_PATH)\n",
        "\n",
        "    time_elapsed = time.time() - start\n",
        "    # Epoch 별 결과를 출력합니다.\n",
        "    print(\n",
        "        f\"[Epoch{epoch+1:02d}] time: {time_elapsed // 60:.0f}m {time_elapsed % 60:.0f}s \\t loss: {train_loss:.5f}, acc: {train_acc:.5f} | val_loss: {val_loss:.5f}, val_acc: {val_acc:.5f}\"\n",
        "    )"
      ]
    },
    {
      "cell_type": "markdown",
      "metadata": {
        "id": "LSBXNpDNZEtq"
      },
      "source": [
        "## 저장한 가중치 로드\n"
      ]
    },
    {
      "cell_type": "code",
      "execution_count": null,
      "metadata": {
        "id": "3F_PX_kBZEtq"
      },
      "outputs": [],
      "source": [
        "# 모델에 저장한 가중치를 로드합니다.\n",
        "model.# 코드입력"
      ]
    },
    {
      "cell_type": "markdown",
      "metadata": {
        "id": "VQQoatGbZEtq"
      },
      "source": [
        "## 예측 코드\n"
      ]
    },
    {
      "cell_type": "code",
      "execution_count": null,
      "metadata": {
        "id": "r8jZRYFEZEtq"
      },
      "outputs": [],
      "source": [
        "predictions = []\n",
        "model = model.to(device)\n",
        "# 검증모드 진입\n",
        "model.eval()\n",
        "\n",
        "with torch.no_grad():\n",
        "    # loss 초기화\n",
        "    running_loss = 0\n",
        "    # 정확도 계산\n",
        "    running_acc = 0\n",
        "    for x in test_loader:\n",
        "        x = x.to(device)\n",
        "\n",
        "        y_hat = model(x)\n",
        "        label = y_hat.argmax(dim=1).detach().item()\n",
        "        predictions.append(label)"
      ]
    },
    {
      "cell_type": "code",
      "execution_count": null,
      "metadata": {
        "id": "c6U5qbibZEtq"
      },
      "outputs": [],
      "source": [
        "# 정답\n",
        "your_answer = [idx_to_class[l] for l in predictions]"
      ]
    },
    {
      "cell_type": "markdown",
      "metadata": {
        "id": "V1PURs-gbphu"
      },
      "source": [
        "## 결과 제출\n",
        "\n",
        "- 느리다고 중지 후 다시 평가 코드를 실행하는 경우 제출 과정에서 패널티가 발생할 수 있습니다. (제출 횟수 이슈 발생 가능)\n",
        "- 제출결과는 [대회페이지](http://braincrew2.iptime.org:8001/competitions/ADVHOUSE/)의 `리더보드` 와 `제출` 탭에서 확인할 수 있습니다.\n"
      ]
    },
    {
      "cell_type": "markdown",
      "metadata": {
        "id": "AQAW_wggqgOP"
      },
      "source": [
        "아래 Cell을 실행하여 예측 결과 업데이트\n"
      ]
    },
    {
      "cell_type": "code",
      "execution_count": null,
      "metadata": {
        "id": "bK6QjWWNuxeF"
      },
      "outputs": [],
      "source": [
        "import competition\n",
        "\n",
        "# 예측 결과 업데이트\n",
        "submission = pd.read_csv(os.path.join(DATA_DIR, \"submission.csv\"))\n",
        "submission[\"label\"] = your_answer\n",
        "\n",
        "display(submission)\n",
        "competition.submit(project, username, password, submission)"
      ]
    }
  ],
  "metadata": {
    "accelerator": "GPU",
    "colab": {
      "provenance": []
    },
    "gpuClass": "standard",
    "kernelspec": {
      "display_name": "Python 3 (ipykernel)",
      "language": "python",
      "name": "python3"
    },
    "language_info": {
      "codemirror_mode": {
        "name": "ipython",
        "version": 3
      },
      "file_extension": ".py",
      "mimetype": "text/x-python",
      "name": "python",
      "nbconvert_exporter": "python",
      "pygments_lexer": "ipython3",
      "version": "3.9.18"
    }
  },
  "nbformat": 4,
  "nbformat_minor": 0
}