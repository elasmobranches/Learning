{
 "cells": [
  {
   "cell_type": "code",
   "execution_count": null,
   "metadata": {},
   "outputs": [],
   "source": [
    "from torch.utils.data import Dataset\n",
    "from sklearn.preprocessing import StandardScaler\n",
    "\n",
    "\n",
    "class CustomDataset(Dataset):\n",
    "    def __init__(self, data, target=\"target\", normalize=True):\n",
    "        super(CustomDataset, self).__init__()\n",
    "        self.x = data.drop(target, axis=1)\n",
    "\n",
    "        # 데이터 표준화\n",
    "        if normalize:\n",
    "            scaler = StandardScaler()\n",
    "            self.x = pd.DataFrame(scaler.fit_transform(self.x))\n",
    "\n",
    "        self.y = data[target]\n",
    "\n",
    "        # 텐서 변환\n",
    "        self.x = torch.tensor(self.x.values).float()\n",
    "        self.y = torch.tensor(self.y).float()\n",
    "\n",
    "    def __len__(self):\n",
    "        return len(self.x) #df 행 길이 반환\n",
    "\n",
    "    def __getitem__(self, idx):\n",
    "        x = self.x[idx]\n",
    "        y = self.y[idx] #상속 문법?\n",
    "        return x, y\n",
    "# data 셋 상속\n",
    "# init len getitem 지정 필요"
   ]
  },
  {
   "cell_type": "markdown",
   "metadata": {},
   "source": [
    "1) __init__(self, data, target=\"target\", Normalize=True): CustomDataset 클래스의 생성자 메서드입니다. 제공된 'data' 및 'target' 열 이름으로 데이터세트를 초기화합니다. 'normalize'를 'True'로 설정하면 데이터 표준화를 수행합니다.\n",
    "\n",
    "2) super(CustomDataset, self).__init__()는 CustomDataset의 상위 클래스 생성자에 대한 호출입니다. Python에서 super()는 하위 클래스 내 상위 클래스의 메서드와 속성에 액세스하는 데 사용됩니다.\n",
    "이 맥락에서:\n",
    "CustomDataset은 하위 클래스입니다.\n",
    "self는 하위 클래스(CustomDataset)의 인스턴스를 나타냅니다.\n",
    "__init__()는 상위 클래스의 생성자 메서드입니다.\n",
    "\n",
    "super(CustomDataset, self).__init__()를 호출하면 상위 클래스(이 경우 Dataset)의 생성자가 호출됩니다. 이는 초기화 논리를 계속 사용하면서 상위 클래스의 기능을 확장하려는 경우에 자주 사용됩니다. 이 코드 조각에서는 CustomDataset 클래스의 사용자 정의 초기화 로직 이전에 Dataset 클래스의 초기화 로직이 실행되도록 합니다.\n",
    "\n",
    "3) 데이터 정규화:\n",
    "\n",
    "\n",
    "if 정규화:: 정규화가 활성화되어 있는지 확인합니다.\n",
    "scaler = StandardScaler(): scikit-learn에서 StandardScaler 인스턴스를 생성합니다.\n",
    "self.x = pd.DataFrame(scaler.fit_transform(self.x)): StandardScaler의 fit_transform 메서드를 사용하여 기능(self.x)에 표준화를 적용하고 결과를 다시 변환합니다. DataFrame으로.\n",
    "\n",
    "4) self.y = data[target]: data에서 대상 변수를 추출합니다.\n",
    "\n",
    "\n",
    "5) 텐서 변환:\n",
    "\n",
    "\n",
    "self.x = torch.tensor(self.x.values).float(): DataFrame 기능을 PyTorch 텐서로 변환하고 float 유형인지 확인합니다.\n",
    "self.y = torch.tensor(self.y).float(): 대상 변수를 PyTorch 텐서로 변환하고 float 유형인지 확인합니다.\n",
    "\n",
    "6) __len__(self): 이 메소드는 데이터세트의 샘플 수인 데이터세트의 길이를 반환하기 위해 구현됩니다.\n",
    "\n",
    "\n",
    "7) __getitem__(self, idx): 이 메소드는 데이터 세트의 인덱싱을 허용하도록 구현됩니다. 인덱스 'idx'를 가져와 해당 인덱스에 해당하는 기능 'x'와 타겟 'y'를 반환합니다. 예를 들어 DataLoader를 사용하여 데이터세트를 반복할 때 사용됩니다. 여기에서는 기능 및 대상 텐서에서 idx\\번째 행을 검색하여 반환합니다.\n",
    "\n",
    "\n",
    "따라서 CustomDataset 인스턴스를 생성하면 기능을 표준화하고 이를 PyTorch 텐서로 변환하며 PyTorch의 데이터 세트 처리 유틸리티와의 호환성을 보장하여 PyTorch 모델에 공급할 데이터를 준비합니다."
   ]
  },
  {
   "cell_type": "markdown",
   "metadata": {},
   "source": [
    "\n",
    "[__init__ 과 self란?](https://wikidocs.net/192016)"
   ]
  }
 ],
 "metadata": {
  "language_info": {
   "name": "python"
  }
 },
 "nbformat": 4,
 "nbformat_minor": 2
}
