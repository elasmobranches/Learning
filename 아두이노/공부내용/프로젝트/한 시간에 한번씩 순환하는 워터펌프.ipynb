{
 "cells": [
  {
   "cell_type": "code",
   "execution_count": null,
   "metadata": {},
   "outputs": [],
   "source": [
    "## 학습 목표\n",
    "\n",
    "<aside>\n",
    "💡 1시간에 한번씩 10초 동안 순환하게 만들자\n",
    "\n",
    "</aside>\n",
    "\n",
    "## 준비물\n",
    "\n",
    "- [ ]  워터 펌프\n",
    "- [ ]  모터 드라이버\n",
    "- [ ]  아두이노 우노\n",
    "- [ ]  실리콘 호스\n"
   ]
  },
  {
   "cell_type": "code",
   "execution_count": null,
   "metadata": {},
   "outputs": [],
   "source": [
    "const int AA = 5;\n",
    "const int AB = 6;\n",
    "\n",
    "unsigned long previousMillis = 0; // 마지막 작동 시작 시간\n",
    "unsigned long pumpStartMillis = 0; // 펌프가 시작된 시간\n",
    "const long interval = 3600000; // 이벤트 간의 시간 (1시간 = 3600000 밀리초)\n",
    "const long pumpTime = 10000; // 펌프가 작동하는 시간 (10초)\n",
    "bool pumpRunning = false; // 펌프가 현재 작동 중인지 여부\n",
    "\n",
    "void setup() {\n",
    "  pinMode(AA, OUTPUT);\n",
    "  pinMode(AB, OUTPUT);\n",
    "}\n",
    "\n",
    "void loop() {\n",
    "  unsigned long currentMillis = millis();\n",
    "\n",
    "  // 펌프가 작동하지 않고, 다음 작동 시간에 도달했을 때\n",
    "  if (!pumpRunning && currentMillis - previousMillis >= interval) {\n",
    "    pumpRunning = true; // 펌프 작동 시작\n",
    "    previousMillis = currentMillis; // 다음 이벤트를 위한 시간 업데이트\n",
    "    pumpStartMillis = currentMillis; // 펌프 시작 시간 기록\n",
    "    digitalWrite(AA, HIGH);\n",
    "    digitalWrite(AB, LOW);\n",
    "  }\n",
    "\n",
    "  // 펌프가 작동 중이고, 10초가 경과했을 때\n",
    "  if (pumpRunning && currentMillis - pumpStartMillis >= pumpTime) {\n",
    "    digitalWrite(AA, LOW); // 펌프 작동 정지\n",
    "    digitalWrite(AB, LOW);\n",
    "    pumpRunning = false; // 펌프 작동 상태 업데이트\n",
    "  }\n",
    "}"
   ]
  }
 ],
 "metadata": {
  "language_info": {
   "name": "python"
  }
 },
 "nbformat": 4,
 "nbformat_minor": 2
}
