{
 "cells": [
  {
   "cell_type": "markdown",
   "metadata": {},
   "source": [
    "## 학습 목표\n",
    "\n",
    "<aside>\n",
    "💡 tds값을 측정하고 기준치 초과 시 led가 작동하게 하자\n",
    "\n",
    "</aside>\n",
    "\n",
    "## 준비물\n",
    "\n",
    "- [ ]  tds 센서\n",
    "- [ ]  아두이노 우노\n",
    "- [ ]  실리콘 호스"
   ]
  },
  {
   "cell_type": "code",
   "execution_count": null,
   "metadata": {
    "vscode": {
     "languageId": "javascript"
    }
   },
   "outputs": [],
   "source": [
    "#include <EEPROM.h>\n",
    "#include \"GravityTDS.h\"\n",
    "\n",
    "#define TdsSensorPin A1\n",
    "#define LedPin 12 // LED를 연결한 핀 번호\n",
    "\n",
    "GravityTDS gravityTds;\n",
    "\n",
    "float temperature = 25, tdsValue = 0;\n",
    "unsigned long previousMillis = 0; // 마지막으로 TDS 값을 읽은 시간을 저장\n",
    "const long interval = 1000; // TDS 값을 읽는 간격 (1000ms = 1초)\n",
    "\n",
    "void setup() {\n",
    "    Serial.begin(115200);\n",
    "    pinMode(LedPin, OUTPUT); // LED 핀을 출력으로 설정\n",
    "    gravityTds.setPin(TdsSensorPin);\n",
    "    gravityTds.setAref(5.0); // ADC의 참조 전압 설정, 아두이노 UNO에서 기본값은 5.0V\n",
    "    gravityTds.setAdcRange(1024); // 10비트 ADC의 경우 1024, 12비트 ADC의 경우 4096\n",
    "    gravityTds.begin(); // 초기화\n",
    "}\n",
    "\n",
    "void loop() {\n",
    "    unsigned long currtime = millis();\n",
    "    \n",
    "    if (currentMillis - previousMillis >= interval) { // 마지막 측정 시간으로부터 1초가 경과했는지 확인\n",
    "        previousMillis = currentMillis; // 마지막 측정 시간 업데이트\n",
    "\n",
    "        //temperature = readTemperature(); // 온도 센서를 추가하고 온도를 읽습니다.\n",
    "        gravityTds.setTemperature(temperature); // 온도 설정 및 온도 보정 실행\n",
    "        gravityTds.update(); // 샘플링 및 계산\n",
    "        tdsValue = gravityTds.getTdsValue(); // TDS 값 가져오기\n",
    "        \n",
    "        Serial.print(tdsValue, 0);\n",
    "        Serial.println(\"ppm\");\n",
    "        \n",
    "        // TDS 값이 200ppm 이상일 경우 LED 켜기\n",
    "        if (tdsValue >= 200) {\n",
    "            digitalWrite(LedPin, HIGH); // LED 켜기\n",
    "        } else {\n",
    "            digitalWrite(LedPin, LOW); // LED 끄기\n",
    "        }\n",
    "    }\n",
    "}"
   ]
  },
  {
   "cell_type": "markdown",
   "metadata": {},
   "source": [
    "[Hydroponics TDS Level | Why It Matters & How To Adjust](https://whyfarmit.com/hydroponics-tds-level/)\n",
    "\n",
    "바질은 700~1150ppm이 적당"
   ]
  }
 ],
 "metadata": {
  "language_info": {
   "name": "python"
  }
 },
 "nbformat": 4,
 "nbformat_minor": 2
}
