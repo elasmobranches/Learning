{
 "cells": [
  {
   "cell_type": "markdown",
   "metadata": {},
   "source": [
    "# 아두이노 중수되기\n",
    "\n",
    "### Serial.Read()"
   ]
  },
  {
   "cell_type": "code",
   "execution_count": null,
   "metadata": {
    "vscode": {
     "languageId": "javascript"
    }
   },
   "outputs": [],
   "source": [
    "Serial.begin()\n",
    "Serial.available // PC로부터 도착한 데이터의 바이트 수를 돌려준다 IF와 같이 사용\n",
    "Serial.read() // PC로부터 받은 메시지의 첫번째 바이트를 읽는다"
   ]
  },
  {
   "cell_type": "code",
   "execution_count": null,
   "metadata": {
    "vscode": {
     "languageId": "javascript"
    }
   },
   "outputs": [],
   "source": [
    "const int LED = 13;\n",
    "\n",
    "void setup() {\n",
    "  Serial.begin(115200);\n",
    "  pinMode(LED, OUTPUT);\n",
    "}\n",
    "\n",
    "void loop() {\n",
    "  if(Serial.available()) {\n",
    "  char userInput = Serial.read(); //char은 문자 한 개를 저장(문자에 해당하는 정수값 저장)\n",
    "  \n",
    "  switch(userInput) {\n",
    "    case 'n':\n",
    "    digitalWrite(LED, HIGH);\n",
    "    break;\n",
    "    case 'f':\n",
    "    digitalWrite(LED, LOW);\n",
    "    break;\n",
    "    default:\n",
    "    break;\n",
    "  }\n",
    "  }  \n",
    "}"
   ]
  },
  {
   "cell_type": "markdown",
   "metadata": {},
   "source": [
    "Serial.read()에서는 switch 함수를  사용할 수 있다"
   ]
  },
  {
   "cell_type": "code",
   "execution_count": null,
   "metadata": {
    "vscode": {
     "languageId": "javascript"
    }
   },
   "outputs": [],
   "source": [
    "switch(변수){\n",
    "    case 값1 : \n",
    "        실행문; \n",
    "        break;\n",
    "    case 값2 : \n",
    "        실행문; \n",
    "        break;  \n",
    "    default : // else가 아닌 default를 사용한다\n",
    "        실행문;    \n",
    "}\n",
    "void loop(){\n",
    "//사용법\n",
    "if( Serial.available()) {\n",
    "\tint input = Serial.read();\n",
    "\n",
    "\n",
    "\tswitch(input){\n",
    "\t    case 'A' : \n",
    "\t        printf(\"input의 값은 A입니다.\");\n",
    "\t        break;\n",
    "\t    case 'B' : \n",
    "\t        printf(\"input의 값은 B입니다.\");\n",
    "\t        break;  \n",
    "\t    default :    \n",
    "\t        printf(\"input의 값은 A과B가 아닌 다른 문자입니다.\");\n",
    "\t}\n",
    " }\n",
    "}"
   ]
  },
  {
   "cell_type": "markdown",
   "metadata": {},
   "source": [
    "### digitalRead - 특정 핀의 값을 읽는 명령어\n",
    "\n",
    "digitalRead(pin) ;\n",
    "\n",
    "읽고자 하는 핀 번호 HIGH 또는 LOW 값을 돌려준다\n",
    "\n",
    "할당된 핀이 VCC(5V)에 연결되어 있을 때는 1, GND에 연결되어 있을 때는 0을 읽는다\n",
    "\n",
    "푸시 버튼 - 극성이 없다\n",
    "\n",
    "### 왜 digtalRead와 analogRead에서는 Serial.available을 쓰지 않는가?\n",
    "\n",
    "- 왜 why\n",
    "    \n",
    "    맞습니다. 'digitalRead' 및 'analogRead'에는 'Serial.available'이 필요하지 않습니다. 이러한 기능은 Arduino와 같은 마이크로 컨트롤러의 디지털 및 아날로그 핀 상태를 읽는 데 사용되며 직렬 통신과 독립적으로 작동합니다. 목적을 명확히 해보자:\n",
    "    \n",
    "    1. **`디지털읽기(핀)`**:\n",
    "        - **목적**: 이 함수는 지정된 디지털 핀의 상태를 읽는 데 사용됩니다.\n",
    "        - **사용법**: 핀의 전압이 높으면(보통 보드에 따라 5V 또는 3.3V) 'HIGH'를 반환하고, 낮으면(0V) 'LOW'를 반환합니다. 예를 들어 **`digitalRead(2)`**는 디지털 핀 2의 상태를 읽습니다.\n",
    "        - **컨텍스트**: 일반적으로 버튼, 스위치, 디지털 센서와 같은 디지털 입력의 상태를 읽는 데 사용됩니다.\n",
    "    2. **`아날로그읽기(핀)`**:\n",
    "        - **목적**: 이 기능은 지정된 아날로그 핀에서 값을 읽는 데 사용됩니다.\n",
    "        - **용도**: 핀의 전압을 읽고 이를 디지털 값(일반적으로 10비트 아날로그-디지털 변환기의 경우 0~1023 범위)으로 변환합니다(Arduino와 같은 많은 마이크로컨트롤러에서 일반적임). 우노).\n",
    "        - **컨텍스트**: 전위차계, 온도 센서, 광 센서와 같은 아날로그 센서를 읽는 데 사용됩니다.\n",
    "    \n",
    "    **`digitalRead`**와 **`analogRead`**는 모두 마이크로컨트롤러의 핀 상태를 읽는 데 사용되며 직렬 데이터 통신과 관련이 없습니다. 따라서 **`Serial.available()`**을 사용하여 직렬 버퍼를 확인할 필요가 없습니다. **`Serial.available()`** 함수는 직렬 통신의 맥락에서 핀 상태 읽기와 별도로 직렬 버퍼에 사용 가능한 수신 데이터 바이트가 있는지 확인하는 데 특히 사용됩니다."
   ]
  }
 ],
 "metadata": {
  "language_info": {
   "name": "python"
  }
 },
 "nbformat": 4,
 "nbformat_minor": 2
}
