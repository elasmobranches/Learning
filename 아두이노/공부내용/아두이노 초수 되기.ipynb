{
 "cells": [
  {
   "cell_type": "markdown",
   "metadata": {},
   "source": [
    "# 아두이노 초수되기\n",
    "\n",
    "아두이노는 TX핀과 USB 단자를 통해 PC로 메시지를 보낸다\n",
    "\n",
    "Serial.begin은 **PC로** 메시지를 보낼 때 데이터의 속도를 설정하는 함수이다\n",
    "\n",
    "Serial.println은 **PC로** 메시지를 보내는 함수이다 메시지 출력 후 커서 위치를 다음 줄 첫번째 칸으로\n",
    "\n",
    "print는 메시지 출력 후 커서 위치가 바뀌지 않는다\n",
    "\n",
    "int - 정수 값을 담는 자료형 double - 실수 값을 담는 자료형 char* 문자열의 첫 문자의 주소를 담을 수 있는 자료형"
   ]
  },
  {
   "cell_type": "code",
   "execution_count": null,
   "metadata": {},
   "outputs": [],
   "source": [
    "Serial.println(val, format)\n",
    "format - DEC - 10진수 HEX - 16진수 BIN- 2진수\n",
    "Serial.println(1.23456, 0) 실수 1.23456을 소수점 이하 0개까지 10진 실수 문자열로 변환하여 출력한다"
   ]
  },
  {
   "cell_type": "markdown",
   "metadata": {},
   "source": [
    "## LED\n",
    "\n",
    "### digitalWrite"
   ]
  },
  {
   "cell_type": "code",
   "execution_count": null,
   "metadata": {
    "vscode": {
     "languageId": "javascript"
    }
   },
   "outputs": [],
   "source": [
    "const int led = 13 ; or const unsigned int(오로지 0 or 1)\n",
    "led가 많을시 const int led[4] = {2,3,4,5,6} 과 같이 표현 가능\n",
    "//LED초기화\n",
    "pinMode(pin,mode) // mode는 INPUT OR OUTPUT\n",
    "digitalWrite(pin,value) HIHG(5V) LOW(0V)\n",
    "delay(ms)"
   ]
  },
  {
   "cell_type": "markdown",
   "metadata": {},
   "source": [
    "아두이노 우노의 13번 핀은 보드 상의 LED와 연결되어 있다\n",
    "\n",
    "아날로그 핀인 A0~A5의 경우 디지털 출력과 입력으로 사용할 시에 핀 번호를 14~19로 사용한다.\n",
    "\n",
    "delay값의 비율을 조절하여 밝기를 조절할 수 있다\n",
    "\n",
    "### for문"
   ]
  },
  {
   "cell_type": "code",
   "execution_count": null,
   "metadata": {
    "vscode": {
     "languageId": "javascript"
    }
   },
   "outputs": [],
   "source": [
    "for( int t_high = 0 ; t_high<= 10 ; t_high++) {\n",
    "\tSerial.println(t_high) ;\n",
    "}\n",
    "for( int t_high = 0 ; t_high<=10 ; t_high++){\n",
    "\tdigitalWrite(LED,HIGH);\n",
    "\tdelay(t_high)\n",
    "\tdigitalWrite(Led,LOW);\n",
    "\tdelay(10-t_high);\n",
    "///for문의 형식\n",
    "for( 변수의 초기값 ; 변수의 마지막 조건 ; 변수의 증감치){\n",
    "\t실행문 ;\n",
    "}"
   ]
  },
  {
   "cell_type": "markdown",
   "metadata": {},
   "source": [
    "### while문, if문"
   ]
  },
  {
   "cell_type": "code",
   "execution_count": null,
   "metadata": {
    "vscode": {
     "languageId": "javascript"
    }
   },
   "outputs": [],
   "source": [
    "while(조건문){\n",
    "\t실행문 ;\n",
    "}\n",
    "if(조건문){\n",
    "\t실행문1 ;\n",
    "else\n",
    "\t실행문2 ;\n",
    "}"
   ]
  },
  {
   "cell_type": "markdown",
   "metadata": {},
   "source": [
    "#### 코드 예시"
   ]
  },
  {
   "cell_type": "code",
   "execution_count": null,
   "metadata": {
    "vscode": {
     "languageId": "javascript"
    }
   },
   "outputs": [],
   "source": [
    "//LED의 빛을 모두 끄고 하나씩 차례대로 켜보기\n",
    "const unsigned int led[12] = { 8, 7, 6, 5, 4, 3, 2, 18, 17, 16, 15, 14 };\n",
    "void setup() {\n",
    "  for(int x=0;x<=11;x++) {\n",
    "  pinMode(led[x], OUTPUT);\n",
    "  }\n",
    "}\n",
    "\n",
    "void loop() {\n",
    "  for(int x=0;x<=11;x++) {\n",
    "  \n",
    "  // led 모두 끄기\n",
    "  for(int x=0;x<=11;x++) {\n",
    "    digitalWrite(led[x], LOW);\n",
    "  }\n",
    "  \n",
    "  digitalWrite(led[x], HIGH);\n",
    "  \n",
    "  delay(1);//1/6=0.167Hz\n",
    "  }\n",
    "}"
   ]
  },
  {
   "cell_type": "markdown",
   "metadata": {},
   "source": [
    "Tf = 1  주파수와 진동의 관계 T가 6초이면 진동수는 1/6 Hz\n",
    "\n",
    "**LED는 방향성을 갖는다. 긴 핀을 전원의 양극(VCC, 5V), 짧은 핀을 음극(GND, 0V)으로 연결한다.** \n",
    "\n",
    "**저항과 직렬로 연결해야 한다. 아두이노 보드에서는 5V와 0V 사이에 연결하며 LED를 위한 저항은 220이나 330 옴 사용**\n",
    "\n",
    "**저항은 방향성이 없기에 VCC와 GND 어떤 방향으로든 연결이 가능 색깔에 따라 값을 구별 가능한데 3번째 색깔이 0의 개수를 나타낸다**\n",
    "\n",
    "**브레드보드** \n",
    "\n",
    "[아두이노 기초6. 브레드보드(빵판) 사용법](https://codingrun.com/67)\n",
    "\n",
    "![Untitled](https://prod-files-secure.s3.us-west-2.amazonaws.com/5b00b930-a7fb-48ca-8d83-95b1692e479d/f08cef72-893a-4c54-88dd-ecead429722e/Untitled.png)\n",
    "\n",
    "![Untitled](https://prod-files-secure.s3.us-west-2.amazonaws.com/5b00b930-a7fb-48ca-8d83-95b1692e479d/64f084b6-582d-4cd7-a464-14d4addf4f40/Untitled.png)\n",
    "\n",
    "![Untitled](https://prod-files-secure.s3.us-west-2.amazonaws.com/5b00b930-a7fb-48ca-8d83-95b1692e479d/f3fd4ac2-b7e4-4dce-9fa0-724ade4c922e/Untitled.png)\n",
    "\n",
    "### analogWrite\n",
    "\n",
    "![Untitled](https://prod-files-secure.s3.us-west-2.amazonaws.com/5b00b930-a7fb-48ca-8d83-95b1692e479d/9bc2ccb7-ec31-4470-90b5-18194d50ea05/Untitled.png)\n",
    "\n",
    "아날로그 값은 이 **비율로 크기를 조정**하며, 이를 analogWrite() 함수로 나타낸다\n",
    "\n",
    "( 비율 = Duty  Cycle = 1인 상태의 비율 )\n",
    "\n",
    "아두이노가 PWM방식으로 아날로그 값을 출력할때, 그 값은 0~255까지 총 **256가지의 값을 출력**할 수 있다\n",
    "\n",
    "analogWrite(pin,value)  - 특정 핀으로 일정한 모양의 사각형 파형을 내보낸다 \n",
    "\n",
    "이 함수는 내부 Timer/Counter 모듈에 명령을 주어 해당 핀으로 일정한 모양의 사각 파형을 내보낸다\n",
    "\n",
    "digitalWrite는 아두이노 칩 내부에 있는 CPU가 직접 핀 제어를 통해 조절\n",
    "\n",
    "아두이노 내에 PWM~이라고 표시된 핀들은 사각 파형을 내보낼 수 있다\n",
    "\n",
    "![Untitled](https://prod-files-secure.s3.us-west-2.amazonaws.com/5b00b930-a7fb-48ca-8d83-95b1692e479d/cfc9fea9-3a35-47c9-8ffc-31f3d7d8ae5b/Untitled.png)\n",
    "\n",
    "![Untitled](https://prod-files-secure.s3.us-west-2.amazonaws.com/5b00b930-a7fb-48ca-8d83-95b1692e479d/3673f3ae-3582-4bbd-b988-434f89743ad1/Untitled.png)\n",
    "\n",
    "A0~A5 = 14~19, 0~255값\n",
    "\n",
    "LED에서는 중첩 for문이 많이 쓰인다\n",
    "\n",
    "아두이노에서 **`unsigned int`**와 **`int`**는 서로 다른 유형의 정수 데이터를 나타냅니다. 이 둘 사이의 주된 차이점은 부호(sign)의 존재 여부에 있습니다:\n",
    "\n",
    "1. **`int` (Signed Integer)**: **`int`**는 부호 있는 정수를 나타냅니다. 이는 양수와 음수 모두를 포함할 수 있습니다. 예를 들어, 아두이노에서 **`int`**의 범위는 보통 -32768부터 +32767까지입니다 (16비트 시스템에서).\n",
    "2. **`unsigned int` (Unsigned Integer)**: 반면에 **`unsigned int`**는 부호 없는 정수를 나타냅니다. 이는 오로지 양수만을 포함할 수 있으며, 음수는 포함하지 않습니다. 아두이노에서 **`unsigned int`**의 범위는 0부터 65535까지입니다 (16비트 시스템에서).\n",
    "\n",
    "---\n",
    "\n",
    "일일이 코드를 짜기보다는 for문과 if문을 적극 활용하는 것이 편하다\n",
    "\n",
    "디지털 보다는 analogWrite가 색상의 밝기를 조절하는 것에 있어 더 유용하다고 생각하였다\n",
    "\n",
    "빵판에 대한 설명이 없어 공부하는데에 힘들었다\n",
    "\n",
    "빵판의 버스 띠에 + - 부호가 적혀있는데 꼭 지켜야 하는 것은 아니다. 그러나 일반적으로 GND(0V)를 버스 띠에 꽂는다\n",
    "\n",
    "led와 저항이 한정적이고 일일이 니퍼로 길이를 조절하는 것도 힘들기에\n",
    "\n",
    "팅커캐드에서 가상으로 이것저것 실습을 해보았는데 굉장히 좋았다\n",
    "\n",
    "따라서 수업에서도 팅커캐드로 실습을 할 것을 적극 권장해도 좋을 것 같다 \n",
    "\n",
    "또한 전기에 대한 이해도 필요할 것이라고 생각했다\n",
    "\n",
    "![Untitled](https://prod-files-secure.s3.us-west-2.amazonaws.com/5b00b930-a7fb-48ca-8d83-95b1692e479d/a2bdaf81-42fa-4e03-add9-a84e938e9d82/Untitled.png)\n",
    "\n",
    "[직렬, 병렬 쉽게 구분하는 방법.차이점](https://information-factory.tistory.com/11)\n",
    "\n",
    "---\n",
    "\n",
    "직렬 - 밝아지나, 수명 짧음\n",
    "\n",
    "병렬 - 오래가나 힘이 약함\n",
    "\n",
    "그러나 전력은 똑같이 소모\n",
    "\n",
    "V= IR 저항이 없으면 전류가 \n",
    "\n",
    "지나치게 높아지게 된다\n",
    "\n",
    "저항으로 인해 전기 에너지가 열의 형태로 소산된다.\n",
    "\n",
    "![Untitled](https://prod-files-secure.s3.us-west-2.amazonaws.com/5b00b930-a7fb-48ca-8d83-95b1692e479d/f4a66211-3078-44c5-a342-79771cdd3484/Untitled.png)\n",
    "\n",
    "![Untitled](https://prod-files-secure.s3.us-west-2.amazonaws.com/5b00b930-a7fb-48ca-8d83-95b1692e479d/60881645-6860-44a3-b0a1-b0d0fc461af8/Untitled.png)\n",
    "\n",
    "건전지나 전선 등에서도 자체 저항이 존재한다"
   ]
  }
 ],
 "metadata": {
  "language_info": {
   "name": "python"
  }
 },
 "nbformat": 4,
 "nbformat_minor": 2
}
