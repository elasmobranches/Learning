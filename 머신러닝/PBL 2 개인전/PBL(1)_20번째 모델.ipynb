{
  "cells": [
    {
      "cell_type": "markdown",
      "metadata": {
        "id": "bOd4OT9yKQMX"
      },
      "source": [
        "## PBL(1): Individual Project Work\n",
        "\n",
        "1. https://agtechresearch.pythonanywhere.com/ 에 접속하여 회원가입해 주세요. (비밀번호는 단순하게 만드는 것을 권장. 예: 1234)\n",
        "2. `username` 에 이메일 형식의 아이디를 기입해 주세요.\n",
        "3. `password` 에 비밀번호를 기입해 주세요."
      ]
    },
    {
      "cell_type": "markdown",
      "metadata": {},
      "source": [
        "## PBL(1): Individual Project Work\n",
        "\n",
        "1. https://agtechresearch.pythonanywhere.com/ 에 접속하여 회원가입해 주세요. (비밀번호는 단순하게 만드는 것을 권장. 예: 1234)\n",
        "2. `username` 에 이메일 형식의 아이디를 기입해 주세요.\n",
        "3. `password` 에 비밀번호를 기입해 주세요."
      ]
    },
    {
      "cell_type": "code",
      "execution_count": 21,
      "metadata": {
        "id": "aylesGLEKQMc"
      },
      "outputs": [],
      "source": [
        "project = \"housingprice\"  # 수정하지 마세요\n",
        "username = \"g4312@naver.com\"  # 회원가입 시 사용한 이메일아이디 (예시. abc@hello.com)\n",
        "password = \"1234\"  # 비밀번호\n"
      ]
    },
    {
      "cell_type": "markdown",
      "metadata": {
        "id": "efTd527LKQMg"
      },
      "source": [
        "리더보드 제출을 위한 기본 설정: 아래 코드를 실행해주세요.\n"
      ]
    },
    {
      "cell_type": "code",
      "execution_count": 22,
      "metadata": {
        "id": "pantTrHwKQMg"
      },
      "outputs": [],
      "source": [
        "import os\n",
        "import urllib.request\n",
        "\n",
        "if not os.path.exists(\"competition.py\"):\n",
        "    url = \"https://raw.githubusercontent.com/agtechresearch/LectureAlgorithm/main/competition/competition.py\"\n",
        "    filename = \"competition.py\"\n",
        "    urllib.request.urlretrieve(url, filename)"
      ]
    },
    {
      "cell_type": "markdown",
      "metadata": {
        "id": "eo8feaPCKQMh"
      },
      "source": [
        "아래 코드를 실행하여 데이터를 다운로드 받습니다: 3개의 csv 파일이 data 폴더에 다운로드됨\n",
        "\n",
        " * dataset.csv: 과거 주택매매 데이터 -> 학습에 사용할 데이터셋\n",
        " * problem.csv: 현재 A사가 매매를 고려하고 있는 130건의 주택정보 -> ML 모델에 의하여 예측을 수행하여야 할 데이터셋\n",
        " * submission.csv: 리더보드 서버 제출을 위한 파일 형식\n"
      ]
    },
    {
      "cell_type": "code",
      "execution_count": 23,
      "metadata": {
        "colab": {
          "base_uri": "https://localhost:8080/"
        },
        "id": "ESsqkBacKQMi",
        "outputId": "23a8cd61-e5f0-4f46-99de-97721967f14c"
      },
      "outputs": [
        {
          "name": "stderr",
          "output_type": "stream",
          "text": [
            "100%|██████████| 141k/141k [00:00<00:00, 335kiB/s] \n"
          ]
        }
      ],
      "source": [
        "import competition\n",
        "\n",
        "# 파일 다운로드\n",
        "competition.download_competition_files(project)"
      ]
    },
    {
      "cell_type": "code",
      "execution_count": 24,
      "metadata": {
        "id": "I9K8zK8LKQMl"
      },
      "outputs": [],
      "source": [
        "import pandas as pd\n",
        "import numpy as np\n",
        "import matplotlib.pyplot as plt\n",
        "import seaborn as sns\n",
        "import warnings\n",
        "\n",
        "# 경고 무시\n",
        "warnings.filterwarnings(\"ignore\")\n",
        "\n",
        "# Data 경로 설정\n",
        "DATA_DIR = \"data\""
      ]
    },
    {
      "cell_type": "code",
      "execution_count": 25,
      "metadata": {
        "id": "Z4-3U9tFKQMm"
      },
      "outputs": [],
      "source": [
        "# 학습에 사용할 과거 주택매매 data set 로드 (dataset.csv)\n",
        "dataset = pd.read_csv(os.path.join(DATA_DIR, \"dataset.csv\"))\n",
        "\n",
        "# problem set 로드 (problem.csv)\n",
        "problemset = pd.read_csv(os.path.join(DATA_DIR, \"problem.csv\"))"
      ]
    },
    {
      "cell_type": "code",
      "execution_count": 26,
      "metadata": {},
      "outputs": [
        {
          "data": {
            "text/plain": [
              "Id              0\n",
              "LotArea         0\n",
              "Street          0\n",
              "LotConfig       0\n",
              "OverallQual     0\n",
              "OverallCond     0\n",
              "YearBuilt       0\n",
              "YearRemodAdd    0\n",
              "TotalBsmtSF     0\n",
              "1stFlrSF        0\n",
              "2ndFlrSF        0\n",
              "GrLivArea       0\n",
              "FullBath        0\n",
              "HalfBath        0\n",
              "BedroomAbvGr    0\n",
              "KitchenAbvGr    0\n",
              "TotRmsAbvGrd    0\n",
              "Fireplaces      0\n",
              "GarageType      0\n",
              "GarageYrBlt     0\n",
              "GarageCars      0\n",
              "GarageArea      0\n",
              "YrSold          0\n",
              "SalePrice       0\n",
              "dtype: int64"
            ]
          },
          "execution_count": 26,
          "metadata": {},
          "output_type": "execute_result"
        }
      ],
      "source": [
        "# # 결측치가 있다면 GarageType은 NO Garage로, GarageYrBlt의 값은 0으로 대체\n",
        "dataset[\"GarageType\"].fillna(\"No Garage\", inplace=True)\n",
        "dataset[\"GarageYrBlt\"].fillna(0, inplace=True)\n",
        "\n",
        "dataset.isnull().sum()\n"
      ]
    },
    {
      "cell_type": "code",
      "execution_count": 27,
      "metadata": {},
      "outputs": [],
      "source": [
        "# GrLIvArea가 4000이상인 이상치 4000으로 대체\n",
        "dataset.loc[dataset[\"GrLivArea\"] > 4000, \"GrLivArea\"] = 4000\n",
        "# LotArea가 100000이상인 이상치 100000으로 대체\n",
        "dataset.loc[dataset[\"LotArea\"] > 100000, \"LotArea\"] = 100000\n",
        "# GarageYrBlt가 0이 아닐시 2024에서 뺀 값으로 대체\n",
        "dataset.loc[dataset[\"GarageYrBlt\"] != 0, \"GarageYrBlt\"] = 2024 - dataset[\"GarageYrBlt\"]\n",
        "# problem set에도 동일한 전처리를 적용한다.\n",
        "problemset.loc[problemset[\"GarageYrBlt\"] != 0, \"GarageYrBlt\"] = 2024 - problemset[\"GarageYrBlt\"]\n",
        "\n",
        "\n",
        "\n"
      ]
    },
    {
      "cell_type": "code",
      "execution_count": 28,
      "metadata": {},
      "outputs": [],
      "source": [
        "#FullBath와 HalfBath를 합쳐서 Bath로 만든다\n",
        "#YearBuilt는 제거하고, 2024를 YearRemodAdd뺀 Year 열 추가, 이후 YearRemodAdd는 제거\n",
        "#총 면적을 나타내기 위해 1stFlrSF, 2ndFlrSF, TotalBsmtSF를 합쳐서 TotalFlr로 나타낸다. 나머지는 지운다\n",
        "#OverallCond제거, Id제거, KitchenAbvGr제거, YrSold제거\n",
        "# garagecars와 garagearea를 이용하여 차고 크기 대비 차고 용량 비율을 새 칼럼으로 추가\n",
        "dataset[\"GarageRatio\"] = dataset[\"GarageArea\"] / dataset[\"GarageCars\"]\n",
        "\n",
        "dataset[\"Bath\"] = dataset[\"FullBath\"] + dataset[\"HalfBath\"]\n",
        "dataset[\"Year\"] = 2024 - dataset[\"YearRemodAdd\"]\n",
        "dataset[\"TotalFlr\"] = dataset[\"1stFlrSF\"] + dataset[\"2ndFlrSF\"] + dataset[\"TotalBsmtSF\"]\n",
        "\n",
        "#이후 필요없는 열 제거\n",
        "dataset.drop([\"FullBath\", \"HalfBath\", \"YearBuilt\", \"YearRemodAdd\",'OverallCond', \"1stFlrSF\", \"2ndFlrSF\", \"TotalBsmtSF\",  \"Id\", \n",
        "               \"YrSold\",'Street','GarageYrBlt',\"GarageArea\", \"GarageCars\"], axis=1, inplace=True)\n",
        "\n",
        "# # problem set 전처리\n",
        "# # problem set에도 동일한 전처리를 적용한다.\n",
        "problemset[\"Bath\"] = problemset[\"FullBath\"] + problemset[\"HalfBath\"]\n",
        "problemset[\"Year\"] = 2024 - problemset[\"YearRemodAdd\"]\n",
        "problemset[\"TotalFlr\"] = problemset[\"1stFlrSF\"] + problemset[\"2ndFlrSF\"] + problemset[\"TotalBsmtSF\"]\n",
        "problemset[\"GarageRatio\"] = problemset[\"GarageArea\"] / problemset[\"GarageCars\"]\n",
        "#이후 필요없는 열 제거\n",
        "problemset.drop([\"FullBath\", \"HalfBath\", \"YearBuilt\", \"YearRemodAdd\", 'OverallCond',\"1stFlrSF\", \"2ndFlrSF\", \"TotalBsmtSF\", \"Id\",  \n",
        "                 \"YrSold\",'Street','GarageYrBlt',\"GarageArea\", \"GarageCars\"], axis=1, inplace=True)\n"
      ]
    },
    {
      "cell_type": "code",
      "execution_count": 30,
      "metadata": {},
      "outputs": [
        {
          "data": {
            "text/html": [
              "<div>\n",
              "<style scoped>\n",
              "    .dataframe tbody tr th:only-of-type {\n",
              "        vertical-align: middle;\n",
              "    }\n",
              "\n",
              "    .dataframe tbody tr th {\n",
              "        vertical-align: top;\n",
              "    }\n",
              "\n",
              "    .dataframe thead th {\n",
              "        text-align: right;\n",
              "    }\n",
              "</style>\n",
              "<table border=\"1\" class=\"dataframe\">\n",
              "  <thead>\n",
              "    <tr style=\"text-align: right;\">\n",
              "      <th></th>\n",
              "      <th>LotArea</th>\n",
              "      <th>LotConfig</th>\n",
              "      <th>OverallQual</th>\n",
              "      <th>GrLivArea</th>\n",
              "      <th>BedroomAbvGr</th>\n",
              "      <th>KitchenAbvGr</th>\n",
              "      <th>TotRmsAbvGrd</th>\n",
              "      <th>Fireplaces</th>\n",
              "      <th>GarageType</th>\n",
              "      <th>Bath</th>\n",
              "      <th>Year</th>\n",
              "      <th>TotalFlr</th>\n",
              "      <th>GarageRatio</th>\n",
              "    </tr>\n",
              "  </thead>\n",
              "  <tbody>\n",
              "    <tr>\n",
              "      <th>0</th>\n",
              "      <td>11200</td>\n",
              "      <td>Inside</td>\n",
              "      <td>5</td>\n",
              "      <td>1040</td>\n",
              "      <td>3</td>\n",
              "      <td>1</td>\n",
              "      <td>5</td>\n",
              "      <td>0</td>\n",
              "      <td>Detchd</td>\n",
              "      <td>1</td>\n",
              "      <td>59</td>\n",
              "      <td>2080</td>\n",
              "      <td>384.0</td>\n",
              "    </tr>\n",
              "    <tr>\n",
              "      <th>1</th>\n",
              "      <td>7200</td>\n",
              "      <td>Corner</td>\n",
              "      <td>5</td>\n",
              "      <td>900</td>\n",
              "      <td>3</td>\n",
              "      <td>1</td>\n",
              "      <td>5</td>\n",
              "      <td>0</td>\n",
              "      <td>Detchd</td>\n",
              "      <td>1</td>\n",
              "      <td>24</td>\n",
              "      <td>1800</td>\n",
              "      <td>288.0</td>\n",
              "    </tr>\n",
              "    <tr>\n",
              "      <th>2</th>\n",
              "      <td>16905</td>\n",
              "      <td>Inside</td>\n",
              "      <td>5</td>\n",
              "      <td>1328</td>\n",
              "      <td>2</td>\n",
              "      <td>1</td>\n",
              "      <td>5</td>\n",
              "      <td>2</td>\n",
              "      <td>Attchd</td>\n",
              "      <td>2</td>\n",
              "      <td>65</td>\n",
              "      <td>2678</td>\n",
              "      <td>308.0</td>\n",
              "    </tr>\n",
              "    <tr>\n",
              "      <th>3</th>\n",
              "      <td>9180</td>\n",
              "      <td>CulDSac</td>\n",
              "      <td>5</td>\n",
              "      <td>884</td>\n",
              "      <td>2</td>\n",
              "      <td>1</td>\n",
              "      <td>5</td>\n",
              "      <td>0</td>\n",
              "      <td>Attchd</td>\n",
              "      <td>1</td>\n",
              "      <td>41</td>\n",
              "      <td>1724</td>\n",
              "      <td>252.0</td>\n",
              "    </tr>\n",
              "    <tr>\n",
              "      <th>4</th>\n",
              "      <td>7200</td>\n",
              "      <td>Inside</td>\n",
              "      <td>5</td>\n",
              "      <td>1111</td>\n",
              "      <td>3</td>\n",
              "      <td>1</td>\n",
              "      <td>6</td>\n",
              "      <td>0</td>\n",
              "      <td>Detchd</td>\n",
              "      <td>1</td>\n",
              "      <td>28</td>\n",
              "      <td>1641</td>\n",
              "      <td>288.0</td>\n",
              "    </tr>\n",
              "  </tbody>\n",
              "</table>\n",
              "</div>"
            ],
            "text/plain": [
              "   LotArea LotConfig  OverallQual  GrLivArea  BedroomAbvGr  KitchenAbvGr  \\\n",
              "0    11200    Inside            5       1040             3             1   \n",
              "1     7200    Corner            5        900             3             1   \n",
              "2    16905    Inside            5       1328             2             1   \n",
              "3     9180   CulDSac            5        884             2             1   \n",
              "4     7200    Inside            5       1111             3             1   \n",
              "\n",
              "   TotRmsAbvGrd  Fireplaces GarageType  Bath  Year  TotalFlr  GarageRatio  \n",
              "0             5           0     Detchd     1    59      2080        384.0  \n",
              "1             5           0     Detchd     1    24      1800        288.0  \n",
              "2             5           2     Attchd     2    65      2678        308.0  \n",
              "3             5           0     Attchd     1    41      1724        252.0  \n",
              "4             6           0     Detchd     1    28      1641        288.0  "
            ]
          },
          "execution_count": 30,
          "metadata": {},
          "output_type": "execute_result"
        }
      ],
      "source": [
        "problemset.head()"
      ]
    },
    {
      "cell_type": "code",
      "execution_count": 31,
      "metadata": {},
      "outputs": [],
      "source": [
        "# dataset과 problemset을 합치는데, 섞이지 않게 합친다\n",
        "all_data = pd.concat([dataset, problemset], ignore_index=True)\n",
        "# # 범주형 변수를 더미화 시킨다\n",
        "all_data = pd.get_dummies(all_data)\n"
      ]
    },
    {
      "cell_type": "code",
      "execution_count": 32,
      "metadata": {},
      "outputs": [],
      "source": [
        "# 학습 데이터와 문제 데이터로 다시 분리\n",
        "dataset = all_data.iloc[:len(dataset)]\n",
        "problemset = all_data.iloc[len(dataset):]"
      ]
    },
    {
      "cell_type": "code",
      "execution_count": 33,
      "metadata": {},
      "outputs": [
        {
          "data": {
            "text/plain": [
              "((1340, 24), (130, 24))"
            ]
          },
          "execution_count": 33,
          "metadata": {},
          "output_type": "execute_result"
        }
      ],
      "source": [
        "dataset.shape, problemset.shape"
      ]
    },
    {
      "cell_type": "code",
      "execution_count": 34,
      "metadata": {},
      "outputs": [],
      "source": [
        "problemset.drop(\"SalePrice\", axis=1, inplace=True)"
      ]
    },
    {
      "cell_type": "code",
      "execution_count": 35,
      "metadata": {},
      "outputs": [
        {
          "data": {
            "text/plain": [
              "((1340, 24), (130, 23))"
            ]
          },
          "execution_count": 35,
          "metadata": {},
          "output_type": "execute_result"
        }
      ],
      "source": [
        "dataset.shape, problemset.shape"
      ]
    },
    {
      "cell_type": "code",
      "execution_count": 36,
      "metadata": {},
      "outputs": [],
      "source": [
        "# 데이터셋 분리\n",
        "from sklearn.model_selection  import train_test_split\n",
        "x_train = dataset.drop(\"SalePrice\", axis=1)\n",
        "y_train = dataset[\"SalePrice\"]\n",
        "x_train, x_test, y_train, y_test = train_test_split(x_train, y_train, test_size=0.2, random_state=42)"
      ]
    },
    {
      "cell_type": "code",
      "execution_count": 37,
      "metadata": {},
      "outputs": [],
      "source": [
        "# Random over-sampling 적용\n",
        "from imblearn.over_sampling import RandomOverSampler\n",
        "ros = RandomOverSampler(random_state=42)\n",
        "x_train, y_train = ros.fit_resample(x_train, y_train)\n",
        "\n"
      ]
    },
    {
      "cell_type": "code",
      "execution_count": 38,
      "metadata": {},
      "outputs": [
        {
          "data": {
            "text/plain": [
              "((8720, 23), (268, 23), (8720,), (268,))"
            ]
          },
          "execution_count": 38,
          "metadata": {},
          "output_type": "execute_result"
        }
      ],
      "source": [
        "x_train.shape, x_test.shape, y_train.shape, y_test.shape"
      ]
    },
    {
      "cell_type": "code",
      "execution_count": 39,
      "metadata": {},
      "outputs": [],
      "source": [
        "x_problem = problemset"
      ]
    },
    {
      "cell_type": "code",
      "execution_count": 40,
      "metadata": {},
      "outputs": [],
      "source": [
        "# catboost 모델 학습\n",
        "from catboost import CatBoostRegressor\n",
        "cat = CatBoostRegressor(random_state=42, verbose=0)\n",
        "cat.fit(x_train, y_train)\n",
        "y_pred = cat.predict(x_test)\n",
        "\n",
        "\n",
        "\n",
        "\n",
        "\n",
        "\n"
      ]
    },
    {
      "cell_type": "code",
      "execution_count": 41,
      "metadata": {},
      "outputs": [],
      "source": [
        "# 모델로 예측\n",
        "problem_pred = cat.predict(x_problem)\n",
        "\n"
      ]
    },
    {
      "cell_type": "code",
      "execution_count": 42,
      "metadata": {},
      "outputs": [
        {
          "data": {
            "text/html": [
              "<div>\n",
              "<style scoped>\n",
              "    .dataframe tbody tr th:only-of-type {\n",
              "        vertical-align: middle;\n",
              "    }\n",
              "\n",
              "    .dataframe tbody tr th {\n",
              "        vertical-align: top;\n",
              "    }\n",
              "\n",
              "    .dataframe thead th {\n",
              "        text-align: right;\n",
              "    }\n",
              "</style>\n",
              "<table border=\"1\" class=\"dataframe\">\n",
              "  <thead>\n",
              "    <tr style=\"text-align: right;\">\n",
              "      <th></th>\n",
              "      <th>Id</th>\n",
              "      <th>SalePrice</th>\n",
              "    </tr>\n",
              "  </thead>\n",
              "  <tbody>\n",
              "    <tr>\n",
              "      <th>0</th>\n",
              "      <td>1341</td>\n",
              "      <td>129930.416695</td>\n",
              "    </tr>\n",
              "    <tr>\n",
              "      <th>1</th>\n",
              "      <td>1342</td>\n",
              "      <td>123901.225902</td>\n",
              "    </tr>\n",
              "    <tr>\n",
              "      <th>2</th>\n",
              "      <td>1343</td>\n",
              "      <td>168436.384414</td>\n",
              "    </tr>\n",
              "    <tr>\n",
              "      <th>3</th>\n",
              "      <td>1344</td>\n",
              "      <td>128224.284953</td>\n",
              "    </tr>\n",
              "    <tr>\n",
              "      <th>4</th>\n",
              "      <td>1345</td>\n",
              "      <td>115343.118567</td>\n",
              "    </tr>\n",
              "    <tr>\n",
              "      <th>...</th>\n",
              "      <td>...</td>\n",
              "      <td>...</td>\n",
              "    </tr>\n",
              "    <tr>\n",
              "      <th>125</th>\n",
              "      <td>1466</td>\n",
              "      <td>292073.904713</td>\n",
              "    </tr>\n",
              "    <tr>\n",
              "      <th>126</th>\n",
              "      <td>1467</td>\n",
              "      <td>203470.639556</td>\n",
              "    </tr>\n",
              "    <tr>\n",
              "      <th>127</th>\n",
              "      <td>1468</td>\n",
              "      <td>85519.577797</td>\n",
              "    </tr>\n",
              "    <tr>\n",
              "      <th>128</th>\n",
              "      <td>1469</td>\n",
              "      <td>112145.414724</td>\n",
              "    </tr>\n",
              "    <tr>\n",
              "      <th>129</th>\n",
              "      <td>1470</td>\n",
              "      <td>156490.379065</td>\n",
              "    </tr>\n",
              "  </tbody>\n",
              "</table>\n",
              "<p>130 rows × 2 columns</p>\n",
              "</div>"
            ],
            "text/plain": [
              "       Id      SalePrice\n",
              "0    1341  129930.416695\n",
              "1    1342  123901.225902\n",
              "2    1343  168436.384414\n",
              "3    1344  128224.284953\n",
              "4    1345  115343.118567\n",
              "..    ...            ...\n",
              "125  1466  292073.904713\n",
              "126  1467  203470.639556\n",
              "127  1468   85519.577797\n",
              "128  1469  112145.414724\n",
              "129  1470  156490.379065\n",
              "\n",
              "[130 rows x 2 columns]"
            ]
          },
          "metadata": {},
          "output_type": "display_data"
        },
        {
          "name": "stdout",
          "output_type": "stream",
          "text": [
            "아이디:  g4312@naver.com\n",
            "파일명:  submissions\\20240515-133643-submission.csv\n",
            "============================================================\n",
            "[제출에 성공하였습니다]\n",
            "제출 결과: 25062.977762087376\n"
          ]
        }
      ],
      "source": [
        "# 리더보드 서버 제출을 위한 파일 생성\n",
        "submission = pd.read_csv(os.path.join(DATA_DIR, \"submission.csv\"))\n",
        "submission[\"SalePrice\"] = problem_pred\n",
        "\n",
        "# 예측 결과 화면에 출력 후 제출\n",
        "display(submission)\n",
        "competition.submit(project, username, password, submission)"
      ]
    },
    {
      "cell_type": "code",
      "execution_count": null,
      "metadata": {},
      "outputs": [],
      "source": []
    }
  ],
  "metadata": {
    "colab": {
      "provenance": []
    },
    "kernelspec": {
      "display_name": "dl",
      "language": "python",
      "name": "python3"
    },
    "language_info": {
      "codemirror_mode": {
        "name": "ipython",
        "version": 3
      },
      "file_extension": ".py",
      "mimetype": "text/x-python",
      "name": "python",
      "nbconvert_exporter": "python",
      "pygments_lexer": "ipython3",
      "version": "3.9.13"
    }
  },
  "nbformat": 4,
  "nbformat_minor": 0
}
