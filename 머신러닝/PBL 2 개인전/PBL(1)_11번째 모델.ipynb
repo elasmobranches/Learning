{
  "cells": [
    {
      "cell_type": "markdown",
      "metadata": {
        "id": "bOd4OT9yKQMX"
      },
      "source": [
        "## PBL(1): Individual Project Work\n",
        "\n",
        "1. https://agtechresearch.pythonanywhere.com/ 에 접속하여 회원가입해 주세요. (비밀번호는 단순하게 만드는 것을 권장. 예: 1234)\n",
        "2. `username` 에 이메일 형식의 아이디를 기입해 주세요.\n",
        "3. `password` 에 비밀번호를 기입해 주세요."
      ]
    },
    {
      "cell_type": "markdown",
      "metadata": {},
      "source": [
        "## PBL(1): Individual Project Work\n",
        "\n",
        "1. https://agtechresearch.pythonanywhere.com/ 에 접속하여 회원가입해 주세요. (비밀번호는 단순하게 만드는 것을 권장. 예: 1234)\n",
        "2. `username` 에 이메일 형식의 아이디를 기입해 주세요.\n",
        "3. `password` 에 비밀번호를 기입해 주세요."
      ]
    },
    {
      "cell_type": "code",
      "execution_count": 8,
      "metadata": {
        "id": "aylesGLEKQMc"
      },
      "outputs": [],
      "source": [
        "project = \"housingprice\"  # 수정하지 마세요\n",
        "username = \"g4312@naver.com\"  # 회원가입 시 사용한 이메일아이디 (예시. abc@hello.com)\n",
        "password = \"1234\"  # 비밀번호\n"
      ]
    },
    {
      "cell_type": "markdown",
      "metadata": {
        "id": "efTd527LKQMg"
      },
      "source": [
        "리더보드 제출을 위한 기본 설정: 아래 코드를 실행해주세요.\n"
      ]
    },
    {
      "cell_type": "code",
      "execution_count": 9,
      "metadata": {
        "id": "pantTrHwKQMg"
      },
      "outputs": [],
      "source": [
        "import os\n",
        "import urllib.request\n",
        "\n",
        "if not os.path.exists(\"competition.py\"):\n",
        "    url = \"https://raw.githubusercontent.com/agtechresearch/LectureAlgorithm/main/competition/competition.py\"\n",
        "    filename = \"competition.py\"\n",
        "    urllib.request.urlretrieve(url, filename)"
      ]
    },
    {
      "cell_type": "markdown",
      "metadata": {
        "id": "eo8feaPCKQMh"
      },
      "source": [
        "아래 코드를 실행하여 데이터를 다운로드 받습니다: 3개의 csv 파일이 data 폴더에 다운로드됨\n",
        "\n",
        " * dataset.csv: 과거 주택매매 데이터 -> 학습에 사용할 데이터셋\n",
        " * problem.csv: 현재 A사가 매매를 고려하고 있는 130건의 주택정보 -> ML 모델에 의하여 예측을 수행하여야 할 데이터셋\n",
        " * submission.csv: 리더보드 서버 제출을 위한 파일 형식\n"
      ]
    },
    {
      "cell_type": "code",
      "execution_count": 10,
      "metadata": {
        "colab": {
          "base_uri": "https://localhost:8080/"
        },
        "id": "ESsqkBacKQMi",
        "outputId": "23a8cd61-e5f0-4f46-99de-97721967f14c"
      },
      "outputs": [
        {
          "name": "stderr",
          "output_type": "stream",
          "text": [
            "100%|██████████| 141k/141k [00:00<00:00, 338kiB/s] \n"
          ]
        }
      ],
      "source": [
        "import competition\n",
        "\n",
        "# 파일 다운로드\n",
        "competition.download_competition_files(project)"
      ]
    },
    {
      "cell_type": "code",
      "execution_count": 11,
      "metadata": {
        "id": "I9K8zK8LKQMl"
      },
      "outputs": [],
      "source": [
        "import pandas as pd\n",
        "import numpy as np\n",
        "import matplotlib.pyplot as plt\n",
        "import seaborn as sns\n",
        "import warnings\n",
        "\n",
        "# 경고 무시\n",
        "warnings.filterwarnings(\"ignore\")\n",
        "\n",
        "# Data 경로 설정\n",
        "DATA_DIR = \"data\""
      ]
    },
    {
      "cell_type": "code",
      "execution_count": 12,
      "metadata": {},
      "outputs": [],
      "source": [
        "# 메모리를 효율적으로 사용하기 위한 downcast 함수 정의\n",
        "def downcast(df, verbose=True):     # verbose 옵션 추가: (True)인 경우 몇 퍼센트 압축됐는지 출력\n",
        "    start_mem = df.memory_usage().sum() / 1024**2   # 초기 메모리 사용량\n",
        "    for col in df.columns:\n",
        "        dtype_name = df[col].dtype.name\n",
        "        if dtype_name == 'object':\n",
        "            pass\n",
        "        elif dtype_name == 'bool':\n",
        "            df[col] = df[col].astype('int8')\n",
        "        elif dtype_name.startswith('int') or (df[col].round() == df[col]).all():\n",
        "            df[col] = pd.to_numeric(df[col], downcast='integer')\n",
        "        else:\n",
        "            df[col] = pd.to_numeric(df[col], downcast='float')\n",
        "    end_mem = df.memory_usage().sum() / 1024**2\n",
        "\n",
        "    if verbose:\n",
        "        print(f'{(100*(start_mem - end_mem) / start_mem):.1f}% 압축됨')\n",
        "\n",
        "    return df"
      ]
    },
    {
      "cell_type": "code",
      "execution_count": 13,
      "metadata": {
        "id": "Z4-3U9tFKQMm"
      },
      "outputs": [],
      "source": [
        "# 학습에 사용할 과거 주택매매 data set 로드 (dataset.csv)\n",
        "dataset = pd.read_csv(os.path.join(DATA_DIR, \"dataset.csv\"))\n",
        "\n",
        "# problem set 로드 (problem.csv)\n",
        "problemset = pd.read_csv(os.path.join(DATA_DIR, \"problem.csv\"))"
      ]
    },
    {
      "cell_type": "code",
      "execution_count": 14,
      "metadata": {},
      "outputs": [
        {
          "name": "stdout",
          "output_type": "stream",
          "text": [
            "67.2% 압축됨\n",
            "68.7% 압축됨\n"
          ]
        },
        {
          "data": {
            "text/html": [
              "<div>\n",
              "<style scoped>\n",
              "    .dataframe tbody tr th:only-of-type {\n",
              "        vertical-align: middle;\n",
              "    }\n",
              "\n",
              "    .dataframe tbody tr th {\n",
              "        vertical-align: top;\n",
              "    }\n",
              "\n",
              "    .dataframe thead th {\n",
              "        text-align: right;\n",
              "    }\n",
              "</style>\n",
              "<table border=\"1\" class=\"dataframe\">\n",
              "  <thead>\n",
              "    <tr style=\"text-align: right;\">\n",
              "      <th></th>\n",
              "      <th>Id</th>\n",
              "      <th>LotArea</th>\n",
              "      <th>Street</th>\n",
              "      <th>LotConfig</th>\n",
              "      <th>OverallQual</th>\n",
              "      <th>OverallCond</th>\n",
              "      <th>YearBuilt</th>\n",
              "      <th>YearRemodAdd</th>\n",
              "      <th>TotalBsmtSF</th>\n",
              "      <th>1stFlrSF</th>\n",
              "      <th>...</th>\n",
              "      <th>HalfBath</th>\n",
              "      <th>BedroomAbvGr</th>\n",
              "      <th>KitchenAbvGr</th>\n",
              "      <th>TotRmsAbvGrd</th>\n",
              "      <th>Fireplaces</th>\n",
              "      <th>GarageType</th>\n",
              "      <th>GarageYrBlt</th>\n",
              "      <th>GarageCars</th>\n",
              "      <th>GarageArea</th>\n",
              "      <th>YrSold</th>\n",
              "    </tr>\n",
              "  </thead>\n",
              "  <tbody>\n",
              "    <tr>\n",
              "      <th>0</th>\n",
              "      <td>1341</td>\n",
              "      <td>11200</td>\n",
              "      <td>Pave</td>\n",
              "      <td>Inside</td>\n",
              "      <td>5</td>\n",
              "      <td>5</td>\n",
              "      <td>1965</td>\n",
              "      <td>1965</td>\n",
              "      <td>1040</td>\n",
              "      <td>1040</td>\n",
              "      <td>...</td>\n",
              "      <td>0</td>\n",
              "      <td>3</td>\n",
              "      <td>1</td>\n",
              "      <td>5</td>\n",
              "      <td>0</td>\n",
              "      <td>Detchd</td>\n",
              "      <td>1965</td>\n",
              "      <td>1</td>\n",
              "      <td>384</td>\n",
              "      <td>2008</td>\n",
              "    </tr>\n",
              "    <tr>\n",
              "      <th>1</th>\n",
              "      <td>1342</td>\n",
              "      <td>7200</td>\n",
              "      <td>Pave</td>\n",
              "      <td>Corner</td>\n",
              "      <td>5</td>\n",
              "      <td>7</td>\n",
              "      <td>1951</td>\n",
              "      <td>2000</td>\n",
              "      <td>900</td>\n",
              "      <td>900</td>\n",
              "      <td>...</td>\n",
              "      <td>0</td>\n",
              "      <td>3</td>\n",
              "      <td>1</td>\n",
              "      <td>5</td>\n",
              "      <td>0</td>\n",
              "      <td>Detchd</td>\n",
              "      <td>2005</td>\n",
              "      <td>2</td>\n",
              "      <td>576</td>\n",
              "      <td>2010</td>\n",
              "    </tr>\n",
              "    <tr>\n",
              "      <th>2</th>\n",
              "      <td>1343</td>\n",
              "      <td>16905</td>\n",
              "      <td>Pave</td>\n",
              "      <td>Inside</td>\n",
              "      <td>5</td>\n",
              "      <td>6</td>\n",
              "      <td>1959</td>\n",
              "      <td>1959</td>\n",
              "      <td>1350</td>\n",
              "      <td>1328</td>\n",
              "      <td>...</td>\n",
              "      <td>1</td>\n",
              "      <td>2</td>\n",
              "      <td>1</td>\n",
              "      <td>5</td>\n",
              "      <td>2</td>\n",
              "      <td>Attchd</td>\n",
              "      <td>1959</td>\n",
              "      <td>1</td>\n",
              "      <td>308</td>\n",
              "      <td>2007</td>\n",
              "    </tr>\n",
              "    <tr>\n",
              "      <th>3</th>\n",
              "      <td>1344</td>\n",
              "      <td>9180</td>\n",
              "      <td>Pave</td>\n",
              "      <td>CulDSac</td>\n",
              "      <td>5</td>\n",
              "      <td>7</td>\n",
              "      <td>1983</td>\n",
              "      <td>1983</td>\n",
              "      <td>840</td>\n",
              "      <td>884</td>\n",
              "      <td>...</td>\n",
              "      <td>0</td>\n",
              "      <td>2</td>\n",
              "      <td>1</td>\n",
              "      <td>5</td>\n",
              "      <td>0</td>\n",
              "      <td>Attchd</td>\n",
              "      <td>1983</td>\n",
              "      <td>2</td>\n",
              "      <td>504</td>\n",
              "      <td>2007</td>\n",
              "    </tr>\n",
              "    <tr>\n",
              "      <th>4</th>\n",
              "      <td>1345</td>\n",
              "      <td>7200</td>\n",
              "      <td>Pave</td>\n",
              "      <td>Inside</td>\n",
              "      <td>5</td>\n",
              "      <td>7</td>\n",
              "      <td>1920</td>\n",
              "      <td>1996</td>\n",
              "      <td>530</td>\n",
              "      <td>581</td>\n",
              "      <td>...</td>\n",
              "      <td>0</td>\n",
              "      <td>3</td>\n",
              "      <td>1</td>\n",
              "      <td>6</td>\n",
              "      <td>0</td>\n",
              "      <td>Detchd</td>\n",
              "      <td>1935</td>\n",
              "      <td>1</td>\n",
              "      <td>288</td>\n",
              "      <td>2007</td>\n",
              "    </tr>\n",
              "    <tr>\n",
              "      <th>...</th>\n",
              "      <td>...</td>\n",
              "      <td>...</td>\n",
              "      <td>...</td>\n",
              "      <td>...</td>\n",
              "      <td>...</td>\n",
              "      <td>...</td>\n",
              "      <td>...</td>\n",
              "      <td>...</td>\n",
              "      <td>...</td>\n",
              "      <td>...</td>\n",
              "      <td>...</td>\n",
              "      <td>...</td>\n",
              "      <td>...</td>\n",
              "      <td>...</td>\n",
              "      <td>...</td>\n",
              "      <td>...</td>\n",
              "      <td>...</td>\n",
              "      <td>...</td>\n",
              "      <td>...</td>\n",
              "      <td>...</td>\n",
              "      <td>...</td>\n",
              "    </tr>\n",
              "    <tr>\n",
              "      <th>125</th>\n",
              "      <td>1466</td>\n",
              "      <td>11478</td>\n",
              "      <td>Pave</td>\n",
              "      <td>Inside</td>\n",
              "      <td>8</td>\n",
              "      <td>5</td>\n",
              "      <td>2007</td>\n",
              "      <td>2008</td>\n",
              "      <td>1704</td>\n",
              "      <td>1704</td>\n",
              "      <td>...</td>\n",
              "      <td>0</td>\n",
              "      <td>3</td>\n",
              "      <td>1</td>\n",
              "      <td>7</td>\n",
              "      <td>1</td>\n",
              "      <td>Attchd</td>\n",
              "      <td>2008</td>\n",
              "      <td>3</td>\n",
              "      <td>772</td>\n",
              "      <td>2010</td>\n",
              "    </tr>\n",
              "    <tr>\n",
              "      <th>126</th>\n",
              "      <td>1467</td>\n",
              "      <td>16321</td>\n",
              "      <td>Pave</td>\n",
              "      <td>CulDSac</td>\n",
              "      <td>5</td>\n",
              "      <td>6</td>\n",
              "      <td>1957</td>\n",
              "      <td>1997</td>\n",
              "      <td>1484</td>\n",
              "      <td>1600</td>\n",
              "      <td>...</td>\n",
              "      <td>0</td>\n",
              "      <td>2</td>\n",
              "      <td>1</td>\n",
              "      <td>6</td>\n",
              "      <td>2</td>\n",
              "      <td>Attchd</td>\n",
              "      <td>1957</td>\n",
              "      <td>1</td>\n",
              "      <td>319</td>\n",
              "      <td>2006</td>\n",
              "    </tr>\n",
              "    <tr>\n",
              "      <th>127</th>\n",
              "      <td>1468</td>\n",
              "      <td>6324</td>\n",
              "      <td>Pave</td>\n",
              "      <td>Inside</td>\n",
              "      <td>4</td>\n",
              "      <td>6</td>\n",
              "      <td>1927</td>\n",
              "      <td>1950</td>\n",
              "      <td>520</td>\n",
              "      <td>520</td>\n",
              "      <td>...</td>\n",
              "      <td>0</td>\n",
              "      <td>1</td>\n",
              "      <td>1</td>\n",
              "      <td>4</td>\n",
              "      <td>0</td>\n",
              "      <td>Detchd</td>\n",
              "      <td>1920</td>\n",
              "      <td>1</td>\n",
              "      <td>240</td>\n",
              "      <td>2008</td>\n",
              "    </tr>\n",
              "    <tr>\n",
              "      <th>128</th>\n",
              "      <td>1469</td>\n",
              "      <td>8500</td>\n",
              "      <td>Pave</td>\n",
              "      <td>Inside</td>\n",
              "      <td>4</td>\n",
              "      <td>4</td>\n",
              "      <td>1920</td>\n",
              "      <td>1950</td>\n",
              "      <td>649</td>\n",
              "      <td>649</td>\n",
              "      <td>...</td>\n",
              "      <td>0</td>\n",
              "      <td>3</td>\n",
              "      <td>1</td>\n",
              "      <td>6</td>\n",
              "      <td>0</td>\n",
              "      <td>Detchd</td>\n",
              "      <td>1920</td>\n",
              "      <td>1</td>\n",
              "      <td>250</td>\n",
              "      <td>2008</td>\n",
              "    </tr>\n",
              "    <tr>\n",
              "      <th>129</th>\n",
              "      <td>1470</td>\n",
              "      <td>8544</td>\n",
              "      <td>Pave</td>\n",
              "      <td>CulDSac</td>\n",
              "      <td>5</td>\n",
              "      <td>6</td>\n",
              "      <td>1966</td>\n",
              "      <td>2006</td>\n",
              "      <td>1228</td>\n",
              "      <td>1228</td>\n",
              "      <td>...</td>\n",
              "      <td>1</td>\n",
              "      <td>3</td>\n",
              "      <td>1</td>\n",
              "      <td>6</td>\n",
              "      <td>0</td>\n",
              "      <td>Attchd</td>\n",
              "      <td>1966</td>\n",
              "      <td>1</td>\n",
              "      <td>271</td>\n",
              "      <td>2008</td>\n",
              "    </tr>\n",
              "  </tbody>\n",
              "</table>\n",
              "<p>130 rows × 23 columns</p>\n",
              "</div>"
            ],
            "text/plain": [
              "       Id  LotArea Street LotConfig  OverallQual  OverallCond  YearBuilt  \\\n",
              "0    1341    11200   Pave    Inside            5            5       1965   \n",
              "1    1342     7200   Pave    Corner            5            7       1951   \n",
              "2    1343    16905   Pave    Inside            5            6       1959   \n",
              "3    1344     9180   Pave   CulDSac            5            7       1983   \n",
              "4    1345     7200   Pave    Inside            5            7       1920   \n",
              "..    ...      ...    ...       ...          ...          ...        ...   \n",
              "125  1466    11478   Pave    Inside            8            5       2007   \n",
              "126  1467    16321   Pave   CulDSac            5            6       1957   \n",
              "127  1468     6324   Pave    Inside            4            6       1927   \n",
              "128  1469     8500   Pave    Inside            4            4       1920   \n",
              "129  1470     8544   Pave   CulDSac            5            6       1966   \n",
              "\n",
              "     YearRemodAdd  TotalBsmtSF  1stFlrSF  ...  HalfBath  BedroomAbvGr  \\\n",
              "0            1965         1040      1040  ...         0             3   \n",
              "1            2000          900       900  ...         0             3   \n",
              "2            1959         1350      1328  ...         1             2   \n",
              "3            1983          840       884  ...         0             2   \n",
              "4            1996          530       581  ...         0             3   \n",
              "..            ...          ...       ...  ...       ...           ...   \n",
              "125          2008         1704      1704  ...         0             3   \n",
              "126          1997         1484      1600  ...         0             2   \n",
              "127          1950          520       520  ...         0             1   \n",
              "128          1950          649       649  ...         0             3   \n",
              "129          2006         1228      1228  ...         1             3   \n",
              "\n",
              "     KitchenAbvGr  TotRmsAbvGrd  Fireplaces  GarageType  GarageYrBlt  \\\n",
              "0               1             5           0      Detchd         1965   \n",
              "1               1             5           0      Detchd         2005   \n",
              "2               1             5           2      Attchd         1959   \n",
              "3               1             5           0      Attchd         1983   \n",
              "4               1             6           0      Detchd         1935   \n",
              "..            ...           ...         ...         ...          ...   \n",
              "125             1             7           1      Attchd         2008   \n",
              "126             1             6           2      Attchd         1957   \n",
              "127             1             4           0      Detchd         1920   \n",
              "128             1             6           0      Detchd         1920   \n",
              "129             1             6           0      Attchd         1966   \n",
              "\n",
              "     GarageCars GarageArea  YrSold  \n",
              "0             1        384    2008  \n",
              "1             2        576    2010  \n",
              "2             1        308    2007  \n",
              "3             2        504    2007  \n",
              "4             1        288    2007  \n",
              "..          ...        ...     ...  \n",
              "125           3        772    2010  \n",
              "126           1        319    2006  \n",
              "127           1        240    2008  \n",
              "128           1        250    2008  \n",
              "129           1        271    2008  \n",
              "\n",
              "[130 rows x 23 columns]"
            ]
          },
          "execution_count": 14,
          "metadata": {},
          "output_type": "execute_result"
        }
      ],
      "source": [
        "downcast(dataset)\n",
        "downcast(problemset)"
      ]
    },
    {
      "cell_type": "code",
      "execution_count": 15,
      "metadata": {},
      "outputs": [
        {
          "data": {
            "text/plain": [
              "Id              0\n",
              "LotArea         0\n",
              "Street          0\n",
              "LotConfig       0\n",
              "OverallQual     0\n",
              "OverallCond     0\n",
              "YearBuilt       0\n",
              "YearRemodAdd    0\n",
              "TotalBsmtSF     0\n",
              "1stFlrSF        0\n",
              "2ndFlrSF        0\n",
              "GrLivArea       0\n",
              "FullBath        0\n",
              "HalfBath        0\n",
              "BedroomAbvGr    0\n",
              "KitchenAbvGr    0\n",
              "TotRmsAbvGrd    0\n",
              "Fireplaces      0\n",
              "GarageType      0\n",
              "GarageYrBlt     0\n",
              "GarageCars      0\n",
              "GarageArea      0\n",
              "YrSold          0\n",
              "SalePrice       0\n",
              "dtype: int64"
            ]
          },
          "execution_count": 15,
          "metadata": {},
          "output_type": "execute_result"
        }
      ],
      "source": [
        "# # 결측치가 있다면 GarageType은 NO Garage로, GarageYrBlt의 값은 0으로 대체\n",
        "dataset[\"GarageType\"].fillna(\"No Garage\", inplace=True)\n",
        "dataset[\"GarageYrBlt\"].fillna(0, inplace=True)\n",
        "\n",
        "dataset.isnull().sum()\n"
      ]
    },
    {
      "cell_type": "code",
      "execution_count": 16,
      "metadata": {},
      "outputs": [],
      "source": [
        "#FullBath와 HalfBath를 합쳐서 Bath로 만든다\n",
        "#YearBuilt는 제거하고, 2024를 YearRemodAdd뺀 Year 열 추가, 이후 YearRemodAdd는 제거\n",
        "#총 면적을 나타내기 위해 1stFlrSF, 2ndFlrSF, TotalBsmtSF를 합쳐서 TotalFlr로 나타낸다. 나머지는 지운다\n",
        "#OverallCond제거, Id제거, KitchenAbvGr제거, YrSold제거\n",
        "\n",
        "dataset[\"Bath\"] = dataset[\"FullBath\"] + dataset[\"HalfBath\"]\n",
        "dataset[\"Year\"] = 2024 - dataset[\"YearRemodAdd\"]\n",
        "dataset[\"TotalFlr\"] = dataset[\"1stFlrSF\"] + dataset[\"2ndFlrSF\"] + dataset[\"TotalBsmtSF\"]\n",
        "\n",
        "#이후 필요없는 열 제거\n",
        "dataset.drop([\"FullBath\", \"HalfBath\", \"YearBuilt\", \"YearRemodAdd\", \"1stFlrSF\", \"2ndFlrSF\", \"TotalBsmtSF\",  \"Id\", \"KitchenAbvGr\", \"YrSold\",'Street'], axis=1, inplace=True)\n",
        "\n",
        "# # problem set 전처리\n",
        "# # problem set에도 동일한 전처리를 적용한다.\n",
        "problemset[\"Bath\"] = problemset[\"FullBath\"] + problemset[\"HalfBath\"]\n",
        "problemset[\"Year\"] = 2024 - problemset[\"YearRemodAdd\"]\n",
        "problemset[\"TotalFlr\"] = problemset[\"1stFlrSF\"] + problemset[\"2ndFlrSF\"] + problemset[\"TotalBsmtSF\"]\n",
        "#이후 필요없는 열 제거\n",
        "problemset.drop([\"FullBath\", \"HalfBath\", \"YearBuilt\", \"YearRemodAdd\", \"1stFlrSF\", \"2ndFlrSF\", \"TotalBsmtSF\", \"Id\", \"KitchenAbvGr\", \"YrSold\",'Street'], axis=1, inplace=True)\n"
      ]
    },
    {
      "cell_type": "code",
      "execution_count": 17,
      "metadata": {},
      "outputs": [
        {
          "data": {
            "text/plain": [
              "((1340, 16), (130, 15))"
            ]
          },
          "execution_count": 17,
          "metadata": {},
          "output_type": "execute_result"
        }
      ],
      "source": [
        "dataset.shape , problemset.shape"
      ]
    },
    {
      "cell_type": "code",
      "execution_count": 18,
      "metadata": {},
      "outputs": [],
      "source": [
        "# GrLIvArea가 4000이상인 이상치 4000으로 대체\n",
        "dataset.loc[dataset[\"GrLivArea\"] > 4000, \"GrLivArea\"] = 4000\n",
        "# LotArea가 100000이상인 이상치 100000으로 대체\n",
        "dataset.loc[dataset[\"LotArea\"] > 100000, \"LotArea\"] = 100000\n"
      ]
    },
    {
      "cell_type": "code",
      "execution_count": 19,
      "metadata": {},
      "outputs": [],
      "source": [
        "# GarageYrBlt가 0이 아닐시 2024에서 뺀 값으로 대체\n",
        "dataset.loc[dataset[\"GarageYrBlt\"] != 0, \"GarageYrBlt\"] = 2024 - dataset[\"GarageYrBlt\"]\n",
        "# problem set에도 동일한 전처리를 적용한다.\n",
        "problemset.loc[problemset[\"GarageYrBlt\"] != 0, \"GarageYrBlt\"] = 2024 - problemset[\"GarageYrBlt\"]\n",
        "\n",
        "\n",
        "\n"
      ]
    },
    {
      "cell_type": "code",
      "execution_count": 20,
      "metadata": {},
      "outputs": [],
      "source": [
        "# dataset과 problemset을 합치는데, 섞이지 않게 합친다\n",
        "all_data = pd.concat([dataset, problemset], ignore_index=True)\n",
        "# 범주형 변수를 더미화 시킨다\n",
        "all_data = pd.get_dummies(all_data)\n"
      ]
    },
    {
      "cell_type": "code",
      "execution_count": 21,
      "metadata": {},
      "outputs": [],
      "source": [
        "# 학습 데이터와 문제 데이터로 다시 분리\n",
        "dataset = all_data.iloc[:len(dataset)]\n",
        "problemset = all_data.iloc[len(dataset):]"
      ]
    },
    {
      "cell_type": "code",
      "execution_count": 22,
      "metadata": {},
      "outputs": [
        {
          "data": {
            "text/plain": [
              "((1340, 26), (130, 26))"
            ]
          },
          "execution_count": 22,
          "metadata": {},
          "output_type": "execute_result"
        }
      ],
      "source": [
        "dataset.shape, problemset.shape"
      ]
    },
    {
      "cell_type": "code",
      "execution_count": 23,
      "metadata": {},
      "outputs": [],
      "source": [
        "problemset.drop(\"SalePrice\", axis=1, inplace=True)"
      ]
    },
    {
      "cell_type": "code",
      "execution_count": 24,
      "metadata": {},
      "outputs": [
        {
          "data": {
            "text/plain": [
              "((1340, 26), (130, 25))"
            ]
          },
          "execution_count": 24,
          "metadata": {},
          "output_type": "execute_result"
        }
      ],
      "source": [
        "dataset.shape, problemset.shape"
      ]
    },
    {
      "cell_type": "code",
      "execution_count": 25,
      "metadata": {},
      "outputs": [],
      "source": [
        "# 데이터셋 분리\n",
        "from sklearn.model_selection  import train_test_split\n",
        "x_train = dataset.drop(\"SalePrice\", axis=1)\n",
        "y_train = dataset[\"SalePrice\"]\n",
        "x_train, x_test, y_train, y_test = train_test_split(x_train, y_train, test_size=0.2, random_state=42)"
      ]
    },
    {
      "cell_type": "code",
      "execution_count": 26,
      "metadata": {},
      "outputs": [],
      "source": [
        "# Random over-sampling 적용\n",
        "from imblearn.over_sampling import RandomOverSampler\n",
        "ros = RandomOverSampler(random_state=42)\n",
        "x_train, y_train = ros.fit_resample(x_train, y_train)\n",
        "\n"
      ]
    },
    {
      "cell_type": "code",
      "execution_count": 27,
      "metadata": {},
      "outputs": [
        {
          "data": {
            "text/plain": [
              "((8720, 25), (268, 25), (8720,), (268,))"
            ]
          },
          "execution_count": 27,
          "metadata": {},
          "output_type": "execute_result"
        }
      ],
      "source": [
        "x_train.shape, x_test.shape, y_train.shape, y_test.shape"
      ]
    },
    {
      "cell_type": "code",
      "execution_count": 28,
      "metadata": {},
      "outputs": [],
      "source": [
        "x_problem = problemset"
      ]
    },
    {
      "cell_type": "code",
      "execution_count": 78,
      "metadata": {},
      "outputs": [
        {
          "data": {
            "text/plain": [
              "((8720, 25), (268, 25), (130, 25))"
            ]
          },
          "execution_count": 78,
          "metadata": {},
          "output_type": "execute_result"
        }
      ],
      "source": [
        "x_train.shape, x_test.shape , x_problem.shape"
      ]
    },
    {
      "cell_type": "code",
      "execution_count": 30,
      "metadata": {},
      "outputs": [],
      "source": [
        "# 모델 정의\n",
        "from sklearn.model_selection import KFold, cross_val_score\n",
        "from sklearn.metrics import mean_squared_error\n",
        "\n",
        "kfolds = KFold(n_splits=10, shuffle=True, random_state=42)\n",
        "\n",
        "def rmsle(y, y_pred):\n",
        "    return np.sqrt(mean_squared_error(y, y_pred))\n",
        "\n",
        "def cv_rmse(model, X=x_train):\n",
        "    rmse = np.sqrt(-cross_val_score(model, X, y_train, scoring=\"neg_mean_squared_error\", cv=kfolds))\n",
        "    return rmse"
      ]
    },
    {
      "cell_type": "code",
      "execution_count": 31,
      "metadata": {},
      "outputs": [],
      "source": [
        "alphas_alt = [14.5, 14.6, 14.7, 14.8, 14.9, 15, 15.1, 15.2, 15.3, 15.4, 15.5]\n",
        "alphas2 = [5e-05, 0.0001, 0.0002, 0.0003, 0.0004, 0.0005, 0.0006, 0.0007, 0.0008]\n",
        "e_alphas = [0.0001, 0.0002, 0.0003, 0.0004, 0.0005, 0.0006, 0.0007]\n",
        "e_l1ratio = [0.8, 0.85, 0.9, 0.95, 0.99, 1]"
      ]
    },
    {
      "cell_type": "code",
      "execution_count": 37,
      "metadata": {},
      "outputs": [],
      "source": [
        "from sklearn.linear_model import LassoCV, RidgeCV, ElasticNetCV\n",
        "from sklearn.svm import SVR\n",
        "from sklearn.pipeline import make_pipeline\n",
        "from sklearn.preprocessing import RobustScaler\n",
        "from sklearn.ensemble import GradientBoostingRegressor\n",
        "from xgboost import XGBRegressor\n",
        "from lightgbm import LGBMRegressor\n",
        "from mlxtend.regressor import StackingCVRegressor\n",
        "ridge = make_pipeline(RobustScaler(), RidgeCV(alphas=alphas_alt, cv=kfolds))\n",
        "lasso = make_pipeline(RobustScaler(), LassoCV(max_iter=10000, alphas=alphas2, random_state=42, cv=kfolds))\n",
        "elasticnet = make_pipeline(RobustScaler(), ElasticNetCV(max_iter=10000, alphas=e_alphas, cv=kfolds, l1_ratio=e_l1ratio))                                \n",
        "svr = make_pipeline(RobustScaler(), SVR(C= 20, epsilon= 0.008, gamma=0.0003,))\n",
        "gbr = GradientBoostingRegressor(n_estimators=3000, learning_rate=0.05, max_depth=4, max_features='sqrt', min_samples_leaf=15, min_samples_split=10, loss='huber', random_state =42)\n",
        "xgboost = XGBRegressor(learning_rate=0.01,n_estimators=3460, max_depth=3, min_child_weight=0, gamma=0, subsample=0.7, colsample_bytree=0.7, nthread=-1, scale_pos_weight=1, seed=27, reg_alpha=0.00006)\n",
        "lightgbm = LGBMRegressor(objective='regression', num_leaves=4, learning_rate=0.01, n_estimators=5000, max_bin=200, bagging_fraction=0.75, bagging_freq=5, bagging_seed=7, feature_fraction=0.2, feature_fraction_seed=7, verbose=-1,)\n",
        "stack_gen = StackingCVRegressor(regressors=(ridge, lasso, elasticnet, gbr, xgboost, lightgbm),\n",
        "                                meta_regressor=xgboost,\n",
        "                                use_features_in_secondary=True)"
      ]
    },
    {
      "cell_type": "code",
      "execution_count": 38,
      "metadata": {},
      "outputs": [
        {
          "name": "stdout",
          "output_type": "stream",
          "text": [
            "Ridge: 38899.8753 (3149.4009)\n",
            "\n",
            "LASSO: 38876.2535 (3158.1243)\n",
            "\n",
            "Elastic net: 38876.4277 (3157.5941)\n",
            "\n",
            "SVR: 94007.9202 (4925.3463)\n",
            "\n",
            "GBR: 6109.0221 (1680.7943)\n",
            "\n",
            "XGBoost: 11422.5872 (802.5508)\n",
            "\n",
            "LightGBM: 16538.7720 (786.7379)\n",
            "\n"
          ]
        }
      ],
      "source": [
        "# 모델별 교차 검증 수행 및 결과 출력\n",
        "score1 = cv_rmse(ridge,x_train)\n",
        "print(\"Ridge: {:.4f} ({:.4f})\\n\".format(score1.mean(), score1.std()))\n",
        "\n",
        "score2 = cv_rmse(lasso,x_train)\n",
        "print(\"LASSO: {:.4f} ({:.4f})\\n\".format(score2.mean(), score2.std()))\n",
        "\n",
        "score3 = cv_rmse(elasticnet)\n",
        "print(\"Elastic net: {:.4f} ({:.4f})\\n\".format(score3.mean(), score3.std()))\n",
        "\n",
        "score4 = cv_rmse(svr)\n",
        "print(\"SVR: {:.4f} ({:.4f})\\n\".format(score4.mean(), score4.std()))\n",
        "\n",
        "score5 = cv_rmse(gbr)\n",
        "print(\"GBR: {:.4f} ({:.4f})\\n\".format(score5.mean(), score5.std()))\n",
        "\n",
        "score6 = cv_rmse(xgboost)\n",
        "print(\"XGBoost: {:.4f} ({:.4f})\\n\".format(score6.mean(), score6.std()))\n",
        "\n",
        "score7 = cv_rmse(lightgbm)\n",
        "print(\"LightGBM: {:.4f} ({:.4f})\\n\".format(score7.mean(), score7.std()))"
      ]
    },
    {
      "cell_type": "code",
      "execution_count": 39,
      "metadata": {},
      "outputs": [
        {
          "data": {
            "text/html": [
              "<div>\n",
              "<style scoped>\n",
              "    .dataframe tbody tr th:only-of-type {\n",
              "        vertical-align: middle;\n",
              "    }\n",
              "\n",
              "    .dataframe tbody tr th {\n",
              "        vertical-align: top;\n",
              "    }\n",
              "\n",
              "    .dataframe thead th {\n",
              "        text-align: right;\n",
              "    }\n",
              "</style>\n",
              "<table border=\"1\" class=\"dataframe\">\n",
              "  <thead>\n",
              "    <tr style=\"text-align: right;\">\n",
              "      <th></th>\n",
              "      <th>Model</th>\n",
              "      <th>Score</th>\n",
              "      <th>Std</th>\n",
              "    </tr>\n",
              "  </thead>\n",
              "  <tbody>\n",
              "    <tr>\n",
              "      <th>0</th>\n",
              "      <td>Ridge</td>\n",
              "      <td>38899.875316</td>\n",
              "      <td>3149.400912</td>\n",
              "    </tr>\n",
              "    <tr>\n",
              "      <th>1</th>\n",
              "      <td>Lasso</td>\n",
              "      <td>38876.253494</td>\n",
              "      <td>3158.124282</td>\n",
              "    </tr>\n",
              "    <tr>\n",
              "      <th>2</th>\n",
              "      <td>ElasticNet</td>\n",
              "      <td>38876.427702</td>\n",
              "      <td>3157.594142</td>\n",
              "    </tr>\n",
              "    <tr>\n",
              "      <th>3</th>\n",
              "      <td>SVR</td>\n",
              "      <td>94007.920206</td>\n",
              "      <td>4925.346293</td>\n",
              "    </tr>\n",
              "    <tr>\n",
              "      <th>4</th>\n",
              "      <td>GradientBoosting</td>\n",
              "      <td>6109.022077</td>\n",
              "      <td>1680.794273</td>\n",
              "    </tr>\n",
              "    <tr>\n",
              "      <th>5</th>\n",
              "      <td>XGBoost</td>\n",
              "      <td>11422.587184</td>\n",
              "      <td>802.550823</td>\n",
              "    </tr>\n",
              "    <tr>\n",
              "      <th>6</th>\n",
              "      <td>LightGBM</td>\n",
              "      <td>16538.772013</td>\n",
              "      <td>786.737897</td>\n",
              "    </tr>\n",
              "  </tbody>\n",
              "</table>\n",
              "</div>"
            ],
            "text/plain": [
              "              Model         Score          Std\n",
              "0             Ridge  38899.875316  3149.400912\n",
              "1             Lasso  38876.253494  3158.124282\n",
              "2        ElasticNet  38876.427702  3157.594142\n",
              "3               SVR  94007.920206  4925.346293\n",
              "4  GradientBoosting   6109.022077  1680.794273\n",
              "5           XGBoost  11422.587184   802.550823\n",
              "6          LightGBM  16538.772013   786.737897"
            ]
          },
          "execution_count": 39,
          "metadata": {},
          "output_type": "execute_result"
        }
      ],
      "source": [
        "import pandas as pd\n",
        "\n",
        "model_performances = pd.DataFrame({\n",
        "    'Model': ['Ridge', 'Lasso', 'ElasticNet', 'SVR', 'GradientBoosting', 'XGBoost', 'LightGBM'],\n",
        "    'Score': [score1.mean(), score2.mean(), score3.mean(), score4.mean(), score5.mean(), score6.mean(), score7.mean()],\n",
        "    'Std': [score1.std(), score2.std(), score3.std(), score4.std(), score5.std(), score6.std(), score7.std()]\n",
        "})\n",
        "model_performances"
      ]
    },
    {
      "cell_type": "code",
      "execution_count": 40,
      "metadata": {},
      "outputs": [
        {
          "name": "stdout",
          "output_type": "stream",
          "text": [
            "stack_gen\n",
            "elasticnet\n",
            "Lasso\n",
            "Ridge\n",
            "Svr\n",
            "GradientBoosting\n",
            "xgboost\n",
            "lightgbm\n"
          ]
        }
      ],
      "source": [
        "print('stack_gen')\n",
        "stack_gen_model = stack_gen.fit(np.array(x_train), np.array(y_train))\n",
        "\n",
        "print('elasticnet')\n",
        "elastic_model_full_data = elasticnet.fit(x_train, y_train)\n",
        "\n",
        "print('Lasso')\n",
        "lasso_model_full_data = lasso.fit(x_train, y_train)\n",
        "\n",
        "print('Ridge')\n",
        "ridge_model_full_data = ridge.fit(x_train, y_train)\n",
        "\n",
        "print('Svr')\n",
        "svr_model_full_data = svr.fit(x_train, y_train)\n",
        "\n",
        "print('GradientBoosting')\n",
        "gbr_model_full_data = gbr.fit(x_train, y_train)\n",
        "\n",
        "print('xgboost')\n",
        "xgb_model_full_data = xgboost.fit(x_train, y_train)\n",
        "\n",
        "print('lightgbm')\n",
        "lgb_model_full_data = lightgbm.fit(x_train, y_train)"
      ]
    },
    {
      "cell_type": "code",
      "execution_count": 45,
      "metadata": {},
      "outputs": [
        {
          "name": "stdout",
          "output_type": "stream",
          "text": [
            "lightgbm RMSLE score on train data:\n"
          ]
        },
        {
          "ename": "ValueError",
          "evalue": "Input contains infinity or a value too large for dtype('float64').",
          "output_type": "error",
          "traceback": [
            "\u001b[1;31m---------------------------------------------------------------------------\u001b[0m",
            "\u001b[1;31mValueError\u001b[0m                                Traceback (most recent call last)",
            "Cell \u001b[1;32mIn[45], line 20\u001b[0m\n\u001b[0;32m      1\u001b[0m \u001b[38;5;66;03m# print('Ridge RMSLE score on train data:')\u001b[39;00m\n\u001b[0;32m      2\u001b[0m \u001b[38;5;66;03m# print(rmsle(np.expm1(y_train), np.expm1(ridge_model_full_data.predict(x_train))))\u001b[39;00m\n\u001b[0;32m      3\u001b[0m \n\u001b[1;32m   (...)\u001b[0m\n\u001b[0;32m     16\u001b[0m \u001b[38;5;66;03m# print('Xgboost RMSLE score on train data:')\u001b[39;00m\n\u001b[0;32m     17\u001b[0m \u001b[38;5;66;03m# print(rmsle(np.expm1(y_train), np.expm1(xgb_model_full_data.predict(x_train))))\u001b[39;00m\n\u001b[0;32m     19\u001b[0m \u001b[38;5;28mprint\u001b[39m(\u001b[38;5;124m'\u001b[39m\u001b[38;5;124mlightgbm RMSLE score on train data:\u001b[39m\u001b[38;5;124m'\u001b[39m)\n\u001b[1;32m---> 20\u001b[0m \u001b[38;5;28mprint\u001b[39m(\u001b[43mrmsle\u001b[49m\u001b[43m(\u001b[49m\u001b[43mnp\u001b[49m\u001b[38;5;241;43m.\u001b[39;49m\u001b[43mexpm1\u001b[49m\u001b[43m(\u001b[49m\u001b[43my_train\u001b[49m\u001b[43m)\u001b[49m\u001b[43m,\u001b[49m\u001b[43m \u001b[49m\u001b[43mnp\u001b[49m\u001b[38;5;241;43m.\u001b[39;49m\u001b[43mexpm1\u001b[49m\u001b[43m(\u001b[49m\u001b[43mlgb_model_full_data\u001b[49m\u001b[38;5;241;43m.\u001b[39;49m\u001b[43mpredict\u001b[49m\u001b[43m(\u001b[49m\u001b[43mx_train\u001b[49m\u001b[43m)\u001b[49m\u001b[43m)\u001b[49m\u001b[43m)\u001b[49m)\n\u001b[0;32m     22\u001b[0m \u001b[38;5;28mprint\u001b[39m(\u001b[38;5;124m'\u001b[39m\u001b[38;5;124mstack_gen RMSLE score on train data:\u001b[39m\u001b[38;5;124m'\u001b[39m)\n\u001b[0;32m     23\u001b[0m \u001b[38;5;28mprint\u001b[39m(rmsle(np\u001b[38;5;241m.\u001b[39mexpm1(y_train), np\u001b[38;5;241m.\u001b[39mexpm1(stack_gen_model\u001b[38;5;241m.\u001b[39mpredict(np\u001b[38;5;241m.\u001b[39marray(x_train)))))\n",
            "Cell \u001b[1;32mIn[30], line 8\u001b[0m, in \u001b[0;36mrmsle\u001b[1;34m(y, y_pred)\u001b[0m\n\u001b[0;32m      7\u001b[0m \u001b[38;5;28;01mdef\u001b[39;00m \u001b[38;5;21mrmsle\u001b[39m(y, y_pred):\n\u001b[1;32m----> 8\u001b[0m     \u001b[38;5;28;01mreturn\u001b[39;00m np\u001b[38;5;241m.\u001b[39msqrt(\u001b[43mmean_squared_error\u001b[49m\u001b[43m(\u001b[49m\u001b[43my\u001b[49m\u001b[43m,\u001b[49m\u001b[43m \u001b[49m\u001b[43my_pred\u001b[49m\u001b[43m)\u001b[49m)\n",
            "File \u001b[1;32mc:\\Users\\82108\\AppData\\Local\\Programs\\Python\\Python39\\lib\\site-packages\\sklearn\\utils\\_param_validation.py:213\u001b[0m, in \u001b[0;36mvalidate_params.<locals>.decorator.<locals>.wrapper\u001b[1;34m(*args, **kwargs)\u001b[0m\n\u001b[0;32m    207\u001b[0m \u001b[38;5;28;01mtry\u001b[39;00m:\n\u001b[0;32m    208\u001b[0m     \u001b[38;5;28;01mwith\u001b[39;00m config_context(\n\u001b[0;32m    209\u001b[0m         skip_parameter_validation\u001b[38;5;241m=\u001b[39m(\n\u001b[0;32m    210\u001b[0m             prefer_skip_nested_validation \u001b[38;5;129;01mor\u001b[39;00m global_skip_validation\n\u001b[0;32m    211\u001b[0m         )\n\u001b[0;32m    212\u001b[0m     ):\n\u001b[1;32m--> 213\u001b[0m         \u001b[38;5;28;01mreturn\u001b[39;00m func(\u001b[38;5;241m*\u001b[39margs, \u001b[38;5;241m*\u001b[39m\u001b[38;5;241m*\u001b[39mkwargs)\n\u001b[0;32m    214\u001b[0m \u001b[38;5;28;01mexcept\u001b[39;00m InvalidParameterError \u001b[38;5;28;01mas\u001b[39;00m e:\n\u001b[0;32m    215\u001b[0m     \u001b[38;5;66;03m# When the function is just a wrapper around an estimator, we allow\u001b[39;00m\n\u001b[0;32m    216\u001b[0m     \u001b[38;5;66;03m# the function to delegate validation to the estimator, but we replace\u001b[39;00m\n\u001b[0;32m    217\u001b[0m     \u001b[38;5;66;03m# the name of the estimator by the name of the function in the error\u001b[39;00m\n\u001b[0;32m    218\u001b[0m     \u001b[38;5;66;03m# message to avoid confusion.\u001b[39;00m\n\u001b[0;32m    219\u001b[0m     msg \u001b[38;5;241m=\u001b[39m re\u001b[38;5;241m.\u001b[39msub(\n\u001b[0;32m    220\u001b[0m         \u001b[38;5;124mr\u001b[39m\u001b[38;5;124m\"\u001b[39m\u001b[38;5;124mparameter of \u001b[39m\u001b[38;5;124m\\\u001b[39m\u001b[38;5;124mw+ must be\u001b[39m\u001b[38;5;124m\"\u001b[39m,\n\u001b[0;32m    221\u001b[0m         \u001b[38;5;124mf\u001b[39m\u001b[38;5;124m\"\u001b[39m\u001b[38;5;124mparameter of \u001b[39m\u001b[38;5;132;01m{\u001b[39;00mfunc\u001b[38;5;241m.\u001b[39m\u001b[38;5;18m__qualname__\u001b[39m\u001b[38;5;132;01m}\u001b[39;00m\u001b[38;5;124m must be\u001b[39m\u001b[38;5;124m\"\u001b[39m,\n\u001b[0;32m    222\u001b[0m         \u001b[38;5;28mstr\u001b[39m(e),\n\u001b[0;32m    223\u001b[0m     )\n",
            "File \u001b[1;32mc:\\Users\\82108\\AppData\\Local\\Programs\\Python\\Python39\\lib\\site-packages\\sklearn\\metrics\\_regression.py:497\u001b[0m, in \u001b[0;36mmean_squared_error\u001b[1;34m(y_true, y_pred, sample_weight, multioutput, squared)\u001b[0m\n\u001b[0;32m    492\u001b[0m     \u001b[38;5;28;01mif\u001b[39;00m \u001b[38;5;129;01mnot\u001b[39;00m squared:\n\u001b[0;32m    493\u001b[0m         \u001b[38;5;28;01mreturn\u001b[39;00m root_mean_squared_error(\n\u001b[0;32m    494\u001b[0m             y_true, y_pred, sample_weight\u001b[38;5;241m=\u001b[39msample_weight, multioutput\u001b[38;5;241m=\u001b[39mmultioutput\n\u001b[0;32m    495\u001b[0m         )\n\u001b[1;32m--> 497\u001b[0m y_type, y_true, y_pred, multioutput \u001b[38;5;241m=\u001b[39m \u001b[43m_check_reg_targets\u001b[49m\u001b[43m(\u001b[49m\n\u001b[0;32m    498\u001b[0m \u001b[43m    \u001b[49m\u001b[43my_true\u001b[49m\u001b[43m,\u001b[49m\u001b[43m \u001b[49m\u001b[43my_pred\u001b[49m\u001b[43m,\u001b[49m\u001b[43m \u001b[49m\u001b[43mmultioutput\u001b[49m\n\u001b[0;32m    499\u001b[0m \u001b[43m\u001b[49m\u001b[43m)\u001b[49m\n\u001b[0;32m    500\u001b[0m check_consistent_length(y_true, y_pred, sample_weight)\n\u001b[0;32m    501\u001b[0m output_errors \u001b[38;5;241m=\u001b[39m np\u001b[38;5;241m.\u001b[39maverage((y_true \u001b[38;5;241m-\u001b[39m y_pred) \u001b[38;5;241m*\u001b[39m\u001b[38;5;241m*\u001b[39m \u001b[38;5;241m2\u001b[39m, axis\u001b[38;5;241m=\u001b[39m\u001b[38;5;241m0\u001b[39m, weights\u001b[38;5;241m=\u001b[39msample_weight)\n",
            "File \u001b[1;32mc:\\Users\\82108\\AppData\\Local\\Programs\\Python\\Python39\\lib\\site-packages\\sklearn\\metrics\\_regression.py:103\u001b[0m, in \u001b[0;36m_check_reg_targets\u001b[1;34m(y_true, y_pred, multioutput, dtype)\u001b[0m\n\u001b[0;32m     69\u001b[0m \u001b[38;5;250m\u001b[39m\u001b[38;5;124;03m\"\"\"Check that y_true and y_pred belong to the same regression task.\u001b[39;00m\n\u001b[0;32m     70\u001b[0m \n\u001b[0;32m     71\u001b[0m \u001b[38;5;124;03mParameters\u001b[39;00m\n\u001b[1;32m   (...)\u001b[0m\n\u001b[0;32m    100\u001b[0m \u001b[38;5;124;03m    correct keyword.\u001b[39;00m\n\u001b[0;32m    101\u001b[0m \u001b[38;5;124;03m\"\"\"\u001b[39;00m\n\u001b[0;32m    102\u001b[0m check_consistent_length(y_true, y_pred)\n\u001b[1;32m--> 103\u001b[0m y_true \u001b[38;5;241m=\u001b[39m \u001b[43mcheck_array\u001b[49m\u001b[43m(\u001b[49m\u001b[43my_true\u001b[49m\u001b[43m,\u001b[49m\u001b[43m \u001b[49m\u001b[43mensure_2d\u001b[49m\u001b[38;5;241;43m=\u001b[39;49m\u001b[38;5;28;43;01mFalse\u001b[39;49;00m\u001b[43m,\u001b[49m\u001b[43m \u001b[49m\u001b[43mdtype\u001b[49m\u001b[38;5;241;43m=\u001b[39;49m\u001b[43mdtype\u001b[49m\u001b[43m)\u001b[49m\n\u001b[0;32m    104\u001b[0m y_pred \u001b[38;5;241m=\u001b[39m check_array(y_pred, ensure_2d\u001b[38;5;241m=\u001b[39m\u001b[38;5;28;01mFalse\u001b[39;00m, dtype\u001b[38;5;241m=\u001b[39mdtype)\n\u001b[0;32m    106\u001b[0m \u001b[38;5;28;01mif\u001b[39;00m y_true\u001b[38;5;241m.\u001b[39mndim \u001b[38;5;241m==\u001b[39m \u001b[38;5;241m1\u001b[39m:\n",
            "File \u001b[1;32mc:\\Users\\82108\\AppData\\Local\\Programs\\Python\\Python39\\lib\\site-packages\\sklearn\\utils\\validation.py:1049\u001b[0m, in \u001b[0;36mcheck_array\u001b[1;34m(array, accept_sparse, accept_large_sparse, dtype, order, copy, force_all_finite, ensure_2d, allow_nd, ensure_min_samples, ensure_min_features, estimator, input_name)\u001b[0m\n\u001b[0;32m   1043\u001b[0m     \u001b[38;5;28;01mraise\u001b[39;00m \u001b[38;5;167;01mValueError\u001b[39;00m(\n\u001b[0;32m   1044\u001b[0m         \u001b[38;5;124m\"\u001b[39m\u001b[38;5;124mFound array with dim \u001b[39m\u001b[38;5;132;01m%d\u001b[39;00m\u001b[38;5;124m. \u001b[39m\u001b[38;5;132;01m%s\u001b[39;00m\u001b[38;5;124m expected <= 2.\u001b[39m\u001b[38;5;124m\"\u001b[39m\n\u001b[0;32m   1045\u001b[0m         \u001b[38;5;241m%\u001b[39m (array\u001b[38;5;241m.\u001b[39mndim, estimator_name)\n\u001b[0;32m   1046\u001b[0m     )\n\u001b[0;32m   1048\u001b[0m \u001b[38;5;28;01mif\u001b[39;00m force_all_finite:\n\u001b[1;32m-> 1049\u001b[0m     \u001b[43m_assert_all_finite\u001b[49m\u001b[43m(\u001b[49m\n\u001b[0;32m   1050\u001b[0m \u001b[43m        \u001b[49m\u001b[43marray\u001b[49m\u001b[43m,\u001b[49m\n\u001b[0;32m   1051\u001b[0m \u001b[43m        \u001b[49m\u001b[43minput_name\u001b[49m\u001b[38;5;241;43m=\u001b[39;49m\u001b[43minput_name\u001b[49m\u001b[43m,\u001b[49m\n\u001b[0;32m   1052\u001b[0m \u001b[43m        \u001b[49m\u001b[43mestimator_name\u001b[49m\u001b[38;5;241;43m=\u001b[39;49m\u001b[43mestimator_name\u001b[49m\u001b[43m,\u001b[49m\n\u001b[0;32m   1053\u001b[0m \u001b[43m        \u001b[49m\u001b[43mallow_nan\u001b[49m\u001b[38;5;241;43m=\u001b[39;49m\u001b[43mforce_all_finite\u001b[49m\u001b[43m \u001b[49m\u001b[38;5;241;43m==\u001b[39;49m\u001b[43m \u001b[49m\u001b[38;5;124;43m\"\u001b[39;49m\u001b[38;5;124;43mallow-nan\u001b[39;49m\u001b[38;5;124;43m\"\u001b[39;49m\u001b[43m,\u001b[49m\n\u001b[0;32m   1054\u001b[0m \u001b[43m    \u001b[49m\u001b[43m)\u001b[49m\n\u001b[0;32m   1056\u001b[0m \u001b[38;5;28;01mif\u001b[39;00m copy:\n\u001b[0;32m   1057\u001b[0m     \u001b[38;5;28;01mif\u001b[39;00m _is_numpy_namespace(xp):\n\u001b[0;32m   1058\u001b[0m         \u001b[38;5;66;03m# only make a copy if `array` and `array_orig` may share memory`\u001b[39;00m\n",
            "File \u001b[1;32mc:\\Users\\82108\\AppData\\Local\\Programs\\Python\\Python39\\lib\\site-packages\\sklearn\\utils\\validation.py:126\u001b[0m, in \u001b[0;36m_assert_all_finite\u001b[1;34m(X, allow_nan, msg_dtype, estimator_name, input_name)\u001b[0m\n\u001b[0;32m    123\u001b[0m \u001b[38;5;28;01mif\u001b[39;00m first_pass_isfinite:\n\u001b[0;32m    124\u001b[0m     \u001b[38;5;28;01mreturn\u001b[39;00m\n\u001b[1;32m--> 126\u001b[0m \u001b[43m_assert_all_finite_element_wise\u001b[49m\u001b[43m(\u001b[49m\n\u001b[0;32m    127\u001b[0m \u001b[43m    \u001b[49m\u001b[43mX\u001b[49m\u001b[43m,\u001b[49m\n\u001b[0;32m    128\u001b[0m \u001b[43m    \u001b[49m\u001b[43mxp\u001b[49m\u001b[38;5;241;43m=\u001b[39;49m\u001b[43mxp\u001b[49m\u001b[43m,\u001b[49m\n\u001b[0;32m    129\u001b[0m \u001b[43m    \u001b[49m\u001b[43mallow_nan\u001b[49m\u001b[38;5;241;43m=\u001b[39;49m\u001b[43mallow_nan\u001b[49m\u001b[43m,\u001b[49m\n\u001b[0;32m    130\u001b[0m \u001b[43m    \u001b[49m\u001b[43mmsg_dtype\u001b[49m\u001b[38;5;241;43m=\u001b[39;49m\u001b[43mmsg_dtype\u001b[49m\u001b[43m,\u001b[49m\n\u001b[0;32m    131\u001b[0m \u001b[43m    \u001b[49m\u001b[43mestimator_name\u001b[49m\u001b[38;5;241;43m=\u001b[39;49m\u001b[43mestimator_name\u001b[49m\u001b[43m,\u001b[49m\n\u001b[0;32m    132\u001b[0m \u001b[43m    \u001b[49m\u001b[43minput_name\u001b[49m\u001b[38;5;241;43m=\u001b[39;49m\u001b[43minput_name\u001b[49m\u001b[43m,\u001b[49m\n\u001b[0;32m    133\u001b[0m \u001b[43m\u001b[49m\u001b[43m)\u001b[49m\n",
            "File \u001b[1;32mc:\\Users\\82108\\AppData\\Local\\Programs\\Python\\Python39\\lib\\site-packages\\sklearn\\utils\\validation.py:175\u001b[0m, in \u001b[0;36m_assert_all_finite_element_wise\u001b[1;34m(X, xp, allow_nan, msg_dtype, estimator_name, input_name)\u001b[0m\n\u001b[0;32m    158\u001b[0m \u001b[38;5;28;01mif\u001b[39;00m estimator_name \u001b[38;5;129;01mand\u001b[39;00m input_name \u001b[38;5;241m==\u001b[39m \u001b[38;5;124m\"\u001b[39m\u001b[38;5;124mX\u001b[39m\u001b[38;5;124m\"\u001b[39m \u001b[38;5;129;01mand\u001b[39;00m has_nan_error:\n\u001b[0;32m    159\u001b[0m     \u001b[38;5;66;03m# Improve the error message on how to handle missing values in\u001b[39;00m\n\u001b[0;32m    160\u001b[0m     \u001b[38;5;66;03m# scikit-learn.\u001b[39;00m\n\u001b[0;32m    161\u001b[0m     msg_err \u001b[38;5;241m+\u001b[39m\u001b[38;5;241m=\u001b[39m (\n\u001b[0;32m    162\u001b[0m         \u001b[38;5;124mf\u001b[39m\u001b[38;5;124m\"\u001b[39m\u001b[38;5;130;01m\\n\u001b[39;00m\u001b[38;5;132;01m{\u001b[39;00mestimator_name\u001b[38;5;132;01m}\u001b[39;00m\u001b[38;5;124m does not accept missing values\u001b[39m\u001b[38;5;124m\"\u001b[39m\n\u001b[0;32m    163\u001b[0m         \u001b[38;5;124m\"\u001b[39m\u001b[38;5;124m encoded as NaN natively. For supervised learning, you might want\u001b[39m\u001b[38;5;124m\"\u001b[39m\n\u001b[1;32m   (...)\u001b[0m\n\u001b[0;32m    173\u001b[0m         \u001b[38;5;124m\"\u001b[39m\u001b[38;5;124m#estimators-that-handle-nan-values\u001b[39m\u001b[38;5;124m\"\u001b[39m\n\u001b[0;32m    174\u001b[0m     )\n\u001b[1;32m--> 175\u001b[0m \u001b[38;5;28;01mraise\u001b[39;00m \u001b[38;5;167;01mValueError\u001b[39;00m(msg_err)\n",
            "\u001b[1;31mValueError\u001b[0m: Input contains infinity or a value too large for dtype('float64')."
          ]
        }
      ],
      "source": [
        "print('Ridge RMSLE score on train data:')\n",
        "print(rmsle(np.expm1(y_train), np.expm1(ridge_model_full_data.predict(x_train))))\n",
        "\n",
        "print('Lasso RMSLE score on train data:')\n",
        "print(rmsle(np.expm1(y_train), np.expm1(lasso_model_full_data.predict(x_train))))\n",
        "\n",
        "print('ElasticNet RMSLE score on train data:')\n",
        "print(rmsle(np.expm1(y_train), np.expm1(elastic_model_full_data.predict(x_train))))\n",
        "\n",
        "print('SVR RMSLE score on train data:')\n",
        "print(rmsle(np.expm1(y_train), np.expm1(svr_model_full_data.predict(x_train))))\n",
        "\n",
        "print('GradientBoosting RMSLE score on train data:')\n",
        "print(rmsle(np.expm1(y_train), np.expm1(gbr_model_full_data.predict(x_train))))\n",
        "\n",
        "print('Xgboost RMSLE score on train data:')\n",
        "print(rmsle(np.expm1(y_train), np.expm1(xgb_model_full_data.predict(x_train))))\n",
        "\n",
        "print('lightgbm RMSLE score on train data:')\n",
        "print(rmsle(np.expm1(y_train), np.expm1(lgb_model_full_data.predict(x_train))))\n",
        "\n",
        "print('stack_gen RMSLE score on train data:')\n",
        "print(rmsle(np.expm1(y_train), np.expm1(stack_gen_model.predict(np.array(x_train)))))"
      ]
    },
    {
      "cell_type": "code",
      "execution_count": null,
      "metadata": {},
      "outputs": [],
      "source": [
        "def blend_models_predict(X):\n",
        "    return ((0.25 * elastic_model_full_data.predict(X)) + \\\n",
        "            (0.2 * lasso_model_full_data.predict(X)) + \\\n",
        "            (0.15 * ridge_model_full_data.predict(X)) + \\\n",
        "            (0.2 * svr_model_full_data.predict(X)) + \\\n",
        "            (0.05 * gbr_model_full_data.predict(X)) + \\\n",
        "            (0.05 * xgb_model_full_data.predict(X)) + \\\n",
        "            (0.05 * lgb_model_full_data.predict(X)) + \\\n",
        "            (0.05 * stack_gen_model.predict(np.array(X))))"
      ]
    },
    {
      "cell_type": "code",
      "execution_count": null,
      "metadata": {},
      "outputs": [],
      "source": [
        "print('RMSLE score on train data:')\n",
        "print(rmsle(y_train, blend_models_predict(x_train)))\n",
        "\n",
        "print('RMSLE score on train data:')\n",
        "print(rmsle(np.expm1(y_train), np.expm1(blend_models_predict(x_train))))"
      ]
    },
    {
      "cell_type": "code",
      "execution_count": 82,
      "metadata": {},
      "outputs": [
        {
          "data": {
            "text/html": [
              "<div>\n",
              "<style scoped>\n",
              "    .dataframe tbody tr th:only-of-type {\n",
              "        vertical-align: middle;\n",
              "    }\n",
              "\n",
              "    .dataframe tbody tr th {\n",
              "        vertical-align: top;\n",
              "    }\n",
              "\n",
              "    .dataframe thead th {\n",
              "        text-align: right;\n",
              "    }\n",
              "</style>\n",
              "<table border=\"1\" class=\"dataframe\">\n",
              "  <thead>\n",
              "    <tr style=\"text-align: right;\">\n",
              "      <th></th>\n",
              "      <th>Id</th>\n",
              "      <th>SalePrice</th>\n",
              "    </tr>\n",
              "  </thead>\n",
              "  <tbody>\n",
              "    <tr>\n",
              "      <th>0</th>\n",
              "      <td>1341</td>\n",
              "      <td>124766.323613</td>\n",
              "    </tr>\n",
              "    <tr>\n",
              "      <th>1</th>\n",
              "      <td>1342</td>\n",
              "      <td>131054.919415</td>\n",
              "    </tr>\n",
              "    <tr>\n",
              "      <th>2</th>\n",
              "      <td>1343</td>\n",
              "      <td>153409.016845</td>\n",
              "    </tr>\n",
              "    <tr>\n",
              "      <th>3</th>\n",
              "      <td>1344</td>\n",
              "      <td>134629.813537</td>\n",
              "    </tr>\n",
              "    <tr>\n",
              "      <th>4</th>\n",
              "      <td>1345</td>\n",
              "      <td>117156.889332</td>\n",
              "    </tr>\n",
              "    <tr>\n",
              "      <th>...</th>\n",
              "      <td>...</td>\n",
              "      <td>...</td>\n",
              "    </tr>\n",
              "    <tr>\n",
              "      <th>125</th>\n",
              "      <td>1466</td>\n",
              "      <td>300277.615547</td>\n",
              "    </tr>\n",
              "    <tr>\n",
              "      <th>126</th>\n",
              "      <td>1467</td>\n",
              "      <td>210204.448706</td>\n",
              "    </tr>\n",
              "    <tr>\n",
              "      <th>127</th>\n",
              "      <td>1468</td>\n",
              "      <td>82526.562572</td>\n",
              "    </tr>\n",
              "    <tr>\n",
              "      <th>128</th>\n",
              "      <td>1469</td>\n",
              "      <td>97403.749858</td>\n",
              "    </tr>\n",
              "    <tr>\n",
              "      <th>129</th>\n",
              "      <td>1470</td>\n",
              "      <td>150503.413594</td>\n",
              "    </tr>\n",
              "  </tbody>\n",
              "</table>\n",
              "<p>130 rows × 2 columns</p>\n",
              "</div>"
            ],
            "text/plain": [
              "       Id      SalePrice\n",
              "0    1341  124766.323613\n",
              "1    1342  131054.919415\n",
              "2    1343  153409.016845\n",
              "3    1344  134629.813537\n",
              "4    1345  117156.889332\n",
              "..    ...            ...\n",
              "125  1466  300277.615547\n",
              "126  1467  210204.448706\n",
              "127  1468   82526.562572\n",
              "128  1469   97403.749858\n",
              "129  1470  150503.413594\n",
              "\n",
              "[130 rows x 2 columns]"
            ]
          },
          "metadata": {},
          "output_type": "display_data"
        },
        {
          "name": "stdout",
          "output_type": "stream",
          "text": [
            "아이디:  g4312@naver.com\n",
            "파일명:  submissions\\20240514-205844-submission.csv\n",
            "============================================================\n",
            "[제출에 성공하였습니다]\n",
            "제출 결과: 23875.470763345482\n"
          ]
        }
      ],
      "source": [
        "# 리더보드 서버 제출을 위한 파일 생성\n",
        "submission = pd.read_csv(os.path.join(DATA_DIR, \"submission.csv\"))\n",
        "submission[\"SalePrice\"] = (np.expm1(blend_models_predict(x_problem)))\n",
        "\n",
        "# 예측 결과 화면에 출력 후 제출\n",
        "display(submission)\n",
        "competition.submit(project, username, password, submission)"
      ]
    },
    {
      "cell_type": "code",
      "execution_count": null,
      "metadata": {},
      "outputs": [],
      "source": []
    }
  ],
  "metadata": {
    "colab": {
      "provenance": []
    },
    "kernelspec": {
      "display_name": "dl",
      "language": "python",
      "name": "python3"
    },
    "language_info": {
      "codemirror_mode": {
        "name": "ipython",
        "version": 3
      },
      "file_extension": ".py",
      "mimetype": "text/x-python",
      "name": "python",
      "nbconvert_exporter": "python",
      "pygments_lexer": "ipython3",
      "version": "3.9.13"
    }
  },
  "nbformat": 4,
  "nbformat_minor": 0
}
