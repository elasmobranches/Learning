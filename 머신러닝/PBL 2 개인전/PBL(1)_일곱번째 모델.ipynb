{
  "cells": [
    {
      "cell_type": "markdown",
      "metadata": {
        "id": "bOd4OT9yKQMX"
      },
      "source": [
        "## PBL(1): Individual Project Work\n",
        "\n",
        "1. https://agtechresearch.pythonanywhere.com/ 에 접속하여 회원가입해 주세요. (비밀번호는 단순하게 만드는 것을 권장. 예: 1234)\n",
        "2. `username` 에 이메일 형식의 아이디를 기입해 주세요.\n",
        "3. `password` 에 비밀번호를 기입해 주세요."
      ]
    },
    {
      "cell_type": "code",
      "execution_count": 1,
      "metadata": {
        "id": "aylesGLEKQMc"
      },
      "outputs": [],
      "source": [
        "project = \"housingprice\"  # 수정하지 마세요\n",
        "username = \"g4312@naver.com\"  # 회원가입 시 사용한 이메일아이디 (예시. abc@hello.com)\n",
        "password = \"1234\"  # 비밀번호"
      ]
    },
    {
      "cell_type": "markdown",
      "metadata": {
        "id": "efTd527LKQMg"
      },
      "source": [
        "리더보드 제출을 위한 기본 설정: 아래 코드를 실행해주세요.\n"
      ]
    },
    {
      "cell_type": "code",
      "execution_count": 2,
      "metadata": {
        "id": "pantTrHwKQMg"
      },
      "outputs": [],
      "source": [
        "import os\n",
        "import urllib.request\n",
        "\n",
        "if not os.path.exists(\"competition.py\"):\n",
        "    url = \"https://raw.githubusercontent.com/agtechresearch/LectureAlgorithm/main/competition/competition.py\"\n",
        "    filename = \"competition.py\"\n",
        "    urllib.request.urlretrieve(url, filename)"
      ]
    },
    {
      "cell_type": "markdown",
      "metadata": {
        "id": "eo8feaPCKQMh"
      },
      "source": [
        "아래 코드를 실행하여 데이터를 다운로드 받습니다: 3개의 csv 파일이 data 폴더에 다운로드됨\n",
        "\n",
        " * dataset.csv: 과거 주택매매 데이터 -> 학습에 사용할 데이터셋\n",
        " * problem.csv: 현재 A사가 매매를 고려하고 있는 130건의 주택정보 -> ML 모델에 의하여 예측을 수행하여야 할 데이터셋\n",
        " * submission.csv: 리더보드 서버 제출을 위한 파일 형식\n"
      ]
    },
    {
      "cell_type": "code",
      "execution_count": 3,
      "metadata": {
        "colab": {
          "base_uri": "https://localhost:8080/"
        },
        "id": "ESsqkBacKQMi",
        "outputId": "23a8cd61-e5f0-4f46-99de-97721967f14c"
      },
      "outputs": [
        {
          "name": "stderr",
          "output_type": "stream",
          "text": [
            "100%|██████████| 141k/141k [00:00<00:00, 361kiB/s] \n"
          ]
        }
      ],
      "source": [
        "import competition\n",
        "\n",
        "# 파일 다운로드\n",
        "competition.download_competition_files(project)"
      ]
    },
    {
      "cell_type": "code",
      "execution_count": 4,
      "metadata": {
        "id": "I9K8zK8LKQMl"
      },
      "outputs": [],
      "source": [
        "import pandas as pd\n",
        "import numpy as np\n",
        "import matplotlib.pyplot as plt\n",
        "import seaborn as sns\n",
        "import warnings\n",
        "\n",
        "# 경고 무시\n",
        "warnings.filterwarnings(\"ignore\")\n",
        "\n",
        "# Data 경로 설정\n",
        "DATA_DIR = \"data\""
      ]
    },
    {
      "cell_type": "code",
      "execution_count": 5,
      "metadata": {
        "id": "Z4-3U9tFKQMm"
      },
      "outputs": [],
      "source": [
        "# 학습에 사용할 과거 주택매매 data set 로드 (dataset.csv)\n",
        "dataset = pd.read_csv(os.path.join(DATA_DIR, \"dataset.csv\"))\n",
        "\n",
        "# problem set 로드 (problem.csv)\n",
        "problemset = pd.read_csv(os.path.join(DATA_DIR, \"problem.csv\"))"
      ]
    },
    {
      "cell_type": "code",
      "execution_count": 6,
      "metadata": {},
      "outputs": [
        {
          "data": {
            "text/plain": [
              "Id              0\n",
              "LotArea         0\n",
              "Street          0\n",
              "LotConfig       0\n",
              "OverallQual     0\n",
              "OverallCond     0\n",
              "YearBuilt       0\n",
              "YearRemodAdd    0\n",
              "TotalBsmtSF     0\n",
              "1stFlrSF        0\n",
              "2ndFlrSF        0\n",
              "GrLivArea       0\n",
              "FullBath        0\n",
              "HalfBath        0\n",
              "BedroomAbvGr    0\n",
              "KitchenAbvGr    0\n",
              "TotRmsAbvGrd    0\n",
              "Fireplaces      0\n",
              "GarageType      0\n",
              "GarageYrBlt     0\n",
              "GarageCars      0\n",
              "GarageArea      0\n",
              "YrSold          0\n",
              "SalePrice       0\n",
              "dtype: int64"
            ]
          },
          "execution_count": 6,
          "metadata": {},
          "output_type": "execute_result"
        }
      ],
      "source": [
        "# # 결측치가 있다면 GarageType은 NO Garage로, GarageYrBlt의 값은 0으로 대체\n",
        "dataset[\"GarageType\"].fillna(\"No Garage\", inplace=True)\n",
        "dataset[\"GarageYrBlt\"].fillna(0, inplace=True)\n",
        "\n",
        "dataset.isnull().sum()\n"
      ]
    },
    {
      "cell_type": "code",
      "execution_count": 7,
      "metadata": {},
      "outputs": [],
      "source": [
        "#FullBath와 HalfBath를 합쳐서 Bath로 만든다\n",
        "#YearBuilt는 제거하고, 2024를 YearRemodAdd뺀 Year 열 추가, 이후 YearRemodAdd는 제거\n",
        "#총 면적을 나타내기 위해 1stFlrSF, 2ndFlrSF, TotalBsmtSF를 합쳐서 TotalFlr로 나타낸다. 나머지는 지운다\n",
        "#OverallCond제거, Id제거, KitchenAbvGr제거, YrSold제거\n",
        "\n",
        "dataset[\"Bath\"] = dataset[\"FullBath\"] + dataset[\"HalfBath\"]\n",
        "dataset[\"Year\"] = 2024 - dataset[\"YearRemodAdd\"]\n",
        "dataset[\"TotalFlr\"] = dataset[\"1stFlrSF\"] + dataset[\"2ndFlrSF\"] + dataset[\"TotalBsmtSF\"]\n",
        "\n",
        "#이후 필요없는 열 제거\n",
        "dataset.drop([\"FullBath\", \"HalfBath\", \"YearBuilt\", \"YearRemodAdd\", \"1stFlrSF\", \"2ndFlrSF\", \"TotalBsmtSF\",  \"Id\", \"KitchenAbvGr\", \"YrSold\",'Street'], axis=1, inplace=True)\n",
        "\n",
        "# # problem set 전처리\n",
        "# # problem set에도 동일한 전처리를 적용한다.\n",
        "problemset[\"Bath\"] = problemset[\"FullBath\"] + problemset[\"HalfBath\"]\n",
        "problemset[\"Year\"] = 2024 - problemset[\"YearRemodAdd\"]\n",
        "problemset[\"TotalFlr\"] = problemset[\"1stFlrSF\"] + problemset[\"2ndFlrSF\"] + problemset[\"TotalBsmtSF\"]\n",
        "#이후 필요없는 열 제거\n",
        "problemset.drop([\"FullBath\", \"HalfBath\", \"YearBuilt\", \"YearRemodAdd\", \"1stFlrSF\", \"2ndFlrSF\", \"TotalBsmtSF\", \"Id\", \"KitchenAbvGr\", \"YrSold\",'Street'], axis=1, inplace=True)\n"
      ]
    },
    {
      "cell_type": "code",
      "execution_count": 8,
      "metadata": {},
      "outputs": [],
      "source": [
        "# GrLIvArea가 4000이상인 이상치 4000으로 대체\n",
        "dataset.loc[dataset[\"GrLivArea\"] > 4000, \"GrLivArea\"] = 4000\n",
        "# LotArea가 100000이상인 이상치 100000으로 대체\n",
        "dataset.loc[dataset[\"LotArea\"] > 100000, \"LotArea\"] = 100000\n"
      ]
    },
    {
      "cell_type": "code",
      "execution_count": 9,
      "metadata": {},
      "outputs": [],
      "source": [
        "# GarageYrBlt가 0이 아닐시 2024에서 뺀 값으로 대체\n",
        "dataset.loc[dataset[\"GarageYrBlt\"] != 0, \"GarageYrBlt\"] = 2024 - dataset[\"GarageYrBlt\"]\n",
        "# problem set에도 동일한 전처리를 적용한다.\n",
        "problemset.loc[problemset[\"GarageYrBlt\"] != 0, \"GarageYrBlt\"] = 2024 - problemset[\"GarageYrBlt\"]\n",
        "\n",
        "\n",
        "\n"
      ]
    },
    {
      "cell_type": "code",
      "execution_count": 10,
      "metadata": {},
      "outputs": [],
      "source": [
        "# dataset을 train set과 val set으로 나누기\n",
        "from sklearn.model_selection import train_test_split\n",
        "x_train, x_test, y_train, y_test = train_test_split(dataset.drop(\"SalePrice\", axis=1), dataset[\"SalePrice\"], test_size=0.2, random_state=42)"
      ]
    },
    {
      "cell_type": "code",
      "execution_count": 11,
      "metadata": {},
      "outputs": [],
      "source": [
        "# 범주형 변수들을 모두 one-hot encoding하는데 x_train에 하는걸 그대로 x_val에도 적용\n",
        "x_train = pd.get_dummies(x_train)\n",
        "x_test = pd.get_dummies(x_test)\n"
      ]
    },
    {
      "cell_type": "code",
      "execution_count": 12,
      "metadata": {},
      "outputs": [],
      "source": [
        "# Random over-sampling 적용\n",
        "from imblearn.over_sampling import RandomOverSampler\n",
        "ros = RandomOverSampler(random_state=42)\n",
        "x_train, y_train = ros.fit_resample(x_train, y_train)\n",
        "\n"
      ]
    },
    {
      "cell_type": "markdown",
      "metadata": {},
      "source": [
        "오버샘플링을 하려고 했으나 소수 클래스에 대해 적은 수의 샘플이 있어서 SMOTE 또는 ADASYN이 적절한 이웃을 찾지 못하고 있다\n",
        "그럼에도 불구하고 오버샘플링은 중요해보인다. 그렇다면 개수가 적은 샘플들은 다른 값으로 치환해 버릴까?"
      ]
    },
    {
      "cell_type": "code",
      "execution_count": 13,
      "metadata": {},
      "outputs": [
        {
          "ename": "NameError",
          "evalue": "name 'x_train_preprocessed' is not defined",
          "output_type": "error",
          "traceback": [
            "\u001b[1;31m---------------------------------------------------------------------------\u001b[0m",
            "\u001b[1;31mNameError\u001b[0m                                 Traceback (most recent call last)",
            "Cell \u001b[1;32mIn[13], line 5\u001b[0m\n\u001b[0;32m      3\u001b[0m \u001b[38;5;28;01mfrom\u001b[39;00m \u001b[38;5;21;01msklearn\u001b[39;00m\u001b[38;5;21;01m.\u001b[39;00m\u001b[38;5;21;01mmetrics\u001b[39;00m \u001b[38;5;28;01mimport\u001b[39;00m mean_squared_error\n\u001b[0;32m      4\u001b[0m lgb \u001b[38;5;241m=\u001b[39m lgb\u001b[38;5;241m.\u001b[39mLGBMRegressor()\n\u001b[1;32m----> 5\u001b[0m lgb\u001b[38;5;241m.\u001b[39mfit(\u001b[43mx_train_preprocessed\u001b[49m, y_train)\n",
            "\u001b[1;31mNameError\u001b[0m: name 'x_train_preprocessed' is not defined"
          ]
        }
      ],
      "source": [
        "# lightgbm 모델 학습\n",
        "import lightgbm as lgb\n",
        "from sklearn.metrics import mean_squared_error\n",
        "lgb = lgb.LGBMRegressor()\n",
        "lgb.fit(x_train, y_train)\n",
        "\n"
      ]
    },
    {
      "cell_type": "code",
      "execution_count": null,
      "metadata": {},
      "outputs": [
        {
          "name": "stdout",
          "output_type": "stream",
          "text": [
            "Train RMSE : 5500.783640852231\n",
            "Test RMSE : 31024.262137087346\n"
          ]
        }
      ],
      "source": [
        "from sklearn.metrics import mean_squared_error\n",
        "\n",
        "train_pred = lgb.predict(x_train)\n",
        "test_pred = lgb.predict(x_test)\n",
        "\n",
        "print(\"Train RMSE :\", mean_squared_error(y_train, train_pred) ** 0.5)\n",
        "print(\"Test RMSE :\", mean_squared_error(y_test, test_pred) ** 0.5)"
      ]
    },
    {
      "cell_type": "code",
      "execution_count": null,
      "metadata": {},
      "outputs": [],
      "source": [
        "problem_pred = lgb.predict(problemset)"
      ]
    },
    {
      "cell_type": "code",
      "execution_count": null,
      "metadata": {},
      "outputs": [
        {
          "data": {
            "text/html": [
              "<div>\n",
              "<style scoped>\n",
              "    .dataframe tbody tr th:only-of-type {\n",
              "        vertical-align: middle;\n",
              "    }\n",
              "\n",
              "    .dataframe tbody tr th {\n",
              "        vertical-align: top;\n",
              "    }\n",
              "\n",
              "    .dataframe thead th {\n",
              "        text-align: right;\n",
              "    }\n",
              "</style>\n",
              "<table border=\"1\" class=\"dataframe\">\n",
              "  <thead>\n",
              "    <tr style=\"text-align: right;\">\n",
              "      <th></th>\n",
              "      <th>Id</th>\n",
              "      <th>SalePrice</th>\n",
              "    </tr>\n",
              "  </thead>\n",
              "  <tbody>\n",
              "    <tr>\n",
              "      <th>0</th>\n",
              "      <td>1341</td>\n",
              "      <td>133706.919249</td>\n",
              "    </tr>\n",
              "    <tr>\n",
              "      <th>1</th>\n",
              "      <td>1342</td>\n",
              "      <td>138311.563329</td>\n",
              "    </tr>\n",
              "    <tr>\n",
              "      <th>2</th>\n",
              "      <td>1343</td>\n",
              "      <td>159309.992832</td>\n",
              "    </tr>\n",
              "    <tr>\n",
              "      <th>3</th>\n",
              "      <td>1344</td>\n",
              "      <td>136393.401806</td>\n",
              "    </tr>\n",
              "    <tr>\n",
              "      <th>4</th>\n",
              "      <td>1345</td>\n",
              "      <td>95013.403699</td>\n",
              "    </tr>\n",
              "    <tr>\n",
              "      <th>...</th>\n",
              "      <td>...</td>\n",
              "      <td>...</td>\n",
              "    </tr>\n",
              "    <tr>\n",
              "      <th>125</th>\n",
              "      <td>1466</td>\n",
              "      <td>286122.110394</td>\n",
              "    </tr>\n",
              "    <tr>\n",
              "      <th>126</th>\n",
              "      <td>1467</td>\n",
              "      <td>171638.503779</td>\n",
              "    </tr>\n",
              "    <tr>\n",
              "      <th>127</th>\n",
              "      <td>1468</td>\n",
              "      <td>76867.829523</td>\n",
              "    </tr>\n",
              "    <tr>\n",
              "      <th>128</th>\n",
              "      <td>1469</td>\n",
              "      <td>98008.392176</td>\n",
              "    </tr>\n",
              "    <tr>\n",
              "      <th>129</th>\n",
              "      <td>1470</td>\n",
              "      <td>146248.522549</td>\n",
              "    </tr>\n",
              "  </tbody>\n",
              "</table>\n",
              "<p>130 rows × 2 columns</p>\n",
              "</div>"
            ],
            "text/plain": [
              "       Id      SalePrice\n",
              "0    1341  133706.919249\n",
              "1    1342  138311.563329\n",
              "2    1343  159309.992832\n",
              "3    1344  136393.401806\n",
              "4    1345   95013.403699\n",
              "..    ...            ...\n",
              "125  1466  286122.110394\n",
              "126  1467  171638.503779\n",
              "127  1468   76867.829523\n",
              "128  1469   98008.392176\n",
              "129  1470  146248.522549\n",
              "\n",
              "[130 rows x 2 columns]"
            ]
          },
          "metadata": {},
          "output_type": "display_data"
        },
        {
          "name": "stdout",
          "output_type": "stream",
          "text": [
            "아이디:  g4312@naver.com\n",
            "파일명:  submissions\\20240514-142521-submission.csv\n",
            "============================================================\n",
            "[제출에 성공하였습니다]\n",
            "제출 결과: 25182.983355057535\n"
          ]
        }
      ],
      "source": [
        "# 리더보드 서버 제출을 위한 파일 생성\n",
        "submission = pd.read_csv(os.path.join(DATA_DIR, \"submission.csv\"))\n",
        "submission[\"SalePrice\"] = problem_pred\n",
        "\n",
        "# 예측 결과 화면에 출력 후 제출\n",
        "display(submission)\n",
        "competition.submit(project, username, password, submission)"
      ]
    },
    {
      "cell_type": "code",
      "execution_count": null,
      "metadata": {},
      "outputs": [],
      "source": []
    }
  ],
  "metadata": {
    "colab": {
      "provenance": []
    },
    "kernelspec": {
      "display_name": "dl",
      "language": "python",
      "name": "python3"
    },
    "language_info": {
      "codemirror_mode": {
        "name": "ipython",
        "version": 3
      },
      "file_extension": ".py",
      "mimetype": "text/x-python",
      "name": "python",
      "nbconvert_exporter": "python",
      "pygments_lexer": "ipython3",
      "version": "3.9.13"
    }
  },
  "nbformat": 4,
  "nbformat_minor": 0
}
