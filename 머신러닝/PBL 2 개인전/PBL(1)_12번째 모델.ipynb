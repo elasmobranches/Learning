{
 "cells": [
  {
   "cell_type": "markdown",
   "metadata": {},
   "source": [
    "# Practice3 (test_submission1_4, 2_4.csv)\n",
    "> Public Score\n",
    "> - test_submission1_3: 25136.09206\n",
    "> - test_submission2_3: 28583.13469"
   ]
  },
  {
   "cell_type": "code",
   "execution_count": 1,
   "metadata": {},
   "outputs": [],
   "source": [
    "project = \"housingprice\"  # 수정하지 마세요\n",
    "username = \"g4312@naver.com\"  # 회원가입 시 사용한 이메일아이디 (예시. abc@hello.com)\n",
    "password = \"1234\"  # 비밀번호\n"
   ]
  },
  {
   "cell_type": "code",
   "execution_count": 2,
   "metadata": {},
   "outputs": [],
   "source": [
    "import os\n",
    "import urllib.request\n",
    "\n",
    "if not os.path.exists(\"competition.py\"):\n",
    "    url = \"https://raw.githubusercontent.com/agtechresearch/LectureAlgorithm/main/competition/competition.py\"\n",
    "    filename = \"competition.py\"\n",
    "    urllib.request.urlretrieve(url, filename)"
   ]
  },
  {
   "cell_type": "code",
   "execution_count": 3,
   "metadata": {},
   "outputs": [
    {
     "name": "stderr",
     "output_type": "stream",
     "text": [
      "100%|██████████| 141k/141k [00:01<00:00, 122kiB/s] \n"
     ]
    }
   ],
   "source": [
    "import competition\n",
    "\n",
    "# 파일 다운로드\n",
    "competition.download_competition_files(project)"
   ]
  },
  {
   "cell_type": "code",
   "execution_count": 4,
   "metadata": {},
   "outputs": [],
   "source": [
    "import pandas as pd\n",
    "import numpy as np\n",
    "import matplotlib.pyplot as plt\n",
    "import seaborn as sns\n",
    "import warnings\n",
    "\n",
    "# 경고 무시\n",
    "warnings.filterwarnings(\"ignore\")\n",
    "\n",
    "# Data 경로 설정\n",
    "DATA_DIR = \"data\""
   ]
  },
  {
   "cell_type": "code",
   "execution_count": 5,
   "metadata": {},
   "outputs": [],
   "source": [
    "# 메모리를 효율적으로 사용하기 위한 downcast 함수 정의\n",
    "def downcast(df, verbose=True):     # verbose 옵션 추가: (True)인 경우 몇 퍼센트 압축됐는지 출력\n",
    "    start_mem = df.memory_usage().sum() / 1024**2   # 초기 메모리 사용량\n",
    "    for col in df.columns:\n",
    "        dtype_name = df[col].dtype.name\n",
    "        if dtype_name == 'object':\n",
    "            pass\n",
    "        elif dtype_name == 'bool':\n",
    "            df[col] = df[col].astype('int8')\n",
    "        elif dtype_name.startswith('int') or (df[col].round() == df[col]).all():\n",
    "            df[col] = pd.to_numeric(df[col], downcast='integer')\n",
    "        else:\n",
    "            df[col] = pd.to_numeric(df[col], downcast='float')\n",
    "    end_mem = df.memory_usage().sum() / 1024**2\n",
    "\n",
    "    if verbose:\n",
    "        print(f'{(100*(start_mem - end_mem) / start_mem):.1f}% 압축됨')\n",
    "\n",
    "    return df"
   ]
  },
  {
   "cell_type": "code",
   "execution_count": 11,
   "metadata": {},
   "outputs": [],
   "source": [
    "dataset = pd.read_csv(os.path.join(DATA_DIR, \"dataset.csv\"))\n",
    "\n",
    "# problem set 로드 (problem.csv)\n",
    "problemset = pd.read_csv(os.path.join(DATA_DIR, \"problem.csv\"))"
   ]
  },
  {
   "cell_type": "code",
   "execution_count": 12,
   "metadata": {},
   "outputs": [
    {
     "name": "stdout",
     "output_type": "stream",
     "text": [
      "67.2% 압축됨\n",
      "68.7% 압축됨\n"
     ]
    },
    {
     "data": {
      "text/html": [
       "<div>\n",
       "<style scoped>\n",
       "    .dataframe tbody tr th:only-of-type {\n",
       "        vertical-align: middle;\n",
       "    }\n",
       "\n",
       "    .dataframe tbody tr th {\n",
       "        vertical-align: top;\n",
       "    }\n",
       "\n",
       "    .dataframe thead th {\n",
       "        text-align: right;\n",
       "    }\n",
       "</style>\n",
       "<table border=\"1\" class=\"dataframe\">\n",
       "  <thead>\n",
       "    <tr style=\"text-align: right;\">\n",
       "      <th></th>\n",
       "      <th>Id</th>\n",
       "      <th>LotArea</th>\n",
       "      <th>Street</th>\n",
       "      <th>LotConfig</th>\n",
       "      <th>OverallQual</th>\n",
       "      <th>OverallCond</th>\n",
       "      <th>YearBuilt</th>\n",
       "      <th>YearRemodAdd</th>\n",
       "      <th>TotalBsmtSF</th>\n",
       "      <th>1stFlrSF</th>\n",
       "      <th>...</th>\n",
       "      <th>HalfBath</th>\n",
       "      <th>BedroomAbvGr</th>\n",
       "      <th>KitchenAbvGr</th>\n",
       "      <th>TotRmsAbvGrd</th>\n",
       "      <th>Fireplaces</th>\n",
       "      <th>GarageType</th>\n",
       "      <th>GarageYrBlt</th>\n",
       "      <th>GarageCars</th>\n",
       "      <th>GarageArea</th>\n",
       "      <th>YrSold</th>\n",
       "    </tr>\n",
       "  </thead>\n",
       "  <tbody>\n",
       "    <tr>\n",
       "      <th>0</th>\n",
       "      <td>1341</td>\n",
       "      <td>11200</td>\n",
       "      <td>Pave</td>\n",
       "      <td>Inside</td>\n",
       "      <td>5</td>\n",
       "      <td>5</td>\n",
       "      <td>1965</td>\n",
       "      <td>1965</td>\n",
       "      <td>1040</td>\n",
       "      <td>1040</td>\n",
       "      <td>...</td>\n",
       "      <td>0</td>\n",
       "      <td>3</td>\n",
       "      <td>1</td>\n",
       "      <td>5</td>\n",
       "      <td>0</td>\n",
       "      <td>Detchd</td>\n",
       "      <td>1965</td>\n",
       "      <td>1</td>\n",
       "      <td>384</td>\n",
       "      <td>2008</td>\n",
       "    </tr>\n",
       "    <tr>\n",
       "      <th>1</th>\n",
       "      <td>1342</td>\n",
       "      <td>7200</td>\n",
       "      <td>Pave</td>\n",
       "      <td>Corner</td>\n",
       "      <td>5</td>\n",
       "      <td>7</td>\n",
       "      <td>1951</td>\n",
       "      <td>2000</td>\n",
       "      <td>900</td>\n",
       "      <td>900</td>\n",
       "      <td>...</td>\n",
       "      <td>0</td>\n",
       "      <td>3</td>\n",
       "      <td>1</td>\n",
       "      <td>5</td>\n",
       "      <td>0</td>\n",
       "      <td>Detchd</td>\n",
       "      <td>2005</td>\n",
       "      <td>2</td>\n",
       "      <td>576</td>\n",
       "      <td>2010</td>\n",
       "    </tr>\n",
       "    <tr>\n",
       "      <th>2</th>\n",
       "      <td>1343</td>\n",
       "      <td>16905</td>\n",
       "      <td>Pave</td>\n",
       "      <td>Inside</td>\n",
       "      <td>5</td>\n",
       "      <td>6</td>\n",
       "      <td>1959</td>\n",
       "      <td>1959</td>\n",
       "      <td>1350</td>\n",
       "      <td>1328</td>\n",
       "      <td>...</td>\n",
       "      <td>1</td>\n",
       "      <td>2</td>\n",
       "      <td>1</td>\n",
       "      <td>5</td>\n",
       "      <td>2</td>\n",
       "      <td>Attchd</td>\n",
       "      <td>1959</td>\n",
       "      <td>1</td>\n",
       "      <td>308</td>\n",
       "      <td>2007</td>\n",
       "    </tr>\n",
       "    <tr>\n",
       "      <th>3</th>\n",
       "      <td>1344</td>\n",
       "      <td>9180</td>\n",
       "      <td>Pave</td>\n",
       "      <td>CulDSac</td>\n",
       "      <td>5</td>\n",
       "      <td>7</td>\n",
       "      <td>1983</td>\n",
       "      <td>1983</td>\n",
       "      <td>840</td>\n",
       "      <td>884</td>\n",
       "      <td>...</td>\n",
       "      <td>0</td>\n",
       "      <td>2</td>\n",
       "      <td>1</td>\n",
       "      <td>5</td>\n",
       "      <td>0</td>\n",
       "      <td>Attchd</td>\n",
       "      <td>1983</td>\n",
       "      <td>2</td>\n",
       "      <td>504</td>\n",
       "      <td>2007</td>\n",
       "    </tr>\n",
       "    <tr>\n",
       "      <th>4</th>\n",
       "      <td>1345</td>\n",
       "      <td>7200</td>\n",
       "      <td>Pave</td>\n",
       "      <td>Inside</td>\n",
       "      <td>5</td>\n",
       "      <td>7</td>\n",
       "      <td>1920</td>\n",
       "      <td>1996</td>\n",
       "      <td>530</td>\n",
       "      <td>581</td>\n",
       "      <td>...</td>\n",
       "      <td>0</td>\n",
       "      <td>3</td>\n",
       "      <td>1</td>\n",
       "      <td>6</td>\n",
       "      <td>0</td>\n",
       "      <td>Detchd</td>\n",
       "      <td>1935</td>\n",
       "      <td>1</td>\n",
       "      <td>288</td>\n",
       "      <td>2007</td>\n",
       "    </tr>\n",
       "    <tr>\n",
       "      <th>...</th>\n",
       "      <td>...</td>\n",
       "      <td>...</td>\n",
       "      <td>...</td>\n",
       "      <td>...</td>\n",
       "      <td>...</td>\n",
       "      <td>...</td>\n",
       "      <td>...</td>\n",
       "      <td>...</td>\n",
       "      <td>...</td>\n",
       "      <td>...</td>\n",
       "      <td>...</td>\n",
       "      <td>...</td>\n",
       "      <td>...</td>\n",
       "      <td>...</td>\n",
       "      <td>...</td>\n",
       "      <td>...</td>\n",
       "      <td>...</td>\n",
       "      <td>...</td>\n",
       "      <td>...</td>\n",
       "      <td>...</td>\n",
       "      <td>...</td>\n",
       "    </tr>\n",
       "    <tr>\n",
       "      <th>125</th>\n",
       "      <td>1466</td>\n",
       "      <td>11478</td>\n",
       "      <td>Pave</td>\n",
       "      <td>Inside</td>\n",
       "      <td>8</td>\n",
       "      <td>5</td>\n",
       "      <td>2007</td>\n",
       "      <td>2008</td>\n",
       "      <td>1704</td>\n",
       "      <td>1704</td>\n",
       "      <td>...</td>\n",
       "      <td>0</td>\n",
       "      <td>3</td>\n",
       "      <td>1</td>\n",
       "      <td>7</td>\n",
       "      <td>1</td>\n",
       "      <td>Attchd</td>\n",
       "      <td>2008</td>\n",
       "      <td>3</td>\n",
       "      <td>772</td>\n",
       "      <td>2010</td>\n",
       "    </tr>\n",
       "    <tr>\n",
       "      <th>126</th>\n",
       "      <td>1467</td>\n",
       "      <td>16321</td>\n",
       "      <td>Pave</td>\n",
       "      <td>CulDSac</td>\n",
       "      <td>5</td>\n",
       "      <td>6</td>\n",
       "      <td>1957</td>\n",
       "      <td>1997</td>\n",
       "      <td>1484</td>\n",
       "      <td>1600</td>\n",
       "      <td>...</td>\n",
       "      <td>0</td>\n",
       "      <td>2</td>\n",
       "      <td>1</td>\n",
       "      <td>6</td>\n",
       "      <td>2</td>\n",
       "      <td>Attchd</td>\n",
       "      <td>1957</td>\n",
       "      <td>1</td>\n",
       "      <td>319</td>\n",
       "      <td>2006</td>\n",
       "    </tr>\n",
       "    <tr>\n",
       "      <th>127</th>\n",
       "      <td>1468</td>\n",
       "      <td>6324</td>\n",
       "      <td>Pave</td>\n",
       "      <td>Inside</td>\n",
       "      <td>4</td>\n",
       "      <td>6</td>\n",
       "      <td>1927</td>\n",
       "      <td>1950</td>\n",
       "      <td>520</td>\n",
       "      <td>520</td>\n",
       "      <td>...</td>\n",
       "      <td>0</td>\n",
       "      <td>1</td>\n",
       "      <td>1</td>\n",
       "      <td>4</td>\n",
       "      <td>0</td>\n",
       "      <td>Detchd</td>\n",
       "      <td>1920</td>\n",
       "      <td>1</td>\n",
       "      <td>240</td>\n",
       "      <td>2008</td>\n",
       "    </tr>\n",
       "    <tr>\n",
       "      <th>128</th>\n",
       "      <td>1469</td>\n",
       "      <td>8500</td>\n",
       "      <td>Pave</td>\n",
       "      <td>Inside</td>\n",
       "      <td>4</td>\n",
       "      <td>4</td>\n",
       "      <td>1920</td>\n",
       "      <td>1950</td>\n",
       "      <td>649</td>\n",
       "      <td>649</td>\n",
       "      <td>...</td>\n",
       "      <td>0</td>\n",
       "      <td>3</td>\n",
       "      <td>1</td>\n",
       "      <td>6</td>\n",
       "      <td>0</td>\n",
       "      <td>Detchd</td>\n",
       "      <td>1920</td>\n",
       "      <td>1</td>\n",
       "      <td>250</td>\n",
       "      <td>2008</td>\n",
       "    </tr>\n",
       "    <tr>\n",
       "      <th>129</th>\n",
       "      <td>1470</td>\n",
       "      <td>8544</td>\n",
       "      <td>Pave</td>\n",
       "      <td>CulDSac</td>\n",
       "      <td>5</td>\n",
       "      <td>6</td>\n",
       "      <td>1966</td>\n",
       "      <td>2006</td>\n",
       "      <td>1228</td>\n",
       "      <td>1228</td>\n",
       "      <td>...</td>\n",
       "      <td>1</td>\n",
       "      <td>3</td>\n",
       "      <td>1</td>\n",
       "      <td>6</td>\n",
       "      <td>0</td>\n",
       "      <td>Attchd</td>\n",
       "      <td>1966</td>\n",
       "      <td>1</td>\n",
       "      <td>271</td>\n",
       "      <td>2008</td>\n",
       "    </tr>\n",
       "  </tbody>\n",
       "</table>\n",
       "<p>130 rows × 23 columns</p>\n",
       "</div>"
      ],
      "text/plain": [
       "       Id  LotArea Street LotConfig  OverallQual  OverallCond  YearBuilt  \\\n",
       "0    1341    11200   Pave    Inside            5            5       1965   \n",
       "1    1342     7200   Pave    Corner            5            7       1951   \n",
       "2    1343    16905   Pave    Inside            5            6       1959   \n",
       "3    1344     9180   Pave   CulDSac            5            7       1983   \n",
       "4    1345     7200   Pave    Inside            5            7       1920   \n",
       "..    ...      ...    ...       ...          ...          ...        ...   \n",
       "125  1466    11478   Pave    Inside            8            5       2007   \n",
       "126  1467    16321   Pave   CulDSac            5            6       1957   \n",
       "127  1468     6324   Pave    Inside            4            6       1927   \n",
       "128  1469     8500   Pave    Inside            4            4       1920   \n",
       "129  1470     8544   Pave   CulDSac            5            6       1966   \n",
       "\n",
       "     YearRemodAdd  TotalBsmtSF  1stFlrSF  ...  HalfBath  BedroomAbvGr  \\\n",
       "0            1965         1040      1040  ...         0             3   \n",
       "1            2000          900       900  ...         0             3   \n",
       "2            1959         1350      1328  ...         1             2   \n",
       "3            1983          840       884  ...         0             2   \n",
       "4            1996          530       581  ...         0             3   \n",
       "..            ...          ...       ...  ...       ...           ...   \n",
       "125          2008         1704      1704  ...         0             3   \n",
       "126          1997         1484      1600  ...         0             2   \n",
       "127          1950          520       520  ...         0             1   \n",
       "128          1950          649       649  ...         0             3   \n",
       "129          2006         1228      1228  ...         1             3   \n",
       "\n",
       "     KitchenAbvGr  TotRmsAbvGrd  Fireplaces  GarageType  GarageYrBlt  \\\n",
       "0               1             5           0      Detchd         1965   \n",
       "1               1             5           0      Detchd         2005   \n",
       "2               1             5           2      Attchd         1959   \n",
       "3               1             5           0      Attchd         1983   \n",
       "4               1             6           0      Detchd         1935   \n",
       "..            ...           ...         ...         ...          ...   \n",
       "125             1             7           1      Attchd         2008   \n",
       "126             1             6           2      Attchd         1957   \n",
       "127             1             4           0      Detchd         1920   \n",
       "128             1             6           0      Detchd         1920   \n",
       "129             1             6           0      Attchd         1966   \n",
       "\n",
       "     GarageCars GarageArea  YrSold  \n",
       "0             1        384    2008  \n",
       "1             2        576    2010  \n",
       "2             1        308    2007  \n",
       "3             2        504    2007  \n",
       "4             1        288    2007  \n",
       "..          ...        ...     ...  \n",
       "125           3        772    2010  \n",
       "126           1        319    2006  \n",
       "127           1        240    2008  \n",
       "128           1        250    2008  \n",
       "129           1        271    2008  \n",
       "\n",
       "[130 rows x 23 columns]"
      ]
     },
     "execution_count": 12,
     "metadata": {},
     "output_type": "execute_result"
    }
   ],
   "source": [
    "downcast(dataset)\n",
    "downcast(problemset)"
   ]
  },
  {
   "cell_type": "markdown",
   "metadata": {},
   "source": [
    "# 전처리"
   ]
  },
  {
   "cell_type": "markdown",
   "metadata": {},
   "source": [
    "### 결측치 처리"
   ]
  },
  {
   "cell_type": "code",
   "execution_count": 13,
   "metadata": {},
   "outputs": [
    {
     "data": {
      "text/plain": [
       "Id              0\n",
       "LotArea         0\n",
       "Street          0\n",
       "LotConfig       0\n",
       "OverallQual     0\n",
       "OverallCond     0\n",
       "YearBuilt       0\n",
       "YearRemodAdd    0\n",
       "TotalBsmtSF     0\n",
       "1stFlrSF        0\n",
       "2ndFlrSF        0\n",
       "GrLivArea       0\n",
       "FullBath        0\n",
       "HalfBath        0\n",
       "BedroomAbvGr    0\n",
       "KitchenAbvGr    0\n",
       "TotRmsAbvGrd    0\n",
       "Fireplaces      0\n",
       "GarageType      0\n",
       "GarageYrBlt     0\n",
       "GarageCars      0\n",
       "GarageArea      0\n",
       "YrSold          0\n",
       "SalePrice       0\n",
       "dtype: int64"
      ]
     },
     "execution_count": 13,
     "metadata": {},
     "output_type": "execute_result"
    }
   ],
   "source": [
    "# # 결측치가 있다면 GarageType은 NO Garage로, GarageYrBlt의 값은 0으로 대체\n",
    "dataset[\"GarageType\"].fillna(\"No Garage\", inplace=True)\n",
    "dataset[\"GarageYrBlt\"].fillna(0, inplace=True)\n",
    "\n",
    "dataset.isnull().sum()"
   ]
  },
  {
   "cell_type": "code",
   "execution_count": 14,
   "metadata": {},
   "outputs": [],
   "source": [
    "#FullBath와 HalfBath를 합쳐서 Bath로 만든다\n",
    "#YearBuilt는 제거하고, 2024를 YearRemodAdd뺀 Year 열 추가, 이후 YearRemodAdd는 제거\n",
    "#총 면적을 나타내기 위해 1stFlrSF, 2ndFlrSF, TotalBsmtSF를 합쳐서 TotalFlr로 나타낸다. 나머지는 지운다\n",
    "#OverallCond제거, Id제거, KitchenAbvGr제거, YrSold제거\n",
    "\n",
    "dataset[\"Bath\"] = dataset[\"FullBath\"] + dataset[\"HalfBath\"]\n",
    "dataset[\"Year\"] = 2024 - dataset[\"YearRemodAdd\"]\n",
    "dataset[\"TotalFlr\"] = dataset[\"1stFlrSF\"] + dataset[\"2ndFlrSF\"] + dataset[\"TotalBsmtSF\"]\n",
    "\n",
    "#이후 필요없는 열 제거\n",
    "dataset.drop([\"FullBath\", \"HalfBath\", \"YearBuilt\", \"YearRemodAdd\", \"1stFlrSF\", \"2ndFlrSF\", \"TotalBsmtSF\",  \"Id\", \"KitchenAbvGr\", \"YrSold\",'Street'], axis=1, inplace=True)\n",
    "\n",
    "# # problem set 전처리\n",
    "# # problem set에도 동일한 전처리를 적용한다.\n",
    "problemset[\"Bath\"] = problemset[\"FullBath\"] + problemset[\"HalfBath\"]\n",
    "problemset[\"Year\"] = 2024 - problemset[\"YearRemodAdd\"]\n",
    "problemset[\"TotalFlr\"] = problemset[\"1stFlrSF\"] + problemset[\"2ndFlrSF\"] + problemset[\"TotalBsmtSF\"]\n",
    "#이후 필요없는 열 제거\n",
    "problemset.drop([\"FullBath\", \"HalfBath\", \"YearBuilt\", \"YearRemodAdd\", \"1stFlrSF\", \"2ndFlrSF\", \"TotalBsmtSF\", \"Id\", \"KitchenAbvGr\", \"YrSold\",'Street'], axis=1, inplace=True)\n"
   ]
  },
  {
   "cell_type": "code",
   "execution_count": 15,
   "metadata": {},
   "outputs": [],
   "source": [
    "# GrLIvArea가 4000이상인 이상치 4000으로 대체\n",
    "dataset.loc[dataset[\"GrLivArea\"] > 4000, \"GrLivArea\"] = 4000\n",
    "# LotArea가 100000이상인 이상치 100000으로 대체\n",
    "dataset.loc[dataset[\"LotArea\"] > 100000, \"LotArea\"] = 100000"
   ]
  },
  {
   "cell_type": "code",
   "execution_count": 16,
   "metadata": {},
   "outputs": [],
   "source": [
    "# GarageYrBlt가 0이 아닐시 2024에서 뺀 값으로 대체\n",
    "dataset.loc[dataset[\"GarageYrBlt\"] != 0, \"GarageYrBlt\"] = 2024 - dataset[\"GarageYrBlt\"]\n",
    "# problem set에도 동일한 전처리를 적용한다.\n",
    "problemset.loc[problemset[\"GarageYrBlt\"] != 0, \"GarageYrBlt\"] = 2024 - problemset[\"GarageYrBlt\"]"
   ]
  },
  {
   "cell_type": "code",
   "execution_count": 17,
   "metadata": {},
   "outputs": [],
   "source": [
    "# dataset과 problemset을 합치는데, 섞이지 않게 합친다\n",
    "all_data = pd.concat([dataset, problemset], ignore_index=True)\n",
    "# 범주형 변수를 더미화 시킨다\n",
    "all_data = pd.get_dummies(all_data)\n"
   ]
  },
  {
   "cell_type": "code",
   "execution_count": 18,
   "metadata": {},
   "outputs": [],
   "source": [
    "# 학습 데이터와 문제 데이터로 다시 분리\n",
    "dataset = all_data.iloc[:len(dataset)]\n",
    "problemset = all_data.iloc[len(dataset):]"
   ]
  },
  {
   "cell_type": "code",
   "execution_count": 19,
   "metadata": {},
   "outputs": [],
   "source": [
    "problemset.drop(\"SalePrice\", axis=1, inplace=True)"
   ]
  },
  {
   "cell_type": "code",
   "execution_count": null,
   "metadata": {},
   "outputs": [],
   "source": [
    "x_train = dataset.drop(\"SalePrice\", axis=1)\n",
    "y_train = dataset[\"SalePrice\"]"
   ]
  },
  {
   "cell_type": "code",
   "execution_count": 20,
   "metadata": {},
   "outputs": [],
   "source": [
    "from imblearn.over_sampling import RandomOverSampler\n",
    "\n",
    "# RandomOverSampler 객체 생성\n",
    "ros = RandomOverSampler(random_state=42)\n",
    "\n",
    "# 데이터셋 전체에 대해 오버 샘플링 적용\n",
    "x_train, y_train = ros.fit_resample(x_train, y_train)\n"
   ]
  },
  {
   "cell_type": "code",
   "execution_count": 22,
   "metadata": {},
   "outputs": [],
   "source": [
    "X = x_train"
   ]
  },
  {
   "cell_type": "code",
   "execution_count": 24,
   "metadata": {},
   "outputs": [],
   "source": [
    "y = y_train"
   ]
  },
  {
   "cell_type": "code",
   "execution_count": 25,
   "metadata": {},
   "outputs": [],
   "source": [
    "X_test = problemset"
   ]
  },
  {
   "cell_type": "code",
   "execution_count": null,
   "metadata": {},
   "outputs": [
    {
     "name": "stderr",
     "output_type": "stream",
     "text": [
      "c:\\Users\\prohe\\anaconda3\\envs\\py38\\lib\\site-packages\\scipy\\stats\\_stats_py.py:4424: ConstantInputWarning: An input array is constant; the correlation coefficient is not defined.\n",
      "  warnings.warn(stats.ConstantInputWarning(msg))\n",
      "c:\\Users\\prohe\\anaconda3\\envs\\py38\\lib\\site-packages\\scipy\\stats\\_stats_py.py:4461: NearConstantInputWarning: An input array is nearly constant; the computed correlation coefficient may be inaccurate.\n",
      "  warnings.warn(stats.NearConstantInputWarning(msg))\n"
     ]
    }
   ],
   "source": [
    "from sklearn.model_selection import KFold, cross_val_score\n",
    "from sklearn.metrics import mean_squared_error\n",
    "\n",
    "kfolds = KFold(n_splits=10, shuffle=True, random_state=42)\n",
    "\n",
    "def rmsle(y, y_pred):\n",
    "    return np.sqrt(mean_squared_error(y, y_pred))\n",
    "\n",
    "def cv_rmse(model, X=X):\n",
    "    rmse = np.sqrt(-cross_val_score(model, X, y, scoring=\"neg_mean_squared_error\", cv=kfolds))\n",
    "    return (rmse)"
   ]
  },
  {
   "cell_type": "code",
   "execution_count": null,
   "metadata": {},
   "outputs": [],
   "source": [
    "alphas_alt = [14.5, 14.6, 14.7, 14.8, 14.9, 15, 15.1, 15.2, 15.3, 15.4, 15.5]\n",
    "alphas2 = [5e-05, 0.0001, 0.0002, 0.0003, 0.0004, 0.0005, 0.0006, 0.0007, 0.0008]\n",
    "e_alphas = [0.0001, 0.0002, 0.0003, 0.0004, 0.0005, 0.0006, 0.0007]\n",
    "e_l1ratio = [0.8, 0.85, 0.9, 0.95, 0.99, 1]"
   ]
  },
  {
   "cell_type": "code",
   "execution_count": null,
   "metadata": {},
   "outputs": [
    {
     "data": {
      "text/plain": [
       "(1468, 27)"
      ]
     },
     "execution_count": 197,
     "metadata": {},
     "output_type": "execute_result"
    }
   ],
   "source": [
    "from sklearn.linear_model import LassoCV, RidgeCV, ElasticNetCV\n",
    "from sklearn.svm import SVR\n",
    "from sklearn.pipeline import make_pipeline\n",
    "from sklearn.preprocessing import RobustScaler\n",
    "\n",
    "\n",
    "ridge = make_pipeline(RobustScaler(), RidgeCV(alphas=alphas_alt, cv=kfolds))\n",
    "lasso = make_pipeline(RobustScaler(), LassoCV(max_iter=10000000, alphas=alphas2, random_state=42, cv=kfolds))\n",
    "elasticnet = make_pipeline(RobustScaler(), ElasticNetCV(max_iter=10000000, alphas=e_alphas, cv=kfolds, l1_ratio=e_l1ratio))                                \n",
    "svr = make_pipeline(RobustScaler(), SVR(C= 20, epsilon= 0.008, gamma=0.0003,))"
   ]
  },
  {
   "cell_type": "code",
   "execution_count": null,
   "metadata": {},
   "outputs": [],
   "source": [
    "from sklearn.ensemble import GradientBoostingRegressor\n",
    "gbr = GradientBoostingRegressor(n_estimators=3000, learning_rate=0.05, max_depth=4, max_features='sqrt', min_samples_leaf=15, min_samples_split=10, loss='huber', random_state =42)  "
   ]
  },
  {
   "cell_type": "code",
   "execution_count": null,
   "metadata": {},
   "outputs": [],
   "source": [
    "from xgboost import XGBRegressor\n",
    "\n",
    "xgboost = XGBRegressor(learning_rate=0.01,n_estimators=3460, max_depth=3, min_child_weight=0,\n",
    "                       gamma=0, subsample=0.7, colsample_bytree=0.7, nthread=-1,\n",
    "                       scale_pos_weight=1, seed=27, reg_alpha=0.00006)"
   ]
  },
  {
   "cell_type": "code",
   "execution_count": null,
   "metadata": {},
   "outputs": [],
   "source": [
    "from lightgbm import LGBMRegressor\n",
    "\n",
    "lightgbm = LGBMRegressor(objective='regression', num_leaves=4, learning_rate=0.01, n_estimators=5000,\n",
    "                         max_bin=200, bagging_fraction=0.75, bagging_freq=5, bagging_seed=7,\n",
    "                         feature_fraction=0.2, feature_fraction_seed=7, verbose=-1,)"
   ]
  },
  {
   "cell_type": "code",
   "execution_count": null,
   "metadata": {},
   "outputs": [],
   "source": [
    "from mlxtend.regressor import StackingCVRegressor\n",
    "\n",
    "stack_gen = StackingCVRegressor(regressors=(ridge, lasso, elasticnet, gbr, xgboost, lightgbm),\n",
    "                                meta_regressor=xgboost,\n",
    "                                use_features_in_secondary=True)"
   ]
  },
  {
   "cell_type": "code",
   "execution_count": null,
   "metadata": {},
   "outputs": [],
   "source": [
    "score1 = cv_rmse(ridge , X)\n",
    "print(\"Ridge: {:.4f} ({:.4f})\\n\".format(score1.mean(), score1.std()), )\n",
    "\n",
    "score2 = cv_rmse(lasso , X)\n",
    "print(\"LASSO: {:.4f} ({:.4f})\\n\".format(score2.mean(), score2.std()), )\n",
    "\n",
    "score3 = cv_rmse(elasticnet)\n",
    "print(\"Elastic net: {:.4f} ({:.4f})\\n\".format(score3.mean(), score3.std()), )\n",
    "\n",
    "score4 = cv_rmse(svr)\n",
    "print(\"SVR: {:.4f} ({:.4f})\\n\".format(score4.mean(), score4.std()), )\n",
    "\n",
    "score5 = cv_rmse(gbr)\n",
    "print(\"gbr: {:.4f} ({:.4f})\\n\".format(score5.mean(), score5.std()), )\n",
    "\n",
    "score6 = cv_rmse(xgboost)\n",
    "print(\"xgboost: {:.4f} ({:.4f})\\n\".format(score6.mean(), score6.std()), )\n",
    "\n",
    "score7 = cv_rmse(lightgbm)\n",
    "print(\"lightgbm: {:.4f} ({:.4f})\\n\".format(score7.mean(), score7.std()), )"
   ]
  },
  {
   "cell_type": "code",
   "execution_count": null,
   "metadata": {},
   "outputs": [],
   "source": [
    "model_performances = pd.DataFrame({\n",
    "    'Model': ['Ridge', 'Lasso', 'ElasticNet', 'SVR', 'GradientBoosting', 'XGBoost', 'LightGBM'],\n",
    "    'Score': [score1.mean(), score2.mean(), score3.mean(), score4.mean(), score5.mean(), score6.mean(), score7.mean()],\n",
    "    'Std': [score1.std(), score2.std(), score3.std(), score4.std(), score5.std(), score6.std(), score7.std()]})\n",
    "\n",
    "model_performances"
   ]
  },
  {
   "cell_type": "code",
   "execution_count": null,
   "metadata": {},
   "outputs": [],
   "source": [
    "print('START Fit')\n",
    "\n",
    "print('stack_gen')\n",
    "stack_gen_model = stack_gen.fit(np.array(X), np.array(y))\n",
    "\n",
    "print('elasticnet')\n",
    "elastic_model_full_data = elasticnet.fit(X, y)\n",
    "\n",
    "print('Lasso')\n",
    "lasso_model_full_data = lasso.fit(X, y)\n",
    "\n",
    "print('Ridge')\n",
    "ridge_model_full_data = ridge.fit(X, y)\n",
    "\n",
    "print('Svr')\n",
    "svr_model_full_data = svr.fit(X, y)\n",
    "\n",
    "print('GradientBoosting')\n",
    "gbr_model_full_data = gbr.fit(X, y)\n",
    "\n",
    "print('xgboost')\n",
    "xgb_model_full_data = xgboost.fit(X, y)\n",
    "\n",
    "print('lightgbm')\n",
    "lgb_model_full_data = lightgbm.fit(X, y)"
   ]
  },
  {
   "cell_type": "code",
   "execution_count": null,
   "metadata": {},
   "outputs": [],
   "source": [
    "print('Ridge RMSLE score on train data:')\n",
    "print(rmsle(np.expm1(y), np.expm1(ridge_model_full_data.predict(X))))\n",
    "\n",
    "print('Lasso RMSLE score on train data:')\n",
    "print(rmsle(np.expm1(y), np.expm1(lasso_model_full_data.predict(X))))\n",
    "\n",
    "print('ElasticNet RMSLE score on train data:')\n",
    "print(rmsle(np.expm1(y), np.expm1(elastic_model_full_data.predict(X))))\n",
    "\n",
    "print('SVR RMSLE score on train data:')\n",
    "print(rmsle(np.expm1(y), np.expm1(svr_model_full_data.predict(X))))\n",
    "\n",
    "print('GradientBoosting RMSLE score on train data:')\n",
    "print(rmsle(np.expm1(y), np.expm1(gbr_model_full_data.predict(X))))\n",
    "\n",
    "print('Xgboost RMSLE score on train data:')\n",
    "print(rmsle(np.expm1(y), np.expm1(xgb_model_full_data.predict(X))))\n",
    "\n",
    "print('lightgbm RMSLE score on train data:')\n",
    "print(rmsle(np.expm1(y), np.expm1(lgb_model_full_data.predict(X))))\n",
    "\n",
    "print('stack_gen RMSLE score on train data:')\n",
    "print(rmsle(np.expm1(y), np.expm1(stack_gen_model.predict(np.array(X)))))"
   ]
  },
  {
   "cell_type": "code",
   "execution_count": null,
   "metadata": {},
   "outputs": [],
   "source": [
    "def blend_models_predict(X):\n",
    "    return ((0.25 * elastic_model_full_data.predict(X)) + \\\n",
    "            (0.2 * lasso_model_full_data.predict(X)) + \\\n",
    "            (0.15 * ridge_model_full_data.predict(X)) + \\\n",
    "            (0.2 * svr_model_full_data.predict(X)) + \\\n",
    "            (0.05 * gbr_model_full_data.predict(X)) + \\\n",
    "            (0.05 * xgb_model_full_data.predict(X)) + \\\n",
    "            (0.05 * lgb_model_full_data.predict(X)) + \\\n",
    "            (0.05 * stack_gen_model.predict(np.array(X))))"
   ]
  },
  {
   "cell_type": "code",
   "execution_count": null,
   "metadata": {},
   "outputs": [],
   "source": [
    "print('RMSLE score on train data:')\n",
    "print(rmsle(y, blend_models_predict(X)))\n",
    "print('RMSLE score on train data:')\n",
    "print(rmsle(np.expm1(y), np.expm1(blend_models_predict(X))))"
   ]
  },
  {
   "cell_type": "code",
   "execution_count": null,
   "metadata": {},
   "outputs": [],
   "source": [
    "# 리더보드 서버 제출을 위한 파일 생성\n",
    "submission = pd.read_csv(os.path.join(DATA_DIR, \"submission.csv\"))\n",
    "submission[\"SalePrice\"] = (np.expm1(blend_models_predict(X_test)))\n",
    "\n",
    "# 예측 결과 화면에 출력 후 제출\n",
    "display(submission)\n",
    "competition.submit(project, username, password, submission)"
   ]
  }
 ],
 "metadata": {
  "kernelspec": {
   "display_name": "py38",
   "language": "python",
   "name": "python3"
  },
  "language_info": {
   "codemirror_mode": {
    "name": "ipython",
    "version": 3
   },
   "file_extension": ".py",
   "mimetype": "text/x-python",
   "name": "python",
   "nbconvert_exporter": "python",
   "pygments_lexer": "ipython3",
   "version": "3.9.13"
  }
 },
 "nbformat": 4,
 "nbformat_minor": 2
}
