{
 "cells": [
  {
   "cell_type": "markdown",
   "metadata": {},
   "source": [
    "### 합성곱\n",
    "합성곱은 마치 입력 데이터에 마법의 도장을 찍어서 유용한 특성만 드러나게 하는 것이다\n",
    "\n",
    "합성곱 계산을 통해 얻은 출력을 특별히 *특성맵*이라고 부른다\n",
    "특성 맵은 활성화 함수를 통과한 값을 나타낸다\n",
    "\n",
    "3개의 필터를 사용하면 (2,2,3) 크기의 3차원 배열이 된다\n",
    "\n",
    "밀집층에 있는 뉴런의 가중치가 모두 다르듯이 합성곱 층에 있는 필터의 가중치도 모두 다르다.\n",
    "너무도 당연하게 같이 가중치를 가진 필터를 여러 개 사용할 이유가 없다\n",
    "\n",
    "2차원 구조를 사용함으로서 합성곱 신경망이 이미지 처리 분야에서 뛰어난 성능을 발휘한다"
   ]
  },
  {
   "cell_type": "code",
   "execution_count": 1,
   "metadata": {},
   "outputs": [
    {
     "data": {
      "text/plain": [
       "<Conv2D name=conv2d, built=False>"
      ]
     },
     "execution_count": 1,
     "metadata": {},
     "output_type": "execute_result"
    }
   ],
   "source": [
    "from tensorflow import keras\n",
    "keras.layers.Conv2D(10,kernel_size=(3,3),activation='relu')"
   ]
  },
  {
   "cell_type": "markdown",
   "metadata": {},
   "source": [
    "### 패딩과 스트라이드\n",
    "입력과 특성 맵의 크기를 동일하게 만들기 위해 입력 주위에 0으로 패딩하는 것을  *same padding*이라고 한다\n",
    "패딩 없이 순수한 입력 배열에서만 합성곱을 하여 특성 맵을 만드는 경우를 *valid padding*이라고 한다\n",
    "#### 그런데 왜 패딩을 하는가?\n",
    "##### 커널 안의 원소 중 합성곱 계산에 포함이 덜 되거나 더 되는 원소가 생길 수 밖에 없는데 이러한 비율을 조정해준다\n",
    "##### 이처럼 적절한 패딩은 이미지의 주변에 있는 정보를 잃어버리지 않게 해준다 일반적으로 same padding이 자주 쓰인다\n",
    "#### 스트라이드는 이동의 크기를 말한다 기본적으로 1이다\n",
    "#### 풀링은 합성곱 층에서 만든 특성 맵의 가로세로 크기를 줄이는 역할을 수행한다 그러나 특성 맵의 개수는 줄이지 않는다\n",
    "예를 들어 (2,2,3)에 풀링을 적용하면 (1,1,3)이 된다\n"
   ]
  },
  {
   "cell_type": "markdown",
   "metadata": {},
   "source": [
    "풀링도 합성곱처럼 입력 위를 지나가면서 도장을 찍는다\n",
    "#### 풀링에는 가중치가 없다 max pooling이나 average pooling을 사용한다\n",
    "특성 맵이 여러개라면 동일한 작업을 반복한다\n",
    "즉 10개의 특성 맵이 있다면 풀링을 거친 특성 맵도 10개가 된다\n",
    "(2,2) 풀링이면 2칸씩, (3,3) 풀링이면 3칸씩 이동한다\n",
    "### 많은 경우 평균 풀링보다 최대 풀링을 많이 사용하는데, 평균 풀링은 특성 맵에 있는 중요한 정보를 희석시킬 수 있기 때문이다\n",
    "*풀링은 가로세로 방향으로만 진행하며 특성 맵의 개수는 변하지 않고 그대로이다\n",
    "\n",
    "합성곱 신경망은 너비와 높이는 점점 줄어들고 깊이는 점점 깊어지는 것이 특징이다\n",
    "그리고 마지막에 출력층 전에 특성 맵을 모두 펼쳐서 밀집츠의 입력으로 사용한다"
   ]
  }
 ],
 "metadata": {
  "kernelspec": {
   "display_name": "Python 3",
   "language": "python",
   "name": "python3"
  },
  "language_info": {
   "codemirror_mode": {
    "name": "ipython",
    "version": 3
   },
   "file_extension": ".py",
   "mimetype": "text/x-python",
   "name": "python",
   "nbconvert_exporter": "python",
   "pygments_lexer": "ipython3",
   "version": "3.12.1"
  }
 },
 "nbformat": 4,
 "nbformat_minor": 2
}
