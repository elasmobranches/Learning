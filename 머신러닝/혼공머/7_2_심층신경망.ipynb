{
  "nbformat": 4,
  "nbformat_minor": 0,
  "metadata": {
    "colab": {
      "provenance": []
    },
    "kernelspec": {
      "name": "python3",
      "display_name": "Python 3"
    },
    "language_info": {
      "name": "python"
    }
  },
  "cells": [
    {
      "cell_type": "code",
      "execution_count": 1,
      "metadata": {
        "id": "3Q4hGWh-8_vm"
      },
      "outputs": [],
      "source": [
        "# 실행마다 동일한 결과를 얻기 위해 케라스에 랜덤 시드를 사용하고 텐서플로 연산을 결정적으로 만듭니다.\n",
        "import tensorflow as tf\n",
        "\n",
        "tf.keras.utils.set_random_seed(42)\n",
        "tf.config.experimental.enable_op_determinism()"
      ]
    },
    {
      "cell_type": "code",
      "source": [
        "from tensorflow import keras\n",
        "\n",
        "(train_input, train_target), (test_input, test_target) = keras.datasets.fashion_mnist.load_data()\n",
        "\n",
        "from sklearn.model_selection import train_test_split\n",
        "\n",
        "train_scaled = train_input / 255.0\n",
        "train_scaled = train_scaled.reshape(-1, 28*28)\n",
        "\n",
        "train_scaled, val_scaled, train_target, val_target = train_test_split(\n",
        "    train_scaled, train_target, test_size=0.2, random_state=42)"
      ],
      "metadata": {
        "colab": {
          "base_uri": "https://localhost:8080/"
        },
        "id": "kW2ujxkE_TiC",
        "outputId": "5b6fa59c-ad78-44c3-f08f-07cb26d09986"
      },
      "execution_count": 2,
      "outputs": [
        {
          "output_type": "stream",
          "name": "stdout",
          "text": [
            "Downloading data from https://storage.googleapis.com/tensorflow/tf-keras-datasets/train-labels-idx1-ubyte.gz\n",
            "29515/29515 [==============================] - 0s 0us/step\n",
            "Downloading data from https://storage.googleapis.com/tensorflow/tf-keras-datasets/train-images-idx3-ubyte.gz\n",
            "26421880/26421880 [==============================] - 0s 0us/step\n",
            "Downloading data from https://storage.googleapis.com/tensorflow/tf-keras-datasets/t10k-labels-idx1-ubyte.gz\n",
            "5148/5148 [==============================] - 0s 0us/step\n",
            "Downloading data from https://storage.googleapis.com/tensorflow/tf-keras-datasets/t10k-images-idx3-ubyte.gz\n",
            "4422102/4422102 [==============================] - 0s 0us/step\n"
          ]
        }
      ]
    },
    {
      "cell_type": "markdown",
      "source": [
        "분류 문제에서는 클래스에 대한 확률을 출력하기 위해 활성화 함수를 사용한다\n",
        "회귀의 출력은 임의의 어떤 숫자이므로 활성화 함수를 적용할 필요가 없다\n",
        "즉 출력층의 선형 방정식의 계산을 그대로 출력한다\n",
        "이렇게 하기 위해 Dense층의 activation 매개변수에 아무런 값을 지정하지 않는다"
      ],
      "metadata": {
        "id": "e8EpxlCc_8rl"
      }
    },
    {
      "cell_type": "code",
      "source": [
        "dense1 = keras.layers.Dense(100, activation = 'sigmoid', input_shape=(784,))\n",
        "dense2 = keras.layers.Dense(10, activation = 'softmax')"
      ],
      "metadata": {
        "id": "-KfueaiN_bfd"
      },
      "execution_count": 3,
      "outputs": []
    },
    {
      "cell_type": "code",
      "source": [
        "model = keras.Sequential([dense1, dense2])"
      ],
      "metadata": {
        "id": "sOEgPv3JBjtU"
      },
      "execution_count": 4,
      "outputs": []
    },
    {
      "cell_type": "code",
      "source": [
        "model.summary()"
      ],
      "metadata": {
        "colab": {
          "base_uri": "https://localhost:8080/"
        },
        "id": "iAnlsJ5WBolp",
        "outputId": "0ca163c5-fc9a-410a-bda2-1287974d95d0"
      },
      "execution_count": 5,
      "outputs": [
        {
          "output_type": "stream",
          "name": "stdout",
          "text": [
            "Model: \"sequential\"\n",
            "_________________________________________________________________\n",
            " Layer (type)                Output Shape              Param #   \n",
            "=================================================================\n",
            " dense (Dense)               (None, 100)               78500     \n",
            "                                                                 \n",
            " dense_1 (Dense)             (None, 10)                1010      \n",
            "                                                                 \n",
            "=================================================================\n",
            "Total params: 79510 (310.59 KB)\n",
            "Trainable params: 79510 (310.59 KB)\n",
            "Non-trainable params: 0 (0.00 Byte)\n",
            "_________________________________________________________________\n"
          ]
        }
      ]
    },
    {
      "cell_type": "code",
      "source": [
        "model = keras.Sequential()\n",
        "model.add(keras.layers.Dense(100, activation='sigmoid', input_shape= (784,)))\n",
        "model.add(keras.layers.Dense(10,activation='softmax'))\n"
      ],
      "metadata": {
        "id": "2HsNdIhbCKVU"
      },
      "execution_count": 6,
      "outputs": []
    },
    {
      "cell_type": "code",
      "source": [
        "model.summary()"
      ],
      "metadata": {
        "colab": {
          "base_uri": "https://localhost:8080/"
        },
        "id": "LiYVB4j3I4tw",
        "outputId": "8976f8fd-598a-4144-f0bd-697149f5368a"
      },
      "execution_count": 8,
      "outputs": [
        {
          "output_type": "stream",
          "name": "stdout",
          "text": [
            "Model: \"sequential_1\"\n",
            "_________________________________________________________________\n",
            " Layer (type)                Output Shape              Param #   \n",
            "=================================================================\n",
            " dense_2 (Dense)             (None, 100)               78500     \n",
            "                                                                 \n",
            " dense_3 (Dense)             (None, 10)                1010      \n",
            "                                                                 \n",
            "=================================================================\n",
            "Total params: 79510 (310.59 KB)\n",
            "Trainable params: 79510 (310.59 KB)\n",
            "Non-trainable params: 0 (0.00 Byte)\n",
            "_________________________________________________________________\n"
          ]
        }
      ]
    },
    {
      "cell_type": "code",
      "source": [
        "model.compile(loss='sparse_categorical_crossentropy', metrics='accuracy')\n",
        "model.fit(train_scaled, train_target, epochs=5)"
      ],
      "metadata": {
        "colab": {
          "base_uri": "https://localhost:8080/"
        },
        "id": "DskQBWm5I-Xe",
        "outputId": "cf1ff6a9-418a-4b93-cba2-ebc18bbf1a55"
      },
      "execution_count": 9,
      "outputs": [
        {
          "output_type": "stream",
          "name": "stdout",
          "text": [
            "Epoch 1/5\n",
            "1500/1500 [==============================] - 6s 3ms/step - loss: 0.5706 - accuracy: 0.8067\n",
            "Epoch 2/5\n",
            "1500/1500 [==============================] - 10s 7ms/step - loss: 0.4119 - accuracy: 0.8516\n",
            "Epoch 3/5\n",
            "1500/1500 [==============================] - 6s 4ms/step - loss: 0.3767 - accuracy: 0.8653\n",
            "Epoch 4/5\n",
            "1500/1500 [==============================] - 4s 3ms/step - loss: 0.3521 - accuracy: 0.8734\n",
            "Epoch 5/5\n",
            "1500/1500 [==============================] - 4s 3ms/step - loss: 0.3335 - accuracy: 0.8784\n"
          ]
        },
        {
          "output_type": "execute_result",
          "data": {
            "text/plain": [
              "<keras.src.callbacks.History at 0x7fb652f58640>"
            ]
          },
          "metadata": {},
          "execution_count": 9
        }
      ]
    },
    {
      "cell_type": "markdown",
      "source": [
        "시그모이드의 단점 : 왼쪽 끝과 오른쪽 끝으로 갈 수록 그래프가 누워있기에 올바른 출력을 만드는데 신속하게 대응하지 못한다  \n"
      ],
      "metadata": {
        "id": "0kvoubpYLRcm"
      }
    },
    {
      "cell_type": "code",
      "source": [
        "model = keras.Sequential()\n",
        "model.add(keras.layers.Flatten(input_shape=(28,28)))\n",
        "model.add(keras.layers.Dense(100,activation='relu'))\n",
        "model.add(keras.layers.Dense(10,activation='softmax'))\n"
      ],
      "metadata": {
        "id": "-lP5F_s9MPvs"
      },
      "execution_count": 14,
      "outputs": []
    },
    {
      "cell_type": "code",
      "source": [
        "(train_input, train_target), (test_input, test_target) = keras.datasets.fashion_mnist.load_data()\n",
        "train_scaled = train_input /255.0\n",
        "train_scaled, val_scaled, train_target, val_target = train_test_split(train_scaled, train_target, test_size = 0.2 ,random_state=42)"
      ],
      "metadata": {
        "id": "s2vBelcxQYvv"
      },
      "execution_count": 15,
      "outputs": []
    },
    {
      "cell_type": "code",
      "source": [
        "model.compile(loss='sparse_categorical_crossentropy', metrics='accuracy')\n",
        "model.fit(train_scaled, train_target,epochs = 5)"
      ],
      "metadata": {
        "colab": {
          "base_uri": "https://localhost:8080/"
        },
        "id": "hARYhl4YRSEv",
        "outputId": "de8be297-7510-4153-f495-b3b8d5352b7b"
      },
      "execution_count": 16,
      "outputs": [
        {
          "output_type": "stream",
          "name": "stdout",
          "text": [
            "Epoch 1/5\n",
            "1500/1500 [==============================] - 6s 4ms/step - loss: 0.5343 - accuracy: 0.8115\n",
            "Epoch 2/5\n",
            "1500/1500 [==============================] - 4s 3ms/step - loss: 0.3937 - accuracy: 0.8580\n",
            "Epoch 3/5\n",
            "1500/1500 [==============================] - 5s 3ms/step - loss: 0.3542 - accuracy: 0.8712\n",
            "Epoch 4/5\n",
            "1500/1500 [==============================] - 5s 4ms/step - loss: 0.3313 - accuracy: 0.8808\n",
            "Epoch 5/5\n",
            "1500/1500 [==============================] - 5s 3ms/step - loss: 0.3150 - accuracy: 0.8858\n"
          ]
        },
        {
          "output_type": "execute_result",
          "data": {
            "text/plain": [
              "<keras.src.callbacks.History at 0x7fb64b6b8550>"
            ]
          },
          "metadata": {},
          "execution_count": 16
        }
      ]
    },
    {
      "cell_type": "markdown",
      "source": [
        "![image.png](data:image/png;base64,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)\n",
        "\n",
        "## [적응형학습률](https://kh-kim.github.io/nlp_with_deep_learning_blog/docs/1-11-optimizer/03-adaptive_lr/)"
      ],
      "metadata": {
        "id": "ZhA3EyIWZJlp"
      }
    },
    {
      "cell_type": "code",
      "source": [
        "model.evaluate(val_scaled, val_target)"
      ],
      "metadata": {
        "colab": {
          "base_uri": "https://localhost:8080/"
        },
        "id": "H5tmi8bvR5U6",
        "outputId": "a945a4a6-bfcd-4189-b673-ae62c9ff1313"
      },
      "execution_count": 17,
      "outputs": [
        {
          "output_type": "stream",
          "name": "stdout",
          "text": [
            "375/375 [==============================] - 1s 3ms/step - loss: 0.3680 - accuracy: 0.8700\n"
          ]
        },
        {
          "output_type": "execute_result",
          "data": {
            "text/plain": [
              "[0.36804845929145813, 0.8700000047683716]"
            ]
          },
          "metadata": {},
          "execution_count": 17
        }
      ]
    },
    {
      "cell_type": "code",
      "source": [
        "model.compile(optimizer = 'sgd', loss = 'sparse_categorical_crossentropy',metrics = 'accuracy')\n"
      ],
      "metadata": {
        "id": "YlbJf44kS7Ck"
      },
      "execution_count": null,
      "outputs": []
    },
    {
      "cell_type": "markdown",
      "source": [],
      "metadata": {
        "id": "g9C0Ce2gZ3eR"
      }
    }
  ]
}