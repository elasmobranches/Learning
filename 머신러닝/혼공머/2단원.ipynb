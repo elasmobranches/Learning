{
 "cells": [
  {
   "cell_type": "markdown",
   "metadata": {},
   "source": [
    "# 2단원\n",
    "\n",
    "### 머신러닝 알고리즘은 지도 학습과 비지도 학습으로 분류한다\n",
    "\n",
    "평가에 사용하는 데이터를 테스트 세트, 훈련에 사용되는 데이터를 훈련 세트\n",
    "\n",
    "샘플링 편향을 막기 위해 골고루 잘 섞어줘야 한다\n",
    "\n",
    "## 데이터 전처리\n",
    "\n",
    "np.column_stacks를 통해 리스트를 일렬로 세운 후 차례대로 연결\n",
    "\n",
    "np.concatenate()를 통해 리스트를 가로로 세운 후 차례대로 연결\n",
    "\n",
    "### 사이킷런으로 훈련 세트와 테스트 세트 나누기"
   ]
  },
  {
   "cell_type": "code",
   "execution_count": null,
   "metadata": {},
   "outputs": [],
   "source": [
    "from sklearn.model_selection import train_test_split\n",
    "train_input, test_input, train_target, test_target = train_test_split\n",
    "(fish_input,fish_target)"
   ]
  },
  {
   "cell_type": "markdown",
   "metadata": {},
   "source": [
    "### 전처리를 하는 이유\n",
    "\n",
    "feature간의 scale이 다르다면 즉 데이터를 표현하는 기준이 다르다면 알고리즘이 올바르게 예측할 수 없다. 알고리즘이 거리 기반일 때 특히 그렇다\n",
    "\n",
    "**제대로 사용하려면 특성값을 일정한 기준으로 맞춰 주어야 한다**\n",
    "\n",
    "가장 널리 사용되는 방법은 **표준점수**\n",
    "\n",
    "- 넘파이 브로드캐스팅\n",
    "    \n",
    "    [Python 기초 - NumPy Broadcasting 이해하기 (2)](https://sacko.tistory.com/16)\n",
    "    \n",
    "\n",
    "**테스트 세트 또한 훈련 세트의 평균과 표준편차로 변환해야 데이터 스케일이 같아진다**"
   ]
  }
 ],
 "metadata": {
  "language_info": {
   "name": "python"
  }
 },
 "nbformat": 4,
 "nbformat_minor": 2
}
